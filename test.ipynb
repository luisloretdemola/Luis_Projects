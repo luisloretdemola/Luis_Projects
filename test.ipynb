{
 "cells": [
  {
   "cell_type": "code",
   "execution_count": 1,
   "metadata": {},
   "outputs": [],
   "source": [
    "import pandas as pd\n",
    "import datetime as dt\n",
    "import numpy as np\n",
    "import snowflake.connector\n",
    "import os"
   ]
  },
  {
   "cell_type": "code",
   "execution_count": 5,
   "metadata": {},
   "outputs": [
    {
     "name": "stdout",
     "output_type": "stream",
     "text": [
      "Initiating login request with your identity provider. A browser window should have opened for you to complete the login. If you can't see it, check existing browser windows, or your OS settings. Press CTRL+C to abort and try again...\n",
      "Going to open: https://justworks.cloudflareaccess.com/cdn-cgi/access/sso/saml/d74bc06bca5abf66677a16a11e6235e70f0ac75f0e462ccdea97b5bcb5cab993?SAMLRequest=lZNdb9owFIb%2FSuRdJ45DPoYFVHyMFa1srEAvdufYDngkdmY7Dfz7OqRInaZW2l108h4%2F7zmvPbo7V6X3zLURSo4BCkLgcUkVE%2FIwBvvd0v8MPGOJZKRUko%2FBhRtwNxkZUpU1njb2KB%2F5n4Yb67mDpMHdjzFotMSKGGGwJBU32FK8na4fcBSEmBjDtXU48NrCjHCso7U1hrBt26AdBEofYBSGIQyH0Kk6ySfwBlF%2FzKi1soqq8tZydjO9g0AwjDuEUzjC5rVxJmS%2Fgo8oeS8y%2BH632%2FibH9sd8Ka36eZKmqbiesv1s6B8%2F%2FjQGzDOwe%2FG2Fbpk%2FErImRgpGqLkpw4VVXdWHdk4L5gwRks1UG4Ra0WY1CfBKP3%2B3KmL09p82WWtoSetsnXeXGc25%2B75DRcrL%2FV%2Bea8TJIpW1PgPd1ijbpYV8Y0fCW7MK0rhVHsI%2BSjeIdiPBjgKAoShH4Bb%2BHCFJLYa%2Bc%2FjgNaqoY5t5oTSrkxV6uUSZ8eBOxL0BgFu5Qgy%2BKchmlOSULyIk3TLCMoJQjxNBokPAuLkNAsKUIepxGljJNhlic5zRNK8uFwAPqbhq%2Fe9eS%2F9jeCb1tfb%2Bx3F%2BJqsVGloBdvqXRF7PsZowBdK4L5xVWKueOVU8a0m9JlXZaqnbtFWPcwrG44gJOe%2BvfTmLwA&RelayState=ver%3A1-hint%3A5006656328985510-ETMsDgAAAZMrF9VPABRBRVMvQ0JDL1BLQ1M1UGFkZGluZwEAABAAEF355YI%2BaAl2xg9iyEE%2B1pIAAACAf%2B64wndkWQt2611JucNwM7%2F4i79CF13RRb%2Fu31zdUh3hIAAABzi6uFn845qDYAKsvaqTmRIvDFU66ER1NUJFYfAdZw8tOsxG4%2BNiQOIikB4XwGlr0BWG8ailNLDx4v3%2BeUvwab4ns8KLXnjaoKfHals0oW0L4yY5gb0dIsEWHc8AFLz2IeEYJX3XsD8mgTtuk%2BCS6aRQ to authenticate...\n"
     ]
    }
   ],
   "source": [
    "conn = snowflake.connector.connect(account ='justworks-main',\n",
    "                                         user= 'lmola@justworks.com',\n",
    "                                         authenticator=\"externalbrowser\")\n",
    "#cur = conn.cursor()"
   ]
  },
  {
   "cell_type": "code",
   "execution_count": null,
   "metadata": {},
   "outputs": [],
   "source": []
  }
 ],
 "metadata": {
  "kernelspec": {
   "display_name": "Python 3",
   "language": "python",
   "name": "python3"
  },
  "language_info": {
   "codemirror_mode": {
    "name": "ipython",
    "version": 3
   },
   "file_extension": ".py",
   "mimetype": "text/x-python",
   "name": "python",
   "nbconvert_exporter": "python",
   "pygments_lexer": "ipython3",
   "version": "3.11.7"
  }
 },
 "nbformat": 4,
 "nbformat_minor": 2
}
