{
 "cells": [
  {
   "cell_type": "code",
   "execution_count": 1,
   "metadata": {},
   "outputs": [],
   "source": [
    "import numpy as np\n",
    "import pandas as pd"
   ]
  },
  {
   "cell_type": "code",
   "execution_count": 2,
   "metadata": {},
   "outputs": [],
   "source": [
    "#!pip install papermill"
   ]
  },
  {
   "cell_type": "code",
   "execution_count": 3,
   "metadata": {},
   "outputs": [],
   "source": [
    "#Define Parameters\n",
    "\n",
    "\n",
    "#MSA_MARKET = \"New York\"\n",
    "#STATE = \"New York\"\n",
    "#BRAND_MSA = \"New York, NY\"\n",
    "\n",
    "BRAND_MSA_list = [\"Austin, TX\", \"Denver, CO\", \"Los Angeles, CA\", \"Miami-Ft. Lauderdale, FL\", \n",
    "                  \"New York, NY\", \"San Francisco-Oakland-San Jose, CA\"]\n",
    "\n",
    "# Used as contains filter \n",
    "MSA_MARKET_list = [\"Austin\", \"Denver\", \"Los Angeles\", \"Miami\", \"New York\", \"San Francisco\"]"
   ]
  },
  {
   "cell_type": "code",
   "execution_count": 4,
   "metadata": {},
   "outputs": [
    {
     "data": {
      "text/plain": [
       "{'Austin': 'Austin, TX',\n",
       " 'Denver': 'Denver, CO',\n",
       " 'Los Angeles': 'Los Angeles, CA',\n",
       " 'Miami': 'Miami-Ft. Lauderdale, FL',\n",
       " 'New York': 'New York, NY',\n",
       " 'San Francisco': 'San Francisco-Oakland-San Jose, CA'}"
      ]
     },
     "execution_count": 4,
     "metadata": {},
     "output_type": "execute_result"
    }
   ],
   "source": [
    "\n",
    "msa_dict = {market: brand for market, brand in zip(MSA_MARKET_list, BRAND_MSA_list)}\n",
    "\n",
    "msa_dict"
   ]
  },
  {
   "cell_type": "code",
   "execution_count": 5,
   "metadata": {},
   "outputs": [
    {
     "name": "stderr",
     "output_type": "stream",
     "text": [
      "Passed unknown parameter: MSA_MARKET\n",
      "Passed unknown parameter: BRAND_MSA\n",
      "Input notebook does not contain a cell with tag 'parameters'\n",
      "/Users/lmola/.pyenv/versions/3.11.7/lib/python3.11/site-packages/tqdm/auto.py:21: TqdmWarning: IProgress not found. Please update jupyter and ipywidgets. See https://ipywidgets.readthedocs.io/en/stable/user_install.html\n",
      "  from .autonotebook import tqdm as notebook_tqdm\n"
     ]
    },
    {
     "name": "stdout",
     "output_type": "stream",
     "text": [
      "Key: Austin, Value: Austin, TX\n",
      "\n"
     ]
    },
    {
     "name": "stderr",
     "output_type": "stream",
     "text": [
      "Executing: 100%|██████████| 68/68 [01:24<00:00,  1.24s/cell]\n",
      "Passed unknown parameter: MSA_MARKET\n",
      "Passed unknown parameter: BRAND_MSA\n",
      "Input notebook does not contain a cell with tag 'parameters'\n"
     ]
    },
    {
     "name": "stdout",
     "output_type": "stream",
     "text": [
      "Key: Denver, Value: Denver, CO\n",
      "\n"
     ]
    },
    {
     "name": "stderr",
     "output_type": "stream",
     "text": [
      "Executing: 100%|██████████| 68/68 [01:19<00:00,  1.16s/cell]\n",
      "Passed unknown parameter: MSA_MARKET\n",
      "Passed unknown parameter: BRAND_MSA\n",
      "Input notebook does not contain a cell with tag 'parameters'\n"
     ]
    },
    {
     "name": "stdout",
     "output_type": "stream",
     "text": [
      "Key: Los Angeles, Value: Los Angeles, CA\n",
      "\n"
     ]
    },
    {
     "name": "stderr",
     "output_type": "stream",
     "text": [
      "Executing: 100%|██████████| 68/68 [01:16<00:00,  1.13s/cell]\n",
      "Passed unknown parameter: MSA_MARKET\n",
      "Passed unknown parameter: BRAND_MSA\n",
      "Input notebook does not contain a cell with tag 'parameters'\n"
     ]
    },
    {
     "name": "stdout",
     "output_type": "stream",
     "text": [
      "Key: Miami, Value: Miami-Ft. Lauderdale, FL\n",
      "\n"
     ]
    },
    {
     "name": "stderr",
     "output_type": "stream",
     "text": [
      "Executing: 100%|██████████| 68/68 [01:13<00:00,  1.09s/cell]\n",
      "Passed unknown parameter: MSA_MARKET\n",
      "Passed unknown parameter: BRAND_MSA\n",
      "Input notebook does not contain a cell with tag 'parameters'\n"
     ]
    },
    {
     "name": "stdout",
     "output_type": "stream",
     "text": [
      "Key: New York, Value: New York, NY\n",
      "\n"
     ]
    },
    {
     "name": "stderr",
     "output_type": "stream",
     "text": [
      "Executing: 100%|██████████| 68/68 [01:49<00:00,  1.61s/cell]\n",
      "Passed unknown parameter: MSA_MARKET\n",
      "Passed unknown parameter: BRAND_MSA\n",
      "Input notebook does not contain a cell with tag 'parameters'\n"
     ]
    },
    {
     "name": "stdout",
     "output_type": "stream",
     "text": [
      "Key: San Francisco, Value: San Francisco-Oakland-San Jose, CA\n",
      "\n"
     ]
    },
    {
     "name": "stderr",
     "output_type": "stream",
     "text": [
      "Executing: 100%|██████████| 68/68 [01:19<00:00,  1.16s/cell]\n"
     ]
    }
   ],
   "source": [
    "import papermill as pm\n",
    "\n",
    "for key, value in msa_dict.items():\n",
    "    # MSA_MARKET = key\n",
    "    # BRAND_MSA = value\n",
    "    print(f\"Key: {key}, Value: {value}\")\n",
    "    print(\"\")\n",
    "    #print(f\"Key: {MSA_MARKET}, Value: {BRAND_MSA}\")\n",
    "    #print(\"\")\n",
    "\n",
    "    parameters = {\n",
    "        \"MSA_MARKET\": key,\n",
    "        \"BRAND_MSA\": value\n",
    "    }\n",
    "\n",
    "    # Define paths\n",
    "    source_notebook = \"clean_auto_Causal_Impact_IO.ipynb\"  # Target notebook\n",
    "    output_notebook = f\"{key}_executed_analysis.ipynb\"  # Output notebook\n",
    "    # Execute the notebook\n",
    "    pm.execute_notebook(source_notebook, output_notebook, parameters=parameters)\n",
    "\n"
   ]
  }
 ],
 "metadata": {
  "kernelspec": {
   "display_name": "3.11.7",
   "language": "python",
   "name": "python3"
  },
  "language_info": {
   "codemirror_mode": {
    "name": "ipython",
    "version": 3
   },
   "file_extension": ".py",
   "mimetype": "text/x-python",
   "name": "python",
   "nbconvert_exporter": "python",
   "pygments_lexer": "ipython3",
   "version": "3.11.7"
  }
 },
 "nbformat": 4,
 "nbformat_minor": 2
}
