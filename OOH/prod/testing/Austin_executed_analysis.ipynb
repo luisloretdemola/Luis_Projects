{
 "cells": [
  {
   "cell_type": "code",
   "execution_count": 1,
   "id": "c8d4c39b",
   "metadata": {
    "execution": {
     "iopub.execute_input": "2024-11-22T00:46:46.365196Z",
     "iopub.status.busy": "2024-11-22T00:46:46.365002Z",
     "iopub.status.idle": "2024-11-22T00:46:46.370320Z",
     "shell.execute_reply": "2024-11-22T00:46:46.370003Z"
    },
    "papermill": {
     "duration": 0.013616,
     "end_time": "2024-11-22T00:46:46.371276",
     "exception": false,
     "start_time": "2024-11-22T00:46:46.357660",
     "status": "completed"
    },
    "tags": [
     "injected-parameters"
    ]
   },
   "outputs": [],
   "source": [
    "# Parameters\n",
    "MSA_MARKET = \"Austin\"\n",
    "BRAND_MSA = \"Austin, TX\"\n"
   ]
  },
  {
   "cell_type": "code",
   "execution_count": 2,
   "id": "29376951",
   "metadata": {
    "execution": {
     "iopub.execute_input": "2024-11-22T00:46:46.381955Z",
     "iopub.status.busy": "2024-11-22T00:46:46.381813Z",
     "iopub.status.idle": "2024-11-22T00:46:46.796543Z",
     "shell.execute_reply": "2024-11-22T00:46:46.796196Z"
    },
    "papermill": {
     "duration": 0.420382,
     "end_time": "2024-11-22T00:46:46.797338",
     "exception": false,
     "start_time": "2024-11-22T00:46:46.376956",
     "status": "completed"
    },
    "tags": []
   },
   "outputs": [],
   "source": [
    "import pandas as pd\n",
    "import datetime as dt\n",
    "import numpy as np\n",
    "from snowflake.connector.pandas_tools import write_pandas\n",
    "import snowflake.connector\n",
    "import os\n",
    "\n"
   ]
  },
  {
   "cell_type": "code",
   "execution_count": 3,
   "id": "f2909ec9",
   "metadata": {
    "execution": {
     "iopub.execute_input": "2024-11-22T00:46:46.804378Z",
     "iopub.status.busy": "2024-11-22T00:46:46.804246Z",
     "iopub.status.idle": "2024-11-22T00:47:27.771076Z",
     "shell.execute_reply": "2024-11-22T00:47:27.770682Z"
    },
    "papermill": {
     "duration": 40.976354,
     "end_time": "2024-11-22T00:47:27.777100",
     "exception": false,
     "start_time": "2024-11-22T00:46:46.800746",
     "status": "completed"
    },
    "tags": []
   },
   "outputs": [
    {
     "name": "stdout",
     "output_type": "stream",
     "text": [
      "Initiating login request with your identity provider. A browser window should have opened for you to complete the login. If you can't see it, check existing browser windows, or your OS settings. Press CTRL+C to abort and try again...\n",
      "Going to open: https://justworks.cloudflareaccess.com/cdn-cgi/access/sso/saml/d74bc06bca5abf66677a16a11e6235e70f0ac75f0e462ccdea97b5bcb5cab993?SAMLRequest=lZNfb5swFMW%2FCvKewYYQaKwkVZo0G1rboSat1LwZ26RewGa2Kck%2B%2FUz%2BSJ2mVtobupzr37n32OPrfV15b1wboeQEhAECHpdUMSG3E%2FC0XvpXwDOWSEYqJfkEHLgB19OxIXXV4FlrX%2BUj%2F9VyYz13kDS4%2FzEBrZZYESMMlqTmBluKV7P7OxwFCBNjuLYOB84tzAjHerW2wRB2XRd0g0DpLYwQQhCNoFP1ki%2FgHaL5nNFoZRVV1aVl72b6ABFCFPcIp3CE%2FNx4I%2BRpBZ9RipPI4G%2Frde7nP1Zr4M0u082VNG3N9YrrN0H50%2BPdyYBxDn62xnZK74xfEyEDI1VXVmTHqaqb1rojA%2FcFS85gpbbCLSpbTECzE%2ByJZOuX2Wb4e%2FMSRnsZtulA57XNM7qsZwX7%2FnzzkBzU19t8fkuB93yJNepjzYxpeSb7MK0roSj2w9CPojVCOE5wnAYovNoAb%2BHCFJLYY%2Bc%2FjgNaqZY5t5oTSrkxR6uUSZ9uBTyVoDEK9ilBlsYFRUlByZAUZZIkaUrChIQhT6LBkKeoRISmwxLxOIkoZZyM0mJY0GJISTEaDcDppuGjdz39r%2F2N4fvW8419cCFmi1xVgh68pdI1sR9nHAbhsSKYXx6lmDteNWNMuyld1lWlurlbhHUPw%2BqWAzg9Uf9%2BGtM%2F&RelayState=ver%3A1-hint%3A5006656328985510-ETMsDgAAAZNRVfDqABRBRVMvQ0JDL1BLQ1M1UGFkZGluZwEAABAAEIkyWaziWbi0o5Axl%2BEIZigAAACAeKst0DcMnQ2Y5SgzIC81SFHhLHH3BUREEUJrPtDOJGxb0%2Fa%2FKREXNe1%2B%2BTjLWFVSHIU3h%2FwVD42tJ3iyjCpXqScqpymYu1wPnNX2M9w9coXX3xOnUimfELBUU0aSbAYtO2JYp0U4mYGMppeFY6HdrvR7wZt6Fz9WqyJnY1WyQnQAFF6b4JAp0efOnzjCCeIkheMFCOqL to authenticate...\n"
     ]
    },
    {
     "name": "stderr",
     "output_type": "stream",
     "text": [
      "/Users/lmola/Documents/Luis_Projects/OOH/prod/testing/IOS_query.py:185: UserWarning: pandas only supports SQLAlchemy connectable (engine/connection) or database string URI or sqlite3 DBAPI2 connection. Other DBAPI2 objects are not tested. Please consider using SQLAlchemy.\n",
      "  df = pd.read_sql(io_query, conn)\n"
     ]
    },
    {
     "data": {
      "text/html": [
       "<div>\n",
       "<style scoped>\n",
       "    .dataframe tbody tr th:only-of-type {\n",
       "        vertical-align: middle;\n",
       "    }\n",
       "\n",
       "    .dataframe tbody tr th {\n",
       "        vertical-align: top;\n",
       "    }\n",
       "\n",
       "    .dataframe thead th {\n",
       "        text-align: right;\n",
       "    }\n",
       "</style>\n",
       "<table border=\"1\" class=\"dataframe\">\n",
       "  <thead>\n",
       "    <tr style=\"text-align: right;\">\n",
       "      <th></th>\n",
       "      <th>IOS</th>\n",
       "      <th>ACCOUNT_ID</th>\n",
       "      <th>ID_FRM_ACCTS</th>\n",
       "      <th>BILLINGCITY</th>\n",
       "      <th>BILLINGSTATE</th>\n",
       "      <th>BILLINGCOUNTRY</th>\n",
       "      <th>BILLINGZIP</th>\n",
       "      <th>IO_YYYYQQ</th>\n",
       "      <th>IO_WEEK_OF_QTR</th>\n",
       "      <th>IO_QUARTER</th>\n",
       "      <th>...</th>\n",
       "      <th>INBOUND_EXCLUSION_FLAG</th>\n",
       "      <th>OWNER</th>\n",
       "      <th>OPPORTUNITY_ID</th>\n",
       "      <th>QL_REFERRER_NAME</th>\n",
       "      <th>QL_REFERRER_ROLE</th>\n",
       "      <th>QL_SOURCED_BY_NAME</th>\n",
       "      <th>QL_SOURCED_BY_ROLE</th>\n",
       "      <th>OPPORTUNITY_SOURCED_BY_NAME</th>\n",
       "      <th>OPPORTUNITY_SOURCED_BY_ROLE</th>\n",
       "      <th>DEMAND_CHANNEL</th>\n",
       "    </tr>\n",
       "  </thead>\n",
       "  <tbody>\n",
       "    <tr>\n",
       "      <th>0</th>\n",
       "      <td>0066S00000zLgI2QAK</td>\n",
       "      <td>0016S000030r6NFQAY</td>\n",
       "      <td>0016S000030r6NFQAY</td>\n",
       "      <td>Dover</td>\n",
       "      <td>DE</td>\n",
       "      <td>Canada</td>\n",
       "      <td>19901</td>\n",
       "      <td>20223</td>\n",
       "      <td>2022-02-21</td>\n",
       "      <td>3</td>\n",
       "      <td>...</td>\n",
       "      <td>Include</td>\n",
       "      <td>Self Service</td>\n",
       "      <td>None</td>\n",
       "      <td>None</td>\n",
       "      <td>None</td>\n",
       "      <td>None</td>\n",
       "      <td>None</td>\n",
       "      <td>None</td>\n",
       "      <td>None</td>\n",
       "      <td>None</td>\n",
       "    </tr>\n",
       "    <tr>\n",
       "      <th>1</th>\n",
       "      <td>006PJ0000086jacYAA</td>\n",
       "      <td>001PJ000008J43LYAS</td>\n",
       "      <td>001PJ000008J43LYAS</td>\n",
       "      <td>None</td>\n",
       "      <td>NC</td>\n",
       "      <td>US</td>\n",
       "      <td>27409</td>\n",
       "      <td>20244</td>\n",
       "      <td>2024-03-18</td>\n",
       "      <td>4</td>\n",
       "      <td>...</td>\n",
       "      <td>Include</td>\n",
       "      <td>MRA</td>\n",
       "      <td>None</td>\n",
       "      <td>None</td>\n",
       "      <td>None</td>\n",
       "      <td>None</td>\n",
       "      <td>None</td>\n",
       "      <td>None</td>\n",
       "      <td>None</td>\n",
       "      <td>None</td>\n",
       "    </tr>\n",
       "    <tr>\n",
       "      <th>2</th>\n",
       "      <td>0066S000012cDzIQAU</td>\n",
       "      <td>0016S000038078WQAQ</td>\n",
       "      <td>0016S000038078WQAQ</td>\n",
       "      <td>St. Louis</td>\n",
       "      <td>MO</td>\n",
       "      <td>None</td>\n",
       "      <td>63112</td>\n",
       "      <td>20231</td>\n",
       "      <td>2022-06-13</td>\n",
       "      <td>1</td>\n",
       "      <td>...</td>\n",
       "      <td>Include</td>\n",
       "      <td>MRA</td>\n",
       "      <td>None</td>\n",
       "      <td>None</td>\n",
       "      <td>None</td>\n",
       "      <td>None</td>\n",
       "      <td>None</td>\n",
       "      <td>None</td>\n",
       "      <td>None</td>\n",
       "      <td>None</td>\n",
       "    </tr>\n",
       "    <tr>\n",
       "      <th>3</th>\n",
       "      <td>0066S00000zIvpMQAS</td>\n",
       "      <td>0016S000030oBqaQAE</td>\n",
       "      <td>0016S000030oBqaQAE</td>\n",
       "      <td>New York</td>\n",
       "      <td>New York</td>\n",
       "      <td>United States</td>\n",
       "      <td>10001</td>\n",
       "      <td>20222</td>\n",
       "      <td>2021-11-22</td>\n",
       "      <td>2</td>\n",
       "      <td>...</td>\n",
       "      <td>Include</td>\n",
       "      <td>Self Service</td>\n",
       "      <td>None</td>\n",
       "      <td>None</td>\n",
       "      <td>None</td>\n",
       "      <td>None</td>\n",
       "      <td>None</td>\n",
       "      <td>None</td>\n",
       "      <td>None</td>\n",
       "      <td>None</td>\n",
       "    </tr>\n",
       "    <tr>\n",
       "      <th>4</th>\n",
       "      <td>006PJ000004SKeZYAW</td>\n",
       "      <td>001PJ000004X7iJYAS</td>\n",
       "      <td>001PJ000004X7iJYAS</td>\n",
       "      <td>Palm Desert</td>\n",
       "      <td>CA</td>\n",
       "      <td>None</td>\n",
       "      <td>92260</td>\n",
       "      <td>20243</td>\n",
       "      <td>2023-12-04</td>\n",
       "      <td>3</td>\n",
       "      <td>...</td>\n",
       "      <td>Include</td>\n",
       "      <td>Self Service</td>\n",
       "      <td>None</td>\n",
       "      <td>None</td>\n",
       "      <td>None</td>\n",
       "      <td>None</td>\n",
       "      <td>None</td>\n",
       "      <td>None</td>\n",
       "      <td>None</td>\n",
       "      <td>None</td>\n",
       "    </tr>\n",
       "  </tbody>\n",
       "</table>\n",
       "<p>5 rows × 47 columns</p>\n",
       "</div>"
      ],
      "text/plain": [
       "                  IOS          ACCOUNT_ID        ID_FRM_ACCTS  BILLINGCITY  \\\n",
       "0  0066S00000zLgI2QAK  0016S000030r6NFQAY  0016S000030r6NFQAY        Dover   \n",
       "1  006PJ0000086jacYAA  001PJ000008J43LYAS  001PJ000008J43LYAS         None   \n",
       "2  0066S000012cDzIQAU  0016S000038078WQAQ  0016S000038078WQAQ    St. Louis   \n",
       "3  0066S00000zIvpMQAS  0016S000030oBqaQAE  0016S000030oBqaQAE     New York   \n",
       "4  006PJ000004SKeZYAW  001PJ000004X7iJYAS  001PJ000004X7iJYAS  Palm Desert   \n",
       "\n",
       "  BILLINGSTATE BILLINGCOUNTRY BILLINGZIP  IO_YYYYQQ IO_WEEK_OF_QTR  \\\n",
       "0           DE         Canada      19901      20223     2022-02-21   \n",
       "1           NC             US      27409      20244     2024-03-18   \n",
       "2           MO           None      63112      20231     2022-06-13   \n",
       "3     New York  United States      10001      20222     2021-11-22   \n",
       "4           CA           None      92260      20243     2023-12-04   \n",
       "\n",
       "   IO_QUARTER  ...  INBOUND_EXCLUSION_FLAG         OWNER  OPPORTUNITY_ID  \\\n",
       "0           3  ...                 Include  Self Service            None   \n",
       "1           4  ...                 Include           MRA            None   \n",
       "2           1  ...                 Include           MRA            None   \n",
       "3           2  ...                 Include  Self Service            None   \n",
       "4           3  ...                 Include  Self Service            None   \n",
       "\n",
       "  QL_REFERRER_NAME QL_REFERRER_ROLE QL_SOURCED_BY_NAME QL_SOURCED_BY_ROLE  \\\n",
       "0             None             None               None               None   \n",
       "1             None             None               None               None   \n",
       "2             None             None               None               None   \n",
       "3             None             None               None               None   \n",
       "4             None             None               None               None   \n",
       "\n",
       "  OPPORTUNITY_SOURCED_BY_NAME OPPORTUNITY_SOURCED_BY_ROLE  DEMAND_CHANNEL  \n",
       "0                        None                        None            None  \n",
       "1                        None                        None            None  \n",
       "2                        None                        None            None  \n",
       "3                        None                        None            None  \n",
       "4                        None                        None            None  \n",
       "\n",
       "[5 rows x 47 columns]"
      ]
     },
     "execution_count": 3,
     "metadata": {},
     "output_type": "execute_result"
    }
   ],
   "source": [
    "# Import the function from your external script\n",
    "from IOS_query import run_snowflake_query\n",
    "\n",
    "# Run the query and get the results as a DataFrame\n",
    "ios_df = run_snowflake_query()\n",
    "\n",
    "# Display the DataFrame\n",
    "ios_df.head()"
   ]
  },
  {
   "cell_type": "code",
   "execution_count": 4,
   "id": "bb82be18",
   "metadata": {
    "execution": {
     "iopub.execute_input": "2024-11-22T00:47:27.786944Z",
     "iopub.status.busy": "2024-11-22T00:47:27.786828Z",
     "iopub.status.idle": "2024-11-22T00:47:35.855440Z",
     "shell.execute_reply": "2024-11-22T00:47:35.855080Z"
    },
    "papermill": {
     "duration": 8.074409,
     "end_time": "2024-11-22T00:47:35.856507",
     "exception": false,
     "start_time": "2024-11-22T00:47:27.782098",
     "status": "completed"
    },
    "tags": []
   },
   "outputs": [
    {
     "name": "stdout",
     "output_type": "stream",
     "text": [
      "Initiating login request with your identity provider. A browser window should have opened for you to complete the login. If you can't see it, check existing browser windows, or your OS settings. Press CTRL+C to abort and try again...\n",
      "Going to open: https://justworks.cloudflareaccess.com/cdn-cgi/access/sso/saml/d74bc06bca5abf66677a16a11e6235e70f0ac75f0e462ccdea97b5bcb5cab993?SAMLRequest=lZNfb9owFMW%2FSuQ9J3YCJGABFZRVQ2s7VGil7c1xHPBw7ODrENpPP%2FNP6jS10t6im3P9O%2Fcee3hzqFSwFxak0SMURwQFQnNTSL0eoefVXdhHATimC6aMFiP0KgDdjIfAKlXTSeM2%2BknsGgEu8AdpoMcfI9RYTQ0DCVSzSgB1nC4nD%2Fc0iQhlAMI6j0OXlgKkZ22cqynGbdtGbScydo0TQggmA%2BxVR8kX9A5Rf86orXGGG3VtOfiZPkDEmHSPCK%2FwhMWlcSr1eQWfUfKzCOi31WoRLn4sVyiYXKe7NRqaStilsHvJxfPT%2FdkAeAe%2FG3CtsVsIKyZ1BNq0pWJbwU1VN84fGfkvXIoCK7OWflHz2QjVW1noDX847F4elZrG7ZvbZ7O63f%2Fs59n3bY915gPYlcv%2BtGkN%2B8pR8HKNNTnGOgdoxFwfw3S%2BRJJuGMdhkqwIod2MJv2IdLq%2FUDDzYUrN3KnzH8cRV6YpvFsrGOcC4GSVFzrka4nPJQxg8DElXGTdnJM056zH8jJN0yxjccriWKRJpycyUhLGs15JRDdNOC8EG2R5L%2Bd5j7N8MOig802jJ%2B92%2FF%2F7G%2BL3rZcb%2B%2BhDnM8WRkn%2BGtwZWzH3ccZxFJ8qsgjLk5QKz1OTorB%2BSp%2B1Uqa99Ytw%2FmE42wiEx2fq309j%2FAc%3D&RelayState=ver%3A1-hint%3A5006656328985510-ETMsDgAAAZNRVpEiABRBRVMvQ0JDL1BLQ1M1UGFkZGluZwEAABAAEIGduX%2BcpUE5pmP8M36znTUAAACAL%2F78Qrvu7Z5ZxUzizuCVujGPhwEDnt5HDh37JcbyZ2fLArzgpvPkM1xImwh44LNHOtGBs%2FYUGChVf6J9QqJrzfXMQAXlmH3lInUee1gGREauF69N50uCl1iUG1TamPgkZrHM3nMWs5iz%2FCSJDHia%2FlM3WqkzGMg%2Fwwt0QzQkTQMAFK9IIOfE1praSE9CMqofLZpGYaBy to authenticate...\n"
     ]
    },
    {
     "name": "stderr",
     "output_type": "stream",
     "text": [
      "/Users/lmola/Documents/Luis_Projects/OOH/prod/testing/district_map_query.py:24: UserWarning: pandas only supports SQLAlchemy connectable (engine/connection) or database string URI or sqlite3 DBAPI2 connection. Other DBAPI2 objects are not tested. Please consider using SQLAlchemy.\n",
      "  df = pd.read_sql(query, conn)\n"
     ]
    }
   ],
   "source": [
    "# Import the function from your external script\n",
    "from district_map_query import map_query\n",
    "\n",
    "# Run the query and get the results as a DataFrame\n",
    "map_df = map_query()\n",
    "map_df = map_df[['ZIP_CODE__C', 'STATE__C', 'STATE_ABBREVIATION__C', 'MSA_MARKET_PRIMARY__C', 'MSA_NUMBER__C', 'MARKETING_DISTRICT__C']]\n",
    "\n",
    "# Display the DataFram"
   ]
  },
  {
   "cell_type": "code",
   "execution_count": 5,
   "id": "e5e25257",
   "metadata": {
    "execution": {
     "iopub.execute_input": "2024-11-22T00:47:35.865848Z",
     "iopub.status.busy": "2024-11-22T00:47:35.865621Z",
     "iopub.status.idle": "2024-11-22T00:47:35.869846Z",
     "shell.execute_reply": "2024-11-22T00:47:35.869631Z"
    },
    "papermill": {
     "duration": 0.009401,
     "end_time": "2024-11-22T00:47:35.870470",
     "exception": false,
     "start_time": "2024-11-22T00:47:35.861069",
     "status": "completed"
    },
    "tags": []
   },
   "outputs": [
    {
     "data": {
      "text/html": [
       "<div>\n",
       "<style scoped>\n",
       "    .dataframe tbody tr th:only-of-type {\n",
       "        vertical-align: middle;\n",
       "    }\n",
       "\n",
       "    .dataframe tbody tr th {\n",
       "        vertical-align: top;\n",
       "    }\n",
       "\n",
       "    .dataframe thead th {\n",
       "        text-align: right;\n",
       "    }\n",
       "</style>\n",
       "<table border=\"1\" class=\"dataframe\">\n",
       "  <thead>\n",
       "    <tr style=\"text-align: right;\">\n",
       "      <th></th>\n",
       "      <th>ZIP_CODE__C</th>\n",
       "      <th>STATE__C</th>\n",
       "      <th>STATE_ABBREVIATION__C</th>\n",
       "      <th>MSA_MARKET_PRIMARY__C</th>\n",
       "      <th>MSA_NUMBER__C</th>\n",
       "      <th>MARKETING_DISTRICT__C</th>\n",
       "    </tr>\n",
       "  </thead>\n",
       "  <tbody>\n",
       "    <tr>\n",
       "      <th>0</th>\n",
       "      <td>97003</td>\n",
       "      <td>Oregon</td>\n",
       "      <td>OR</td>\n",
       "      <td>Salem, OR MSA</td>\n",
       "      <td>41420.0</td>\n",
       "      <td>sanitized_f667cee84b45028f5db8f1939e1c06b90c06...</td>\n",
       "    </tr>\n",
       "    <tr>\n",
       "      <th>1</th>\n",
       "      <td>21866</td>\n",
       "      <td>Maryland</td>\n",
       "      <td>MD</td>\n",
       "      <td>Salisbury, MD MSA</td>\n",
       "      <td>41540.0</td>\n",
       "      <td>DC Metro</td>\n",
       "    </tr>\n",
       "    <tr>\n",
       "      <th>2</th>\n",
       "      <td>90189</td>\n",
       "      <td>California</td>\n",
       "      <td>CA</td>\n",
       "      <td>Los Angeles-Long Beach-Santa Ana, CA MSA</td>\n",
       "      <td>31100.0</td>\n",
       "      <td>Los Angeles</td>\n",
       "    </tr>\n",
       "    <tr>\n",
       "      <th>3</th>\n",
       "      <td>48557</td>\n",
       "      <td>Michigan</td>\n",
       "      <td>MI</td>\n",
       "      <td>Flint, MI MSA</td>\n",
       "      <td>22420.0</td>\n",
       "      <td>Rest of Country</td>\n",
       "    </tr>\n",
       "    <tr>\n",
       "      <th>4</th>\n",
       "      <td>82931</td>\n",
       "      <td>Wyoming</td>\n",
       "      <td>WY</td>\n",
       "      <td>WY NONMETROPOLITAN AREA</td>\n",
       "      <td>99048.0</td>\n",
       "      <td>Rest of Country</td>\n",
       "    </tr>\n",
       "  </tbody>\n",
       "</table>\n",
       "</div>"
      ],
      "text/plain": [
       "  ZIP_CODE__C    STATE__C STATE_ABBREVIATION__C  \\\n",
       "0       97003      Oregon                    OR   \n",
       "1       21866    Maryland                    MD   \n",
       "2       90189  California                    CA   \n",
       "3       48557    Michigan                    MI   \n",
       "4       82931     Wyoming                    WY   \n",
       "\n",
       "                      MSA_MARKET_PRIMARY__C  MSA_NUMBER__C  \\\n",
       "0                             Salem, OR MSA        41420.0   \n",
       "1                         Salisbury, MD MSA        41540.0   \n",
       "2  Los Angeles-Long Beach-Santa Ana, CA MSA        31100.0   \n",
       "3                             Flint, MI MSA        22420.0   \n",
       "4                   WY NONMETROPOLITAN AREA        99048.0   \n",
       "\n",
       "                               MARKETING_DISTRICT__C  \n",
       "0  sanitized_f667cee84b45028f5db8f1939e1c06b90c06...  \n",
       "1                                           DC Metro  \n",
       "2                                        Los Angeles  \n",
       "3                                    Rest of Country  \n",
       "4                                    Rest of Country  "
      ]
     },
     "execution_count": 5,
     "metadata": {},
     "output_type": "execute_result"
    }
   ],
   "source": [
    " map_df.head()"
   ]
  },
  {
   "cell_type": "code",
   "execution_count": 6,
   "id": "61ba14c5",
   "metadata": {
    "execution": {
     "iopub.execute_input": "2024-11-22T00:47:35.878025Z",
     "iopub.status.busy": "2024-11-22T00:47:35.877917Z",
     "iopub.status.idle": "2024-11-22T00:47:35.891613Z",
     "shell.execute_reply": "2024-11-22T00:47:35.891354Z"
    },
    "papermill": {
     "duration": 0.018031,
     "end_time": "2024-11-22T00:47:35.892283",
     "exception": false,
     "start_time": "2024-11-22T00:47:35.874252",
     "status": "completed"
    },
    "tags": []
   },
   "outputs": [
    {
     "name": "stdout",
     "output_type": "stream",
     "text": [
      "Columns in IOs_filtered with missing values:\n",
      "ZIP_CODE__C              0.0\n",
      "STATE__C                 0.0\n",
      "STATE_ABBREVIATION__C    0.0\n",
      "MSA_MARKET_PRIMARY__C    0.0\n",
      "MSA_NUMBER__C            0.0\n",
      "MARKETING_DISTRICT__C    0.0\n",
      "dtype: float64\n"
     ]
    }
   ],
   "source": [
    "missing_geo_map = map_df.isna().mean() * 100\n",
    "\n",
    "print(\"Columns in IOs_filtered with missing values:\")\n",
    "print(missing_geo_map)"
   ]
  },
  {
   "cell_type": "code",
   "execution_count": 7,
   "id": "2c206a3e",
   "metadata": {
    "execution": {
     "iopub.execute_input": "2024-11-22T00:47:35.915681Z",
     "iopub.status.busy": "2024-11-22T00:47:35.915143Z",
     "iopub.status.idle": "2024-11-22T00:47:35.965625Z",
     "shell.execute_reply": "2024-11-22T00:47:35.965381Z"
    },
    "papermill": {
     "duration": 0.064226,
     "end_time": "2024-11-22T00:47:35.966412",
     "exception": false,
     "start_time": "2024-11-22T00:47:35.902186",
     "status": "completed"
    },
    "tags": []
   },
   "outputs": [
    {
     "name": "stdout",
     "output_type": "stream",
     "text": [
      "26818\n",
      "42491\n",
      "25757\n",
      "loss is 0.03956298008800063\n"
     ]
    },
    {
     "data": {
      "text/html": [
       "<div>\n",
       "<style scoped>\n",
       "    .dataframe tbody tr th:only-of-type {\n",
       "        vertical-align: middle;\n",
       "    }\n",
       "\n",
       "    .dataframe tbody tr th {\n",
       "        vertical-align: top;\n",
       "    }\n",
       "\n",
       "    .dataframe thead th {\n",
       "        text-align: right;\n",
       "    }\n",
       "</style>\n",
       "<table border=\"1\" class=\"dataframe\">\n",
       "  <thead>\n",
       "    <tr style=\"text-align: right;\">\n",
       "      <th></th>\n",
       "      <th>IOS</th>\n",
       "      <th>ACCOUNT_ID</th>\n",
       "      <th>ID_FRM_ACCTS</th>\n",
       "      <th>BILLINGCITY</th>\n",
       "      <th>BILLINGSTATE</th>\n",
       "      <th>BILLINGCOUNTRY</th>\n",
       "      <th>BILLINGZIP</th>\n",
       "      <th>IO_YYYYQQ</th>\n",
       "      <th>IO_WEEK_OF_QTR</th>\n",
       "      <th>IO_QUARTER</th>\n",
       "      <th>...</th>\n",
       "      <th>QL_SOURCED_BY_ROLE</th>\n",
       "      <th>OPPORTUNITY_SOURCED_BY_NAME</th>\n",
       "      <th>OPPORTUNITY_SOURCED_BY_ROLE</th>\n",
       "      <th>DEMAND_CHANNEL</th>\n",
       "      <th>ZIP_CODE__C</th>\n",
       "      <th>STATE__C</th>\n",
       "      <th>STATE_ABBREVIATION__C</th>\n",
       "      <th>MSA_MARKET_PRIMARY__C</th>\n",
       "      <th>MSA_NUMBER__C</th>\n",
       "      <th>MARKETING_DISTRICT__C</th>\n",
       "    </tr>\n",
       "  </thead>\n",
       "  <tbody>\n",
       "    <tr>\n",
       "      <th>0</th>\n",
       "      <td>0066S00000zLgI2QAK</td>\n",
       "      <td>0016S000030r6NFQAY</td>\n",
       "      <td>0016S000030r6NFQAY</td>\n",
       "      <td>Dover</td>\n",
       "      <td>DE</td>\n",
       "      <td>Canada</td>\n",
       "      <td>19901</td>\n",
       "      <td>20223</td>\n",
       "      <td>2022-02-21</td>\n",
       "      <td>3</td>\n",
       "      <td>...</td>\n",
       "      <td>None</td>\n",
       "      <td>None</td>\n",
       "      <td>None</td>\n",
       "      <td>None</td>\n",
       "      <td>19901</td>\n",
       "      <td>Delaware</td>\n",
       "      <td>DE</td>\n",
       "      <td>Dover, DE MSA</td>\n",
       "      <td>20100.0</td>\n",
       "      <td>Philly Metro</td>\n",
       "    </tr>\n",
       "    <tr>\n",
       "      <th>1</th>\n",
       "      <td>006PJ0000086jacYAA</td>\n",
       "      <td>001PJ000008J43LYAS</td>\n",
       "      <td>001PJ000008J43LYAS</td>\n",
       "      <td>None</td>\n",
       "      <td>NC</td>\n",
       "      <td>US</td>\n",
       "      <td>27409</td>\n",
       "      <td>20244</td>\n",
       "      <td>2024-03-18</td>\n",
       "      <td>4</td>\n",
       "      <td>...</td>\n",
       "      <td>None</td>\n",
       "      <td>None</td>\n",
       "      <td>None</td>\n",
       "      <td>None</td>\n",
       "      <td>27409</td>\n",
       "      <td>North Carolina</td>\n",
       "      <td>NC</td>\n",
       "      <td>Greensboro-High Point, NC MSA</td>\n",
       "      <td>24660.0</td>\n",
       "      <td>Rest of Country</td>\n",
       "    </tr>\n",
       "    <tr>\n",
       "      <th>2</th>\n",
       "      <td>0066S000012cDzIQAU</td>\n",
       "      <td>0016S000038078WQAQ</td>\n",
       "      <td>0016S000038078WQAQ</td>\n",
       "      <td>St. Louis</td>\n",
       "      <td>MO</td>\n",
       "      <td>None</td>\n",
       "      <td>63112</td>\n",
       "      <td>20231</td>\n",
       "      <td>2022-06-13</td>\n",
       "      <td>1</td>\n",
       "      <td>...</td>\n",
       "      <td>None</td>\n",
       "      <td>None</td>\n",
       "      <td>None</td>\n",
       "      <td>None</td>\n",
       "      <td>63112</td>\n",
       "      <td>Missouri</td>\n",
       "      <td>MO</td>\n",
       "      <td>St. Louis, MO-IL MSA</td>\n",
       "      <td>41180.0</td>\n",
       "      <td>Rest of Country</td>\n",
       "    </tr>\n",
       "    <tr>\n",
       "      <th>3</th>\n",
       "      <td>0066S00000zIvpMQAS</td>\n",
       "      <td>0016S000030oBqaQAE</td>\n",
       "      <td>0016S000030oBqaQAE</td>\n",
       "      <td>New York</td>\n",
       "      <td>New York</td>\n",
       "      <td>United States</td>\n",
       "      <td>10001</td>\n",
       "      <td>20222</td>\n",
       "      <td>2021-11-22</td>\n",
       "      <td>2</td>\n",
       "      <td>...</td>\n",
       "      <td>None</td>\n",
       "      <td>None</td>\n",
       "      <td>None</td>\n",
       "      <td>None</td>\n",
       "      <td>10001</td>\n",
       "      <td>New York</td>\n",
       "      <td>NY</td>\n",
       "      <td>New York-Northern New Jersey-Long Island, NY-N...</td>\n",
       "      <td>35620.0</td>\n",
       "      <td>New York Metro</td>\n",
       "    </tr>\n",
       "    <tr>\n",
       "      <th>4</th>\n",
       "      <td>006PJ000004SKeZYAW</td>\n",
       "      <td>001PJ000004X7iJYAS</td>\n",
       "      <td>001PJ000004X7iJYAS</td>\n",
       "      <td>Palm Desert</td>\n",
       "      <td>CA</td>\n",
       "      <td>None</td>\n",
       "      <td>92260</td>\n",
       "      <td>20243</td>\n",
       "      <td>2023-12-04</td>\n",
       "      <td>3</td>\n",
       "      <td>...</td>\n",
       "      <td>None</td>\n",
       "      <td>None</td>\n",
       "      <td>None</td>\n",
       "      <td>None</td>\n",
       "      <td>92260</td>\n",
       "      <td>California</td>\n",
       "      <td>CA</td>\n",
       "      <td>Riverside-San Bernardino-Ontario, CA MSA</td>\n",
       "      <td>40140.0</td>\n",
       "      <td>Rest of South California</td>\n",
       "    </tr>\n",
       "  </tbody>\n",
       "</table>\n",
       "<p>5 rows × 53 columns</p>\n",
       "</div>"
      ],
      "text/plain": [
       "                  IOS          ACCOUNT_ID        ID_FRM_ACCTS  BILLINGCITY  \\\n",
       "0  0066S00000zLgI2QAK  0016S000030r6NFQAY  0016S000030r6NFQAY        Dover   \n",
       "1  006PJ0000086jacYAA  001PJ000008J43LYAS  001PJ000008J43LYAS         None   \n",
       "2  0066S000012cDzIQAU  0016S000038078WQAQ  0016S000038078WQAQ    St. Louis   \n",
       "3  0066S00000zIvpMQAS  0016S000030oBqaQAE  0016S000030oBqaQAE     New York   \n",
       "4  006PJ000004SKeZYAW  001PJ000004X7iJYAS  001PJ000004X7iJYAS  Palm Desert   \n",
       "\n",
       "  BILLINGSTATE BILLINGCOUNTRY BILLINGZIP  IO_YYYYQQ IO_WEEK_OF_QTR  \\\n",
       "0           DE         Canada      19901      20223     2022-02-21   \n",
       "1           NC             US      27409      20244     2024-03-18   \n",
       "2           MO           None      63112      20231     2022-06-13   \n",
       "3     New York  United States      10001      20222     2021-11-22   \n",
       "4           CA           None      92260      20243     2023-12-04   \n",
       "\n",
       "   IO_QUARTER  ...  QL_SOURCED_BY_ROLE OPPORTUNITY_SOURCED_BY_NAME  \\\n",
       "0           3  ...                None                        None   \n",
       "1           4  ...                None                        None   \n",
       "2           1  ...                None                        None   \n",
       "3           2  ...                None                        None   \n",
       "4           3  ...                None                        None   \n",
       "\n",
       "   OPPORTUNITY_SOURCED_BY_ROLE DEMAND_CHANNEL ZIP_CODE__C        STATE__C  \\\n",
       "0                         None           None       19901        Delaware   \n",
       "1                         None           None       27409  North Carolina   \n",
       "2                         None           None       63112        Missouri   \n",
       "3                         None           None       10001        New York   \n",
       "4                         None           None       92260      California   \n",
       "\n",
       "  STATE_ABBREVIATION__C                              MSA_MARKET_PRIMARY__C  \\\n",
       "0                    DE                                      Dover, DE MSA   \n",
       "1                    NC                      Greensboro-High Point, NC MSA   \n",
       "2                    MO                               St. Louis, MO-IL MSA   \n",
       "3                    NY  New York-Northern New Jersey-Long Island, NY-N...   \n",
       "4                    CA           Riverside-San Bernardino-Ontario, CA MSA   \n",
       "\n",
       "  MSA_NUMBER__C     MARKETING_DISTRICT__C  \n",
       "0       20100.0              Philly Metro  \n",
       "1       24660.0           Rest of Country  \n",
       "2       41180.0           Rest of Country  \n",
       "3       35620.0            New York Metro  \n",
       "4       40140.0  Rest of South California  \n",
       "\n",
       "[5 rows x 53 columns]"
      ]
     },
     "execution_count": 7,
     "metadata": {},
     "output_type": "execute_result"
    }
   ],
   "source": [
    "print(len(ios_df))\n",
    "print(len(map_df))\n",
    "\n",
    "merged_df = pd.merge(ios_df, map_df, left_on='BILLINGZIP', right_on = 'ZIP_CODE__C', how='inner')\n",
    "\n",
    "\n",
    "\n",
    "print(len(merged_df))\n",
    "\n",
    "print(f'loss is {1-len(merged_df)/len(ios_df)}')\n",
    "\n",
    "# Convert the column to date format with specified format\n",
    "merged_df['IO_DATE'] = pd.to_datetime(merged_df['IO_DATE'], format='%Y-%m-%d')\n",
    "\n",
    "merged_df.head()"
   ]
  },
  {
   "cell_type": "code",
   "execution_count": 8,
   "id": "2a234d49",
   "metadata": {
    "execution": {
     "iopub.execute_input": "2024-11-22T00:47:35.974462Z",
     "iopub.status.busy": "2024-11-22T00:47:35.974348Z",
     "iopub.status.idle": "2024-11-22T00:47:35.975884Z",
     "shell.execute_reply": "2024-11-22T00:47:35.975692Z"
    },
    "papermill": {
     "duration": 0.006007,
     "end_time": "2024-11-22T00:47:35.976455",
     "exception": false,
     "start_time": "2024-11-22T00:47:35.970448",
     "status": "completed"
    },
    "tags": []
   },
   "outputs": [],
   "source": [
    "#from datetime import date\n",
    "\n",
    "# today = date.today()\n",
    "\n",
    "# # Convert to datetime and round to the start of the month\n",
    "# today_month_start = pd.to_datetime(today).to_period('M').to_timestamp()\n",
    "\n",
    "# # Convert back to string in yyyy-mm-dd format\n",
    "# end_date = today_month_start.strftime('%Y-%m-%d')\n",
    "\n",
    "# print(end_date)"
   ]
  },
  {
   "cell_type": "code",
   "execution_count": 9,
   "id": "912c2d65",
   "metadata": {
    "execution": {
     "iopub.execute_input": "2024-11-22T00:47:35.983925Z",
     "iopub.status.busy": "2024-11-22T00:47:35.983837Z",
     "iopub.status.idle": "2024-11-22T00:47:35.986570Z",
     "shell.execute_reply": "2024-11-22T00:47:35.986343Z"
    },
    "papermill": {
     "duration": 0.007086,
     "end_time": "2024-11-22T00:47:35.987204",
     "exception": false,
     "start_time": "2024-11-22T00:47:35.980118",
     "status": "completed"
    },
    "tags": []
   },
   "outputs": [
    {
     "data": {
      "text/plain": [
       "0       2022-02-24\n",
       "1       2024-03-21\n",
       "2       2022-06-15\n",
       "3       2021-11-24\n",
       "4       2023-12-06\n",
       "           ...    \n",
       "25752   2023-07-06\n",
       "25753   2023-07-07\n",
       "25754   2022-07-22\n",
       "25755   2024-06-17\n",
       "25756   2023-09-05\n",
       "Name: IO_DATE, Length: 25757, dtype: datetime64[ns]"
      ]
     },
     "execution_count": 9,
     "metadata": {},
     "output_type": "execute_result"
    }
   ],
   "source": [
    "merged_df['IO_DATE']"
   ]
  },
  {
   "cell_type": "code",
   "execution_count": 10,
   "id": "4c75bf1f",
   "metadata": {
    "execution": {
     "iopub.execute_input": "2024-11-22T00:47:35.994617Z",
     "iopub.status.busy": "2024-11-22T00:47:35.994532Z",
     "iopub.status.idle": "2024-11-22T00:47:35.996486Z",
     "shell.execute_reply": "2024-11-22T00:47:35.996271Z"
    },
    "papermill": {
     "duration": 0.006171,
     "end_time": "2024-11-22T00:47:35.997039",
     "exception": false,
     "start_time": "2024-11-22T00:47:35.990868",
     "status": "completed"
    },
    "tags": []
   },
   "outputs": [
    {
     "data": {
      "text/plain": [
       "<function print(*args, sep=' ', end='\\n', file=None, flush=False)>"
      ]
     },
     "execution_count": 10,
     "metadata": {},
     "output_type": "execute_result"
    }
   ],
   "source": [
    "print"
   ]
  },
  {
   "cell_type": "code",
   "execution_count": 11,
   "id": "0aa93652",
   "metadata": {
    "execution": {
     "iopub.execute_input": "2024-11-22T00:47:36.004336Z",
     "iopub.status.busy": "2024-11-22T00:47:36.004234Z",
     "iopub.status.idle": "2024-11-22T00:47:36.016645Z",
     "shell.execute_reply": "2024-11-22T00:47:36.016402Z"
    },
    "papermill": {
     "duration": 0.016773,
     "end_time": "2024-11-22T00:47:36.017295",
     "exception": false,
     "start_time": "2024-11-22T00:47:36.000522",
     "status": "completed"
    },
    "tags": []
   },
   "outputs": [
    {
     "name": "stdout",
     "output_type": "stream",
     "text": [
      "0       2022-02-24\n",
      "1       2024-03-21\n",
      "2       2022-06-15\n",
      "3       2021-11-24\n",
      "4       2023-12-06\n",
      "           ...    \n",
      "25752   2023-07-06\n",
      "25753   2023-07-07\n",
      "25754   2022-07-22\n",
      "25755   2024-06-17\n",
      "25756   2023-09-05\n",
      "Name: IO_DATE, Length: 25757, dtype: datetime64[ns]\n"
     ]
    }
   ],
   "source": [
    "#import datetime\n",
    "#merged_df[\"IO_DATE\"] = pd.to_datetime(merged_df[\"IO_DATE\"], errors=\"coerce\")\n",
    "# Add a 'year_month' column to group by month\n",
    "merged_df[\"year_month\"] = merged_df[\"IO_DATE\"].dt.to_period('M')\n",
    "# Convert to datetime and round to the start of the month\n",
    "#merged_df['check'] = merged_df[\"year_month\"].to_period('M').to_timestamp()\n",
    "\n",
    "# Convert back to string in yyyy-mm-dd format\n",
    "#end_date = today_month_start.strftime('%Y-%m-%d')\n",
    "\n",
    "#merged_df[\"year_month\"] = merged_df[\"IO_DATE\"].dt.to_period(\"M\").to_timestamp()\n",
    "print(merged_df[\"IO_DATE\"])\n",
    "\n",
    "# Aggregate by month, with multiple aggregations\n",
    "monthly_aggregated = (\n",
    "    merged_df.groupby(\n",
    "        [\"year_month\", \"STATE__C\", \"STATE_ABBREVIATION__C\", \"MSA_MARKET_PRIMARY__C\"]\n",
    "    )\n",
    "    .agg(\n",
    "        io_count=(\"IOS\", \"nunique\"),  # Count rows per month\n",
    "    )\n",
    "    .reset_index()\n",
    ")"
   ]
  },
  {
   "cell_type": "code",
   "execution_count": 12,
   "id": "203ab709",
   "metadata": {
    "execution": {
     "iopub.execute_input": "2024-11-22T00:47:36.024897Z",
     "iopub.status.busy": "2024-11-22T00:47:36.024795Z",
     "iopub.status.idle": "2024-11-22T00:47:36.027808Z",
     "shell.execute_reply": "2024-11-22T00:47:36.027629Z"
    },
    "papermill": {
     "duration": 0.007342,
     "end_time": "2024-11-22T00:47:36.028369",
     "exception": false,
     "start_time": "2024-11-22T00:47:36.021027",
     "status": "completed"
    },
    "tags": []
   },
   "outputs": [
    {
     "data": {
      "text/html": [
       "<div>\n",
       "<style scoped>\n",
       "    .dataframe tbody tr th:only-of-type {\n",
       "        vertical-align: middle;\n",
       "    }\n",
       "\n",
       "    .dataframe tbody tr th {\n",
       "        vertical-align: top;\n",
       "    }\n",
       "\n",
       "    .dataframe thead th {\n",
       "        text-align: right;\n",
       "    }\n",
       "</style>\n",
       "<table border=\"1\" class=\"dataframe\">\n",
       "  <thead>\n",
       "    <tr style=\"text-align: right;\">\n",
       "      <th></th>\n",
       "      <th>year_month</th>\n",
       "      <th>STATE__C</th>\n",
       "      <th>STATE_ABBREVIATION__C</th>\n",
       "      <th>MSA_MARKET_PRIMARY__C</th>\n",
       "      <th>io_count</th>\n",
       "    </tr>\n",
       "  </thead>\n",
       "  <tbody>\n",
       "    <tr>\n",
       "      <th>0</th>\n",
       "      <td>2021-06</td>\n",
       "      <td>Alabama</td>\n",
       "      <td>AL</td>\n",
       "      <td>AL NONMETROPOLITAN AREA</td>\n",
       "      <td>1</td>\n",
       "    </tr>\n",
       "    <tr>\n",
       "      <th>1</th>\n",
       "      <td>2021-06</td>\n",
       "      <td>Alabama</td>\n",
       "      <td>AL</td>\n",
       "      <td>Huntsville, AL MSA</td>\n",
       "      <td>2</td>\n",
       "    </tr>\n",
       "    <tr>\n",
       "      <th>2</th>\n",
       "      <td>2021-06</td>\n",
       "      <td>Alabama</td>\n",
       "      <td>AL</td>\n",
       "      <td>Montgomery, AL MSA</td>\n",
       "      <td>1</td>\n",
       "    </tr>\n",
       "    <tr>\n",
       "      <th>3</th>\n",
       "      <td>2021-06</td>\n",
       "      <td>Alaska</td>\n",
       "      <td>AK</td>\n",
       "      <td>Anchorage, AK MSA</td>\n",
       "      <td>2</td>\n",
       "    </tr>\n",
       "    <tr>\n",
       "      <th>4</th>\n",
       "      <td>2021-06</td>\n",
       "      <td>Arizona</td>\n",
       "      <td>AZ</td>\n",
       "      <td>Phoenix-Mesa-Scottsdale, AZ MSA</td>\n",
       "      <td>8</td>\n",
       "    </tr>\n",
       "  </tbody>\n",
       "</table>\n",
       "</div>"
      ],
      "text/plain": [
       "  year_month STATE__C STATE_ABBREVIATION__C            MSA_MARKET_PRIMARY__C  \\\n",
       "0    2021-06  Alabama                    AL          AL NONMETROPOLITAN AREA   \n",
       "1    2021-06  Alabama                    AL               Huntsville, AL MSA   \n",
       "2    2021-06  Alabama                    AL               Montgomery, AL MSA   \n",
       "3    2021-06   Alaska                    AK                Anchorage, AK MSA   \n",
       "4    2021-06  Arizona                    AZ  Phoenix-Mesa-Scottsdale, AZ MSA   \n",
       "\n",
       "   io_count  \n",
       "0         1  \n",
       "1         2  \n",
       "2         1  \n",
       "3         2  \n",
       "4         8  "
      ]
     },
     "execution_count": 12,
     "metadata": {},
     "output_type": "execute_result"
    }
   ],
   "source": [
    "monthly_aggregated.head()"
   ]
  },
  {
   "cell_type": "code",
   "execution_count": 13,
   "id": "40fb2e34",
   "metadata": {
    "execution": {
     "iopub.execute_input": "2024-11-22T00:47:36.035852Z",
     "iopub.status.busy": "2024-11-22T00:47:36.035774Z",
     "iopub.status.idle": "2024-11-22T00:47:36.038574Z",
     "shell.execute_reply": "2024-11-22T00:47:36.038387Z"
    },
    "papermill": {
     "duration": 0.007186,
     "end_time": "2024-11-22T00:47:36.039147",
     "exception": false,
     "start_time": "2024-11-22T00:47:36.031961",
     "status": "completed"
    },
    "tags": []
   },
   "outputs": [
    {
     "name": "stdout",
     "output_type": "stream",
     "text": [
      "the state is Texas\n",
      "2024-09-01\n"
     ]
    }
   ],
   "source": [
    "#Define Parameters\n",
    "\n",
    "\n",
    "# MSA_MARKET = \"New York\"\n",
    "# #STATE = \"New York\"\n",
    "# BRAND_MSA = \"New York, NY\"\n",
    "\n",
    "# BRAND_MSA_list = [\"Austin, TX\", \"Denver, CO\", \"Los Angeles, CA\", \"Miami-Ft. Lauderdale, FL\", \n",
    "#                   \"New York, NY\", \"San Francisco-Oakland-San Jose, CA\"]\n",
    "\n",
    "# # Used as contains filter \n",
    "# MSA_MARKET_list = [\"Austin\", \"Denver\", \"Los Angeles\", \"Miami\", \"New York\", \"San Francisco\"]\n",
    "\n",
    "# Used as equals filter\n",
    "city_to_state = {\n",
    "    \"Austin\": \"Texas\",\n",
    "    \"Denver\": \"Colorado\",\n",
    "    \"Los Angeles\": \"California\",\n",
    "    \"Miami\": \"Florida\",\n",
    "    \"New York\": \"New York\",\n",
    "    \"San Francisco\": \"California\"\n",
    "    \n",
    "}\n",
    "\n",
    "STATE = city_to_state[MSA_MARKET]\n",
    "\n",
    "print('the state is ' + STATE)\n",
    "\n",
    "#intervention_date = '2024-08-01'\n",
    "\n",
    "campaign_start_dict = {'Austin, TX': '2024-09-09', 'Denver, CO': '2024-08-19', \\\n",
    "    'Los Angeles, CA': '2024-09-02', 'Miami-Ft. Lauderdale, FL': '2024-08-26',\\\n",
    "    'New York, NY': '2024-08-26', 'San Francisco-Oakland-San Jose, CA': '2024-09-02',\\\n",
    "    'Queens_New York': '2024-08-26', 'Brooklyn_New York': '2024-08-26',\\\n",
    "    'The Bronx_New York': '2024-08-26', 'Jersey City_New Jersey': '2024-08-26',\\\n",
    "    'Newark_New Jersey': '2024-08-26', 'San Jose_California': '2024-09-02'\n",
    "    }\n",
    "\n",
    "\n",
    "# Convert to datetime and round to the start of the month\n",
    "month_start = pd.to_datetime(campaign_start_dict[BRAND_MSA]).to_period('M').to_timestamp()\n",
    "\n",
    "# Convert back to string in yyyy-mm-dd format\n",
    "intervention_date = month_start.strftime('%Y-%m-%d')\n",
    "\n",
    "print(intervention_date)\n",
    "#date_start = campaign_start_dict[treatment_city_region]\n"
   ]
  },
  {
   "cell_type": "code",
   "execution_count": 14,
   "id": "19fd1450",
   "metadata": {
    "execution": {
     "iopub.execute_input": "2024-11-22T00:47:36.046480Z",
     "iopub.status.busy": "2024-11-22T00:47:36.046404Z",
     "iopub.status.idle": "2024-11-22T00:47:36.051448Z",
     "shell.execute_reply": "2024-11-22T00:47:36.051249Z"
    },
    "papermill": {
     "duration": 0.009326,
     "end_time": "2024-11-22T00:47:36.051977",
     "exception": false,
     "start_time": "2024-11-22T00:47:36.042651",
     "status": "completed"
    },
    "tags": []
   },
   "outputs": [
    {
     "data": {
      "text/html": [
       "<div>\n",
       "<style scoped>\n",
       "    .dataframe tbody tr th:only-of-type {\n",
       "        vertical-align: middle;\n",
       "    }\n",
       "\n",
       "    .dataframe tbody tr th {\n",
       "        vertical-align: top;\n",
       "    }\n",
       "\n",
       "    .dataframe thead th {\n",
       "        text-align: right;\n",
       "    }\n",
       "</style>\n",
       "<table border=\"1\" class=\"dataframe\">\n",
       "  <thead>\n",
       "    <tr style=\"text-align: right;\">\n",
       "      <th></th>\n",
       "      <th>year_month</th>\n",
       "      <th>STATE__C</th>\n",
       "      <th>STATE_ABBREVIATION__C</th>\n",
       "      <th>MSA_MARKET_PRIMARY__C</th>\n",
       "      <th>io_count</th>\n",
       "    </tr>\n",
       "  </thead>\n",
       "  <tbody>\n",
       "    <tr>\n",
       "      <th>103</th>\n",
       "      <td>2021-06</td>\n",
       "      <td>Texas</td>\n",
       "      <td>TX</td>\n",
       "      <td>Austin-Round Rock, TX MSA</td>\n",
       "      <td>11</td>\n",
       "    </tr>\n",
       "    <tr>\n",
       "      <th>245</th>\n",
       "      <td>2021-07</td>\n",
       "      <td>Texas</td>\n",
       "      <td>TX</td>\n",
       "      <td>Austin-Round Rock, TX MSA</td>\n",
       "      <td>14</td>\n",
       "    </tr>\n",
       "    <tr>\n",
       "      <th>358</th>\n",
       "      <td>2021-08</td>\n",
       "      <td>Texas</td>\n",
       "      <td>TX</td>\n",
       "      <td>Austin-Round Rock, TX MSA</td>\n",
       "      <td>6</td>\n",
       "    </tr>\n",
       "    <tr>\n",
       "      <th>478</th>\n",
       "      <td>2021-09</td>\n",
       "      <td>Texas</td>\n",
       "      <td>TX</td>\n",
       "      <td>Austin-Round Rock, TX MSA</td>\n",
       "      <td>12</td>\n",
       "    </tr>\n",
       "    <tr>\n",
       "      <th>608</th>\n",
       "      <td>2021-10</td>\n",
       "      <td>Texas</td>\n",
       "      <td>TX</td>\n",
       "      <td>Austin-Round Rock, TX MSA</td>\n",
       "      <td>15</td>\n",
       "    </tr>\n",
       "  </tbody>\n",
       "</table>\n",
       "</div>"
      ],
      "text/plain": [
       "    year_month STATE__C STATE_ABBREVIATION__C      MSA_MARKET_PRIMARY__C  \\\n",
       "103    2021-06    Texas                    TX  Austin-Round Rock, TX MSA   \n",
       "245    2021-07    Texas                    TX  Austin-Round Rock, TX MSA   \n",
       "358    2021-08    Texas                    TX  Austin-Round Rock, TX MSA   \n",
       "478    2021-09    Texas                    TX  Austin-Round Rock, TX MSA   \n",
       "608    2021-10    Texas                    TX  Austin-Round Rock, TX MSA   \n",
       "\n",
       "     io_count  \n",
       "103        11  \n",
       "245        14  \n",
       "358         6  \n",
       "478        12  \n",
       "608        15  "
      ]
     },
     "execution_count": 14,
     "metadata": {},
     "output_type": "execute_result"
    }
   ],
   "source": [
    "city_monthly_data = monthly_aggregated[\n",
    "    monthly_aggregated[\"MSA_MARKET_PRIMARY__C\"].str.contains(MSA_MARKET, case=False)\n",
    "    & (monthly_aggregated[\"STATE__C\"] == STATE)\n",
    "    #& (monthly_aggregated[\"year_month\"] >= '2022')\n",
    "].sort_values(by=\"year_month\", ascending=True)\n",
    "\n",
    "city_monthly_data.head(5)"
   ]
  },
  {
   "cell_type": "code",
   "execution_count": 15,
   "id": "cdbd07d2",
   "metadata": {
    "execution": {
     "iopub.execute_input": "2024-11-22T00:47:36.059971Z",
     "iopub.status.busy": "2024-11-22T00:47:36.059886Z",
     "iopub.status.idle": "2024-11-22T00:47:36.064092Z",
     "shell.execute_reply": "2024-11-22T00:47:36.063529Z"
    },
    "papermill": {
     "duration": 0.009371,
     "end_time": "2024-11-22T00:47:36.064930",
     "exception": false,
     "start_time": "2024-11-22T00:47:36.055559",
     "status": "completed"
    },
    "tags": []
   },
   "outputs": [
    {
     "data": {
      "text/html": [
       "<div>\n",
       "<style scoped>\n",
       "    .dataframe tbody tr th:only-of-type {\n",
       "        vertical-align: middle;\n",
       "    }\n",
       "\n",
       "    .dataframe tbody tr th {\n",
       "        vertical-align: top;\n",
       "    }\n",
       "\n",
       "    .dataframe thead th {\n",
       "        text-align: right;\n",
       "    }\n",
       "</style>\n",
       "<table border=\"1\" class=\"dataframe\">\n",
       "  <thead>\n",
       "    <tr style=\"text-align: right;\">\n",
       "      <th></th>\n",
       "      <th>year_month</th>\n",
       "      <th>STATE__C</th>\n",
       "      <th>STATE_ABBREVIATION__C</th>\n",
       "      <th>MSA_MARKET_PRIMARY__C</th>\n",
       "      <th>io_count</th>\n",
       "    </tr>\n",
       "  </thead>\n",
       "  <tbody>\n",
       "    <tr>\n",
       "      <th>103</th>\n",
       "      <td>2021-06-01</td>\n",
       "      <td>Texas</td>\n",
       "      <td>TX</td>\n",
       "      <td>Austin-Round Rock, TX MSA</td>\n",
       "      <td>11</td>\n",
       "    </tr>\n",
       "    <tr>\n",
       "      <th>245</th>\n",
       "      <td>2021-07-01</td>\n",
       "      <td>Texas</td>\n",
       "      <td>TX</td>\n",
       "      <td>Austin-Round Rock, TX MSA</td>\n",
       "      <td>14</td>\n",
       "    </tr>\n",
       "    <tr>\n",
       "      <th>358</th>\n",
       "      <td>2021-08-01</td>\n",
       "      <td>Texas</td>\n",
       "      <td>TX</td>\n",
       "      <td>Austin-Round Rock, TX MSA</td>\n",
       "      <td>6</td>\n",
       "    </tr>\n",
       "    <tr>\n",
       "      <th>478</th>\n",
       "      <td>2021-09-01</td>\n",
       "      <td>Texas</td>\n",
       "      <td>TX</td>\n",
       "      <td>Austin-Round Rock, TX MSA</td>\n",
       "      <td>12</td>\n",
       "    </tr>\n",
       "    <tr>\n",
       "      <th>608</th>\n",
       "      <td>2021-10-01</td>\n",
       "      <td>Texas</td>\n",
       "      <td>TX</td>\n",
       "      <td>Austin-Round Rock, TX MSA</td>\n",
       "      <td>15</td>\n",
       "    </tr>\n",
       "  </tbody>\n",
       "</table>\n",
       "</div>"
      ],
      "text/plain": [
       "    year_month STATE__C STATE_ABBREVIATION__C      MSA_MARKET_PRIMARY__C  \\\n",
       "103 2021-06-01    Texas                    TX  Austin-Round Rock, TX MSA   \n",
       "245 2021-07-01    Texas                    TX  Austin-Round Rock, TX MSA   \n",
       "358 2021-08-01    Texas                    TX  Austin-Round Rock, TX MSA   \n",
       "478 2021-09-01    Texas                    TX  Austin-Round Rock, TX MSA   \n",
       "608 2021-10-01    Texas                    TX  Austin-Round Rock, TX MSA   \n",
       "\n",
       "     io_count  \n",
       "103        11  \n",
       "245        14  \n",
       "358         6  \n",
       "478        12  \n",
       "608        15  "
      ]
     },
     "execution_count": 15,
     "metadata": {},
     "output_type": "execute_result"
    }
   ],
   "source": [
    "city_monthly_data[\"year_month\"] = city_monthly_data[\"year_month\"].dt.to_timestamp()\n",
    "city_monthly_data.head()"
   ]
  },
  {
   "cell_type": "code",
   "execution_count": 16,
   "id": "1a6a6802",
   "metadata": {
    "execution": {
     "iopub.execute_input": "2024-11-22T00:47:36.073468Z",
     "iopub.status.busy": "2024-11-22T00:47:36.073364Z",
     "iopub.status.idle": "2024-11-22T00:47:36.077815Z",
     "shell.execute_reply": "2024-11-22T00:47:36.077614Z"
    },
    "papermill": {
     "duration": 0.009248,
     "end_time": "2024-11-22T00:47:36.078450",
     "exception": false,
     "start_time": "2024-11-22T00:47:36.069202",
     "status": "completed"
    },
    "tags": []
   },
   "outputs": [
    {
     "name": "stdout",
     "output_type": "stream",
     "text": [
      "2024-09-01\n",
      "2024-11-01\n"
     ]
    },
    {
     "data": {
      "text/html": [
       "<div>\n",
       "<style scoped>\n",
       "    .dataframe tbody tr th:only-of-type {\n",
       "        vertical-align: middle;\n",
       "    }\n",
       "\n",
       "    .dataframe tbody tr th {\n",
       "        vertical-align: top;\n",
       "    }\n",
       "\n",
       "    .dataframe thead th {\n",
       "        text-align: right;\n",
       "    }\n",
       "</style>\n",
       "<table border=\"1\" class=\"dataframe\">\n",
       "  <thead>\n",
       "    <tr style=\"text-align: right;\">\n",
       "      <th></th>\n",
       "      <th>year_month</th>\n",
       "      <th>io_count</th>\n",
       "    </tr>\n",
       "  </thead>\n",
       "  <tbody>\n",
       "    <tr>\n",
       "      <th>103</th>\n",
       "      <td>2021-06-01</td>\n",
       "      <td>11</td>\n",
       "    </tr>\n",
       "    <tr>\n",
       "      <th>245</th>\n",
       "      <td>2021-07-01</td>\n",
       "      <td>14</td>\n",
       "    </tr>\n",
       "    <tr>\n",
       "      <th>358</th>\n",
       "      <td>2021-08-01</td>\n",
       "      <td>6</td>\n",
       "    </tr>\n",
       "    <tr>\n",
       "      <th>478</th>\n",
       "      <td>2021-09-01</td>\n",
       "      <td>12</td>\n",
       "    </tr>\n",
       "    <tr>\n",
       "      <th>608</th>\n",
       "      <td>2021-10-01</td>\n",
       "      <td>15</td>\n",
       "    </tr>\n",
       "  </tbody>\n",
       "</table>\n",
       "</div>"
      ],
      "text/plain": [
       "    year_month  io_count\n",
       "103 2021-06-01        11\n",
       "245 2021-07-01        14\n",
       "358 2021-08-01         6\n",
       "478 2021-09-01        12\n",
       "608 2021-10-01        15"
      ]
     },
     "execution_count": 16,
     "metadata": {},
     "output_type": "execute_result"
    }
   ],
   "source": [
    "\n",
    "#from datetime import date\n",
    "\n",
    "\n",
    "\n",
    "print(intervention_date)\n",
    "\n",
    "marketing_pre_period = city_monthly_data[\n",
    "    city_monthly_data[\"year_month\"] < intervention_date\n",
    "][[\"year_month\", \"io_count\"]]\n",
    "\n",
    "today = dt.date.today()\n",
    "\n",
    "# # Convert to datetime and round to the start of the month\n",
    "today_month_start = pd.to_datetime(today).to_period('M').to_timestamp()\n",
    "\n",
    "# # Convert back to string in yyyy-mm-dd format\n",
    "treatment_end_date = today_month_start.strftime('%Y-%m-%d')\n",
    "\n",
    "print(treatment_end_date)\n",
    "\n",
    "\n",
    "marketing_post_period = city_monthly_data[\n",
    "    (city_monthly_data[\"year_month\"]\n",
    "    >= intervention_date) & (city_monthly_data[\"year_month\"]\n",
    "    < treatment_end_date)\n",
    "][[\"year_month\", \"io_count\"]]\n",
    "\n",
    "marketing_pre_period.head()\n",
    "\n",
    "# ['2010-02-05','2012-06-29']\n",
    "\n",
    "\n",
    "# marketing_post_period.head()"
   ]
  },
  {
   "cell_type": "code",
   "execution_count": 17,
   "id": "a6eace69",
   "metadata": {
    "execution": {
     "iopub.execute_input": "2024-11-22T00:47:36.087116Z",
     "iopub.status.busy": "2024-11-22T00:47:36.087026Z",
     "iopub.status.idle": "2024-11-22T00:47:36.090221Z",
     "shell.execute_reply": "2024-11-22T00:47:36.089964Z"
    },
    "papermill": {
     "duration": 0.007853,
     "end_time": "2024-11-22T00:47:36.090745",
     "exception": false,
     "start_time": "2024-11-22T00:47:36.082892",
     "status": "completed"
    },
    "tags": []
   },
   "outputs": [
    {
     "name": "stderr",
     "output_type": "stream",
     "text": [
      "/var/folders/sb/n8yqrs6n7y9ghs7jf_2n7h280000gp/T/ipykernel_4874/330667666.py:3: SettingWithCopyWarning: \n",
      "A value is trying to be set on a copy of a slice from a DataFrame.\n",
      "Try using .loc[row_indexer,col_indexer] = value instead\n",
      "\n",
      "See the caveats in the documentation: https://pandas.pydata.org/pandas-docs/stable/user_guide/indexing.html#returning-a-view-versus-a-copy\n",
      "  df_final['year_month'] = pd.to_datetime(df_final['year_month'])  # Adjust column name if necessary\n"
     ]
    },
    {
     "data": {
      "text/html": [
       "<div>\n",
       "<style scoped>\n",
       "    .dataframe tbody tr th:only-of-type {\n",
       "        vertical-align: middle;\n",
       "    }\n",
       "\n",
       "    .dataframe tbody tr th {\n",
       "        vertical-align: top;\n",
       "    }\n",
       "\n",
       "    .dataframe thead th {\n",
       "        text-align: right;\n",
       "    }\n",
       "</style>\n",
       "<table border=\"1\" class=\"dataframe\">\n",
       "  <thead>\n",
       "    <tr style=\"text-align: right;\">\n",
       "      <th></th>\n",
       "      <th>io_count</th>\n",
       "    </tr>\n",
       "    <tr>\n",
       "      <th>year_month</th>\n",
       "      <th></th>\n",
       "    </tr>\n",
       "  </thead>\n",
       "  <tbody>\n",
       "    <tr>\n",
       "      <th>2021-06-01</th>\n",
       "      <td>11</td>\n",
       "    </tr>\n",
       "    <tr>\n",
       "      <th>2021-07-01</th>\n",
       "      <td>14</td>\n",
       "    </tr>\n",
       "    <tr>\n",
       "      <th>2021-08-01</th>\n",
       "      <td>6</td>\n",
       "    </tr>\n",
       "    <tr>\n",
       "      <th>2021-09-01</th>\n",
       "      <td>12</td>\n",
       "    </tr>\n",
       "    <tr>\n",
       "      <th>2021-10-01</th>\n",
       "      <td>15</td>\n",
       "    </tr>\n",
       "  </tbody>\n",
       "</table>\n",
       "</div>"
      ],
      "text/plain": [
       "            io_count\n",
       "year_month          \n",
       "2021-06-01        11\n",
       "2021-07-01        14\n",
       "2021-08-01         6\n",
       "2021-09-01        12\n",
       "2021-10-01        15"
      ]
     },
     "execution_count": 17,
     "metadata": {},
     "output_type": "execute_result"
    }
   ],
   "source": [
    "df_final = city_monthly_data[['year_month', 'io_count']]\n",
    "# Convert the date column to datetime (if it's not already)\n",
    "df_final['year_month'] = pd.to_datetime(df_final['year_month'])  # Adjust column name if necessary\n",
    "\n",
    "# Set the date column as the index\n",
    "df_final.set_index('year_month', inplace=True)\n",
    "df_final.head()"
   ]
  },
  {
   "cell_type": "code",
   "execution_count": 18,
   "id": "572bf117",
   "metadata": {
    "execution": {
     "iopub.execute_input": "2024-11-22T00:47:36.099111Z",
     "iopub.status.busy": "2024-11-22T00:47:36.099018Z",
     "iopub.status.idle": "2024-11-22T00:47:36.100870Z",
     "shell.execute_reply": "2024-11-22T00:47:36.100679Z"
    },
    "papermill": {
     "duration": 0.006658,
     "end_time": "2024-11-22T00:47:36.101434",
     "exception": false,
     "start_time": "2024-11-22T00:47:36.094776",
     "status": "completed"
    },
    "tags": []
   },
   "outputs": [
    {
     "data": {
      "text/plain": [
       "pandas.core.frame.DataFrame"
      ]
     },
     "execution_count": 18,
     "metadata": {},
     "output_type": "execute_result"
    }
   ],
   "source": [
    "type(marketing_post_period)"
   ]
  },
  {
   "cell_type": "code",
   "execution_count": 19,
   "id": "06b5564e",
   "metadata": {
    "execution": {
     "iopub.execute_input": "2024-11-22T00:47:36.109501Z",
     "iopub.status.busy": "2024-11-22T00:47:36.109420Z",
     "iopub.status.idle": "2024-11-22T00:47:36.112332Z",
     "shell.execute_reply": "2024-11-22T00:47:36.112121Z"
    },
    "papermill": {
     "duration": 0.007573,
     "end_time": "2024-11-22T00:47:36.112938",
     "exception": false,
     "start_time": "2024-11-22T00:47:36.105365",
     "status": "completed"
    },
    "tags": []
   },
   "outputs": [],
   "source": [
    "# Combine data\n",
    "#intervention_date = '2024-08-01'\n",
    "data = pd.concat([marketing_pre_period, marketing_post_period])\n",
    "data[\"intervention\"] = data[\"year_month\"] >= pd.to_datetime(intervention_date)\n",
    "data[\"t\"]=range(len(data))\n",
    "data['month'] = data['year_month'].dt.month\n",
    "\n",
    "data_final = data.set_index('year_month')\n"
   ]
  },
  {
   "cell_type": "code",
   "execution_count": 20,
   "id": "88c684b2",
   "metadata": {
    "execution": {
     "iopub.execute_input": "2024-11-22T00:47:36.120950Z",
     "iopub.status.busy": "2024-11-22T00:47:36.120870Z",
     "iopub.status.idle": "2024-11-22T00:47:36.123537Z",
     "shell.execute_reply": "2024-11-22T00:47:36.123358Z"
    },
    "papermill": {
     "duration": 0.007234,
     "end_time": "2024-11-22T00:47:36.124053",
     "exception": false,
     "start_time": "2024-11-22T00:47:36.116819",
     "status": "completed"
    },
    "tags": []
   },
   "outputs": [
    {
     "data": {
      "text/html": [
       "<div>\n",
       "<style scoped>\n",
       "    .dataframe tbody tr th:only-of-type {\n",
       "        vertical-align: middle;\n",
       "    }\n",
       "\n",
       "    .dataframe tbody tr th {\n",
       "        vertical-align: top;\n",
       "    }\n",
       "\n",
       "    .dataframe thead th {\n",
       "        text-align: right;\n",
       "    }\n",
       "</style>\n",
       "<table border=\"1\" class=\"dataframe\">\n",
       "  <thead>\n",
       "    <tr style=\"text-align: right;\">\n",
       "      <th></th>\n",
       "      <th>year_month</th>\n",
       "      <th>io_count</th>\n",
       "      <th>intervention</th>\n",
       "      <th>t</th>\n",
       "      <th>month</th>\n",
       "    </tr>\n",
       "  </thead>\n",
       "  <tbody>\n",
       "    <tr>\n",
       "      <th>103</th>\n",
       "      <td>2021-06-01</td>\n",
       "      <td>11</td>\n",
       "      <td>False</td>\n",
       "      <td>0</td>\n",
       "      <td>6</td>\n",
       "    </tr>\n",
       "    <tr>\n",
       "      <th>245</th>\n",
       "      <td>2021-07-01</td>\n",
       "      <td>14</td>\n",
       "      <td>False</td>\n",
       "      <td>1</td>\n",
       "      <td>7</td>\n",
       "    </tr>\n",
       "    <tr>\n",
       "      <th>358</th>\n",
       "      <td>2021-08-01</td>\n",
       "      <td>6</td>\n",
       "      <td>False</td>\n",
       "      <td>2</td>\n",
       "      <td>8</td>\n",
       "    </tr>\n",
       "    <tr>\n",
       "      <th>478</th>\n",
       "      <td>2021-09-01</td>\n",
       "      <td>12</td>\n",
       "      <td>False</td>\n",
       "      <td>3</td>\n",
       "      <td>9</td>\n",
       "    </tr>\n",
       "    <tr>\n",
       "      <th>608</th>\n",
       "      <td>2021-10-01</td>\n",
       "      <td>15</td>\n",
       "      <td>False</td>\n",
       "      <td>4</td>\n",
       "      <td>10</td>\n",
       "    </tr>\n",
       "  </tbody>\n",
       "</table>\n",
       "</div>"
      ],
      "text/plain": [
       "    year_month  io_count  intervention  t  month\n",
       "103 2021-06-01        11         False  0      6\n",
       "245 2021-07-01        14         False  1      7\n",
       "358 2021-08-01         6         False  2      8\n",
       "478 2021-09-01        12         False  3      9\n",
       "608 2021-10-01        15         False  4     10"
      ]
     },
     "execution_count": 20,
     "metadata": {},
     "output_type": "execute_result"
    }
   ],
   "source": [
    "data.head()"
   ]
  },
  {
   "cell_type": "code",
   "execution_count": 21,
   "id": "10b29e67",
   "metadata": {
    "execution": {
     "iopub.execute_input": "2024-11-22T00:47:36.132356Z",
     "iopub.status.busy": "2024-11-22T00:47:36.132278Z",
     "iopub.status.idle": "2024-11-22T00:47:36.134775Z",
     "shell.execute_reply": "2024-11-22T00:47:36.134594Z"
    },
    "papermill": {
     "duration": 0.007404,
     "end_time": "2024-11-22T00:47:36.135327",
     "exception": false,
     "start_time": "2024-11-22T00:47:36.127923",
     "status": "completed"
    },
    "tags": []
   },
   "outputs": [
    {
     "data": {
      "text/html": [
       "<div>\n",
       "<style scoped>\n",
       "    .dataframe tbody tr th:only-of-type {\n",
       "        vertical-align: middle;\n",
       "    }\n",
       "\n",
       "    .dataframe tbody tr th {\n",
       "        vertical-align: top;\n",
       "    }\n",
       "\n",
       "    .dataframe thead th {\n",
       "        text-align: right;\n",
       "    }\n",
       "</style>\n",
       "<table border=\"1\" class=\"dataframe\">\n",
       "  <thead>\n",
       "    <tr style=\"text-align: right;\">\n",
       "      <th></th>\n",
       "      <th>io_count</th>\n",
       "      <th>intervention</th>\n",
       "      <th>t</th>\n",
       "      <th>month</th>\n",
       "    </tr>\n",
       "    <tr>\n",
       "      <th>year_month</th>\n",
       "      <th></th>\n",
       "      <th></th>\n",
       "      <th></th>\n",
       "      <th></th>\n",
       "    </tr>\n",
       "  </thead>\n",
       "  <tbody>\n",
       "    <tr>\n",
       "      <th>2021-06-01</th>\n",
       "      <td>11</td>\n",
       "      <td>False</td>\n",
       "      <td>0</td>\n",
       "      <td>6</td>\n",
       "    </tr>\n",
       "    <tr>\n",
       "      <th>2021-07-01</th>\n",
       "      <td>14</td>\n",
       "      <td>False</td>\n",
       "      <td>1</td>\n",
       "      <td>7</td>\n",
       "    </tr>\n",
       "    <tr>\n",
       "      <th>2021-08-01</th>\n",
       "      <td>6</td>\n",
       "      <td>False</td>\n",
       "      <td>2</td>\n",
       "      <td>8</td>\n",
       "    </tr>\n",
       "    <tr>\n",
       "      <th>2021-09-01</th>\n",
       "      <td>12</td>\n",
       "      <td>False</td>\n",
       "      <td>3</td>\n",
       "      <td>9</td>\n",
       "    </tr>\n",
       "    <tr>\n",
       "      <th>2021-10-01</th>\n",
       "      <td>15</td>\n",
       "      <td>False</td>\n",
       "      <td>4</td>\n",
       "      <td>10</td>\n",
       "    </tr>\n",
       "  </tbody>\n",
       "</table>\n",
       "</div>"
      ],
      "text/plain": [
       "            io_count  intervention  t  month\n",
       "year_month                                  \n",
       "2021-06-01        11         False  0      6\n",
       "2021-07-01        14         False  1      7\n",
       "2021-08-01         6         False  2      8\n",
       "2021-09-01        12         False  3      9\n",
       "2021-10-01        15         False  4     10"
      ]
     },
     "execution_count": 21,
     "metadata": {},
     "output_type": "execute_result"
    }
   ],
   "source": [
    "data_final.head()"
   ]
  },
  {
   "cell_type": "code",
   "execution_count": 22,
   "id": "90a82336",
   "metadata": {
    "execution": {
     "iopub.execute_input": "2024-11-22T00:47:36.143585Z",
     "iopub.status.busy": "2024-11-22T00:47:36.143504Z",
     "iopub.status.idle": "2024-11-22T00:47:36.146136Z",
     "shell.execute_reply": "2024-11-22T00:47:36.145927Z"
    },
    "papermill": {
     "duration": 0.007458,
     "end_time": "2024-11-22T00:47:36.146730",
     "exception": false,
     "start_time": "2024-11-22T00:47:36.139272",
     "status": "completed"
    },
    "tags": []
   },
   "outputs": [
    {
     "data": {
      "text/html": [
       "<div>\n",
       "<style scoped>\n",
       "    .dataframe tbody tr th:only-of-type {\n",
       "        vertical-align: middle;\n",
       "    }\n",
       "\n",
       "    .dataframe tbody tr th {\n",
       "        vertical-align: top;\n",
       "    }\n",
       "\n",
       "    .dataframe thead th {\n",
       "        text-align: right;\n",
       "    }\n",
       "</style>\n",
       "<table border=\"1\" class=\"dataframe\">\n",
       "  <thead>\n",
       "    <tr style=\"text-align: right;\">\n",
       "      <th></th>\n",
       "      <th>io_count</th>\n",
       "      <th>intervention</th>\n",
       "      <th>t</th>\n",
       "      <th>month</th>\n",
       "    </tr>\n",
       "    <tr>\n",
       "      <th>year_month</th>\n",
       "      <th></th>\n",
       "      <th></th>\n",
       "      <th></th>\n",
       "      <th></th>\n",
       "    </tr>\n",
       "  </thead>\n",
       "  <tbody>\n",
       "    <tr>\n",
       "      <th>2024-06-01</th>\n",
       "      <td>11</td>\n",
       "      <td>False</td>\n",
       "      <td>36</td>\n",
       "      <td>6</td>\n",
       "    </tr>\n",
       "    <tr>\n",
       "      <th>2024-07-01</th>\n",
       "      <td>18</td>\n",
       "      <td>False</td>\n",
       "      <td>37</td>\n",
       "      <td>7</td>\n",
       "    </tr>\n",
       "    <tr>\n",
       "      <th>2024-08-01</th>\n",
       "      <td>20</td>\n",
       "      <td>False</td>\n",
       "      <td>38</td>\n",
       "      <td>8</td>\n",
       "    </tr>\n",
       "    <tr>\n",
       "      <th>2024-09-01</th>\n",
       "      <td>21</td>\n",
       "      <td>True</td>\n",
       "      <td>39</td>\n",
       "      <td>9</td>\n",
       "    </tr>\n",
       "    <tr>\n",
       "      <th>2024-10-01</th>\n",
       "      <td>13</td>\n",
       "      <td>True</td>\n",
       "      <td>40</td>\n",
       "      <td>10</td>\n",
       "    </tr>\n",
       "  </tbody>\n",
       "</table>\n",
       "</div>"
      ],
      "text/plain": [
       "            io_count  intervention   t  month\n",
       "year_month                                   \n",
       "2024-06-01        11         False  36      6\n",
       "2024-07-01        18         False  37      7\n",
       "2024-08-01        20         False  38      8\n",
       "2024-09-01        21          True  39      9\n",
       "2024-10-01        13          True  40     10"
      ]
     },
     "execution_count": 22,
     "metadata": {},
     "output_type": "execute_result"
    }
   ],
   "source": [
    "data_final.tail()"
   ]
  },
  {
   "cell_type": "code",
   "execution_count": 23,
   "id": "bae8ce1d",
   "metadata": {
    "execution": {
     "iopub.execute_input": "2024-11-22T00:47:36.155399Z",
     "iopub.status.busy": "2024-11-22T00:47:36.155315Z",
     "iopub.status.idle": "2024-11-22T00:47:36.157514Z",
     "shell.execute_reply": "2024-11-22T00:47:36.157333Z"
    },
    "papermill": {
     "duration": 0.007158,
     "end_time": "2024-11-22T00:47:36.158107",
     "exception": false,
     "start_time": "2024-11-22T00:47:36.150949",
     "status": "completed"
    },
    "tags": []
   },
   "outputs": [
    {
     "data": {
      "text/plain": [
       "io_count        0\n",
       "intervention    0\n",
       "t               0\n",
       "month           0\n",
       "dtype: int64"
      ]
     },
     "execution_count": 23,
     "metadata": {},
     "output_type": "execute_result"
    }
   ],
   "source": [
    "data_final.isna().sum()"
   ]
  },
  {
   "cell_type": "code",
   "execution_count": 24,
   "id": "6d28ce3d",
   "metadata": {
    "execution": {
     "iopub.execute_input": "2024-11-22T00:47:36.184038Z",
     "iopub.status.busy": "2024-11-22T00:47:36.183940Z",
     "iopub.status.idle": "2024-11-22T00:47:36.186597Z",
     "shell.execute_reply": "2024-11-22T00:47:36.186429Z"
    },
    "papermill": {
     "duration": 0.007816,
     "end_time": "2024-11-22T00:47:36.187124",
     "exception": false,
     "start_time": "2024-11-22T00:47:36.179308",
     "status": "completed"
    },
    "tags": []
   },
   "outputs": [
    {
     "data": {
      "text/html": [
       "<div>\n",
       "<style scoped>\n",
       "    .dataframe tbody tr th:only-of-type {\n",
       "        vertical-align: middle;\n",
       "    }\n",
       "\n",
       "    .dataframe tbody tr th {\n",
       "        vertical-align: top;\n",
       "    }\n",
       "\n",
       "    .dataframe thead th {\n",
       "        text-align: right;\n",
       "    }\n",
       "</style>\n",
       "<table border=\"1\" class=\"dataframe\">\n",
       "  <thead>\n",
       "    <tr style=\"text-align: right;\">\n",
       "      <th></th>\n",
       "      <th>io_count</th>\n",
       "      <th>intervention</th>\n",
       "      <th>t</th>\n",
       "      <th>month</th>\n",
       "    </tr>\n",
       "    <tr>\n",
       "      <th>year_month</th>\n",
       "      <th></th>\n",
       "      <th></th>\n",
       "      <th></th>\n",
       "      <th></th>\n",
       "    </tr>\n",
       "  </thead>\n",
       "  <tbody>\n",
       "    <tr>\n",
       "      <th>2021-06-01</th>\n",
       "      <td>11</td>\n",
       "      <td>False</td>\n",
       "      <td>0</td>\n",
       "      <td>6</td>\n",
       "    </tr>\n",
       "    <tr>\n",
       "      <th>2021-07-01</th>\n",
       "      <td>14</td>\n",
       "      <td>False</td>\n",
       "      <td>1</td>\n",
       "      <td>7</td>\n",
       "    </tr>\n",
       "    <tr>\n",
       "      <th>2021-08-01</th>\n",
       "      <td>6</td>\n",
       "      <td>False</td>\n",
       "      <td>2</td>\n",
       "      <td>8</td>\n",
       "    </tr>\n",
       "    <tr>\n",
       "      <th>2021-09-01</th>\n",
       "      <td>12</td>\n",
       "      <td>False</td>\n",
       "      <td>3</td>\n",
       "      <td>9</td>\n",
       "    </tr>\n",
       "    <tr>\n",
       "      <th>2021-10-01</th>\n",
       "      <td>15</td>\n",
       "      <td>False</td>\n",
       "      <td>4</td>\n",
       "      <td>10</td>\n",
       "    </tr>\n",
       "  </tbody>\n",
       "</table>\n",
       "</div>"
      ],
      "text/plain": [
       "            io_count  intervention  t  month\n",
       "year_month                                  \n",
       "2021-06-01        11         False  0      6\n",
       "2021-07-01        14         False  1      7\n",
       "2021-08-01         6         False  2      8\n",
       "2021-09-01        12         False  3      9\n",
       "2021-10-01        15         False  4     10"
      ]
     },
     "execution_count": 24,
     "metadata": {},
     "output_type": "execute_result"
    }
   ],
   "source": [
    "data_final.head()\n"
   ]
  },
  {
   "cell_type": "code",
   "execution_count": 25,
   "id": "3d6124bc",
   "metadata": {
    "execution": {
     "iopub.execute_input": "2024-11-22T00:47:36.196165Z",
     "iopub.status.busy": "2024-11-22T00:47:36.196078Z",
     "iopub.status.idle": "2024-11-22T00:47:36.198581Z",
     "shell.execute_reply": "2024-11-22T00:47:36.198422Z"
    },
    "papermill": {
     "duration": 0.007468,
     "end_time": "2024-11-22T00:47:36.199109",
     "exception": false,
     "start_time": "2024-11-22T00:47:36.191641",
     "status": "completed"
    },
    "tags": []
   },
   "outputs": [
    {
     "data": {
      "text/html": [
       "<div>\n",
       "<style scoped>\n",
       "    .dataframe tbody tr th:only-of-type {\n",
       "        vertical-align: middle;\n",
       "    }\n",
       "\n",
       "    .dataframe tbody tr th {\n",
       "        vertical-align: top;\n",
       "    }\n",
       "\n",
       "    .dataframe thead th {\n",
       "        text-align: right;\n",
       "    }\n",
       "</style>\n",
       "<table border=\"1\" class=\"dataframe\">\n",
       "  <thead>\n",
       "    <tr style=\"text-align: right;\">\n",
       "      <th></th>\n",
       "      <th>io_count</th>\n",
       "      <th>intervention</th>\n",
       "      <th>t</th>\n",
       "      <th>month</th>\n",
       "    </tr>\n",
       "    <tr>\n",
       "      <th>year_month</th>\n",
       "      <th></th>\n",
       "      <th></th>\n",
       "      <th></th>\n",
       "      <th></th>\n",
       "    </tr>\n",
       "  </thead>\n",
       "  <tbody>\n",
       "    <tr>\n",
       "      <th>2024-06-01</th>\n",
       "      <td>11</td>\n",
       "      <td>False</td>\n",
       "      <td>36</td>\n",
       "      <td>6</td>\n",
       "    </tr>\n",
       "    <tr>\n",
       "      <th>2024-07-01</th>\n",
       "      <td>18</td>\n",
       "      <td>False</td>\n",
       "      <td>37</td>\n",
       "      <td>7</td>\n",
       "    </tr>\n",
       "    <tr>\n",
       "      <th>2024-08-01</th>\n",
       "      <td>20</td>\n",
       "      <td>False</td>\n",
       "      <td>38</td>\n",
       "      <td>8</td>\n",
       "    </tr>\n",
       "    <tr>\n",
       "      <th>2024-09-01</th>\n",
       "      <td>21</td>\n",
       "      <td>True</td>\n",
       "      <td>39</td>\n",
       "      <td>9</td>\n",
       "    </tr>\n",
       "    <tr>\n",
       "      <th>2024-10-01</th>\n",
       "      <td>13</td>\n",
       "      <td>True</td>\n",
       "      <td>40</td>\n",
       "      <td>10</td>\n",
       "    </tr>\n",
       "  </tbody>\n",
       "</table>\n",
       "</div>"
      ],
      "text/plain": [
       "            io_count  intervention   t  month\n",
       "year_month                                   \n",
       "2024-06-01        11         False  36      6\n",
       "2024-07-01        18         False  37      7\n",
       "2024-08-01        20         False  38      8\n",
       "2024-09-01        21          True  39      9\n",
       "2024-10-01        13          True  40     10"
      ]
     },
     "execution_count": 25,
     "metadata": {},
     "output_type": "execute_result"
    }
   ],
   "source": [
    "data_final.tail()"
   ]
  },
  {
   "cell_type": "code",
   "execution_count": 26,
   "id": "46133487",
   "metadata": {
    "execution": {
     "iopub.execute_input": "2024-11-22T00:47:36.207947Z",
     "iopub.status.busy": "2024-11-22T00:47:36.207867Z",
     "iopub.status.idle": "2024-11-22T00:47:47.391623Z",
     "shell.execute_reply": "2024-11-22T00:47:47.391371Z"
    },
    "papermill": {
     "duration": 11.189012,
     "end_time": "2024-11-22T00:47:47.392367",
     "exception": false,
     "start_time": "2024-11-22T00:47:36.203355",
     "status": "completed"
    },
    "tags": []
   },
   "outputs": [
    {
     "name": "stdout",
     "output_type": "stream",
     "text": [
      "Initiating login request with your identity provider. A browser window should have opened for you to complete the login. If you can't see it, check existing browser windows, or your OS settings. Press CTRL+C to abort and try again...\n",
      "Going to open: https://justworks.cloudflareaccess.com/cdn-cgi/access/sso/saml/d74bc06bca5abf66677a16a11e6235e70f0ac75f0e462ccdea97b5bcb5cab993?SAMLRequest=lZNRb9owFIX%2FSuQ9J3ZCSBoLqCisGxp0qISt25vjOOCS2KntkPLv5xCQOk2ttLfo5lx%2F595jj25fq9I5MqW5FGPgewg4TFCZc7Ebg216794ARxsiclJKwcbgxDS4nYw0qcoaTxuzF4%2FspWHaOPYgoXH3YwwaJbAkmmssSMU0NhRvpqslDjyEidZMGYsDl5Zcc8vaG1NjCNu29dqBJ9UOBgghiBJoVZ3kE3iDqD9m1EoaSWV5bXm1M72D8CEKO4RVWML60njHRb%2BCjyhZL9L4a5qu3fX3TQqc6XW6mRS6qZjaMHXklG0fl70BbR08N9q0Uh20WxEuPC1kW5TkwKis6sbYIz37BQuWw1LuuF3UYj4G9YHnX262y0P2NFvtSDtLn%2FbZ8yr6yX7tNy%2BbMlHZ6fP%2B2939IhsExy0Fzo9rrEEX60Lrhi1EF6axJRSEru%2B7QZAihMMYDyIvDJPfwJnbMLkg5tz5j2OPlrLJrVvFCKVM67NVmguX7jjsS1BrCbuUYB6HGUVRRsmQZEUURXFM%2FIj4PouCwZDFqECExsMCsTAKKM0ZSeJsmNFsSEmWJAPQ3zR89q4m%2F7W%2FEXzbermxDzbExXwtS05Pzr1UFTHvZ%2Bx7%2FrnCc7c4SzGzvHKa58pOabMuS9nO7CKMfRhGNQzASU%2F9%2B2lM%2FgA%3D&RelayState=ver%3A1-hint%3A5006656328985510-ETMsDgAAAZNRVrG0ABRBRVMvQ0JDL1BLQ1M1UGFkZGluZwEAABAAEHskzursIYFlz3slSZADKZsAAACA1CtEc7mRr9MBO5Gid%2FncCy6idMtUqJ7CBhL%2B6sJaGHgBz3PSpEKIgm%2F9DJVp1Bd0WNfthtLiNHWm3fB9jqtO5uBEESCTP6TLIyqXwiqN5xAEXSG7uD37UrHo0b6ntkKCf20rBtokE5Ukg6ILfdjDBGxTYdOOIg8IkWMRrt691S4AFED7EQr4Sc7e%2Bk%2FkEY9hmqR%2BqzcL to authenticate...\n"
     ]
    },
    {
     "name": "stderr",
     "output_type": "stream",
     "text": [
      "/Users/lmola/Documents/Luis_Projects/OOH/prod/testing/direct_search_query.py:31: UserWarning: pandas only supports SQLAlchemy connectable (engine/connection) or database string URI or sqlite3 DBAPI2 connection. Other DBAPI2 objects are not tested. Please consider using SQLAlchemy.\n",
      "  df = pd.read_sql(direct_query, conn)\n"
     ]
    },
    {
     "data": {
      "text/html": [
       "<div>\n",
       "<style scoped>\n",
       "    .dataframe tbody tr th:only-of-type {\n",
       "        vertical-align: middle;\n",
       "    }\n",
       "\n",
       "    .dataframe tbody tr th {\n",
       "        vertical-align: top;\n",
       "    }\n",
       "\n",
       "    .dataframe thead th {\n",
       "        text-align: right;\n",
       "    }\n",
       "</style>\n",
       "<table border=\"1\" class=\"dataframe\">\n",
       "  <thead>\n",
       "    <tr style=\"text-align: right;\">\n",
       "      <th></th>\n",
       "      <th>CITY</th>\n",
       "      <th>REGION</th>\n",
       "      <th>COUNTRY</th>\n",
       "      <th>MARKETING_CHANNEL</th>\n",
       "      <th>MONTH_START</th>\n",
       "      <th>MONTHLY_SUM</th>\n",
       "    </tr>\n",
       "  </thead>\n",
       "  <tbody>\n",
       "    <tr>\n",
       "      <th>1360</th>\n",
       "      <td>Austin</td>\n",
       "      <td>Texas</td>\n",
       "      <td>United States</td>\n",
       "      <td>Direct</td>\n",
       "      <td>2022-03-01</td>\n",
       "      <td>785</td>\n",
       "    </tr>\n",
       "    <tr>\n",
       "      <th>2939</th>\n",
       "      <td>Austin</td>\n",
       "      <td>Texas</td>\n",
       "      <td>United States</td>\n",
       "      <td>Direct</td>\n",
       "      <td>2022-04-01</td>\n",
       "      <td>212</td>\n",
       "    </tr>\n",
       "    <tr>\n",
       "      <th>6572</th>\n",
       "      <td>Austin</td>\n",
       "      <td>Texas</td>\n",
       "      <td>United States</td>\n",
       "      <td>Direct</td>\n",
       "      <td>2022-05-01</td>\n",
       "      <td>208</td>\n",
       "    </tr>\n",
       "    <tr>\n",
       "      <th>8230</th>\n",
       "      <td>Austin</td>\n",
       "      <td>Texas</td>\n",
       "      <td>United States</td>\n",
       "      <td>Direct</td>\n",
       "      <td>2022-06-01</td>\n",
       "      <td>275</td>\n",
       "    </tr>\n",
       "    <tr>\n",
       "      <th>14298</th>\n",
       "      <td>Austin</td>\n",
       "      <td>Texas</td>\n",
       "      <td>United States</td>\n",
       "      <td>Direct</td>\n",
       "      <td>2022-07-01</td>\n",
       "      <td>5187</td>\n",
       "    </tr>\n",
       "  </tbody>\n",
       "</table>\n",
       "</div>"
      ],
      "text/plain": [
       "         CITY REGION        COUNTRY MARKETING_CHANNEL MONTH_START  MONTHLY_SUM\n",
       "1360   Austin  Texas  United States            Direct  2022-03-01          785\n",
       "2939   Austin  Texas  United States            Direct  2022-04-01          212\n",
       "6572   Austin  Texas  United States            Direct  2022-05-01          208\n",
       "8230   Austin  Texas  United States            Direct  2022-06-01          275\n",
       "14298  Austin  Texas  United States            Direct  2022-07-01         5187"
      ]
     },
     "execution_count": 26,
     "metadata": {},
     "output_type": "execute_result"
    }
   ],
   "source": [
    "# Import the function from your external script\n",
    "from direct_search_query import run_direct_search_query\n",
    "\n",
    "# Run the query and get the results as a DataFrame\n",
    "#direct_search_df = run_direct_search_query('New York', 'New York')\n",
    "direct_search_df = run_direct_search_query(MSA_MARKET, STATE)\n",
    "\n",
    "# Display the DataFrame\n",
    "direct_search_df.head()"
   ]
  },
  {
   "cell_type": "code",
   "execution_count": 27,
   "id": "55b8aa21",
   "metadata": {
    "execution": {
     "iopub.execute_input": "2024-11-22T00:47:47.402950Z",
     "iopub.status.busy": "2024-11-22T00:47:47.402848Z",
     "iopub.status.idle": "2024-11-22T00:47:53.367640Z",
     "shell.execute_reply": "2024-11-22T00:47:53.367224Z"
    },
    "papermill": {
     "duration": 5.970935,
     "end_time": "2024-11-22T00:47:53.368694",
     "exception": false,
     "start_time": "2024-11-22T00:47:47.397759",
     "status": "completed"
    },
    "tags": []
   },
   "outputs": [
    {
     "name": "stdout",
     "output_type": "stream",
     "text": [
      "Austin\n",
      "Texas\n",
      "Austin, TX\n"
     ]
    },
    {
     "name": "stdout",
     "output_type": "stream",
     "text": [
      "Initiating login request with your identity provider. A browser window should have opened for you to complete the login. If you can't see it, check existing browser windows, or your OS settings. Press CTRL+C to abort and try again...\n",
      "Going to open: https://justworks.cloudflareaccess.com/cdn-cgi/access/sso/saml/d74bc06bca5abf66677a16a11e6235e70f0ac75f0e462ccdea97b5bcb5cab993?SAMLRequest=lVNdb9sgFP0rFnu2wY5jNyhJlTXKmqltsibdtL1hwCmNDR4X18m%2FH%2FmSOk2tNIkHdDmXc%2B45MLze1VXwKi0oo0cojggKpOZGKL0Zoaf1LLxCATimBauMliO0l4Cux0NgddXQSeue9aP83Upwgb9IAz0cjFBrNTUMFFDNagnUcbqa3N%2FRJCKUAUjrPB06twhQnuvZuYZi3HVd1PUiYzc4IYRgMsAedYB8Qm8omo85Gmuc4aa6tOz8TO9QxJikBwqP8AzLc%2BNnpU8WfMRSnEBAb9frZbhcrNYomFymuzEa2lralbSvisunx7uTAPAKXlpwnbFbCGumdATadGXFtpKbummdvzLyO1xKgSuzUd6o%2BXSEmq0SaTLtvrTN4sfXl4W3ZBlPs%2B5%2BM0t5ncyau93g5%2F726qHMBBTfOAq%2BX2JNDrHOAVo514cwnS%2BRJA3jOEySNSE0zf2Kspj8QsHUh6k0c8fOfxRHvDKt8GqtZJxLgKNULnTINwqfShjA4ENKWORpwUlWcNZnRZllWZ6zOGNxLLOk15c5KQnjeb8kMs0SzoVkg7zoF7zoc1YMBj10emn0qN2O%2F8u%2FIX7ben6xDz7E%2BXRpKsX3wczYmrn3M46j%2BFhRIiyPUCo9XzURwvopfdZVZbobb4TzH8PZViI8PrH%2B%2FTXGfwA%3D&RelayState=ver%3A1-hint%3A5006656328985510-ETMsDgAAAZNRVt2aABRBRVMvQ0JDL1BLQ1M1UGFkZGluZwEAABAAEMX%2FMZ%2FPiamsWwcyDkT%2BZtcAAACAF8bTPRIrC9QckzyiTSjzavk9F5MNnnimX%2FiUD9hN8cNDfzXmmx%2F7uOFpJd%2FIR6IWQh%2BQ0zYRVRVb3USSCqYBsPIhf1Y%2FVdALVCRLOkdWchOuEkxuQHkBV%2FzNdtWLzJThAveS6zJuOrWe60Xve0VmZXiAb88T30fYqw8zwNe7aAUAFPdUF0d6IxKcd9AYEbdwlgHIQo%2FG to authenticate...\n"
     ]
    },
    {
     "name": "stderr",
     "output_type": "stream",
     "text": [
      "/Users/lmola/Documents/Luis_Projects/OOH/prod/testing/brand_search_query.py:70: UserWarning: pandas only supports SQLAlchemy connectable (engine/connection) or database string URI or sqlite3 DBAPI2 connection. Other DBAPI2 objects are not tested. Please consider using SQLAlchemy.\n",
      "  df = pd.read_sql(brand_query, conn)\n"
     ]
    },
    {
     "data": {
      "text/html": [
       "<div>\n",
       "<style scoped>\n",
       "    .dataframe tbody tr th:only-of-type {\n",
       "        vertical-align: middle;\n",
       "    }\n",
       "\n",
       "    .dataframe tbody tr th {\n",
       "        vertical-align: top;\n",
       "    }\n",
       "\n",
       "    .dataframe thead th {\n",
       "        text-align: right;\n",
       "    }\n",
       "</style>\n",
       "<table border=\"1\" class=\"dataframe\">\n",
       "  <thead>\n",
       "    <tr style=\"text-align: right;\">\n",
       "      <th></th>\n",
       "      <th>STATE</th>\n",
       "      <th>REGION</th>\n",
       "      <th>METRO</th>\n",
       "      <th>SPEND</th>\n",
       "      <th>IMPRESSIONS</th>\n",
       "      <th>CLICKS</th>\n",
       "      <th>MONTH_START</th>\n",
       "    </tr>\n",
       "  </thead>\n",
       "  <tbody>\n",
       "    <tr>\n",
       "      <th>0</th>\n",
       "      <td>Texas</td>\n",
       "      <td>Texas</td>\n",
       "      <td>Austin, TX</td>\n",
       "      <td>2863.060000</td>\n",
       "      <td>821</td>\n",
       "      <td>347</td>\n",
       "      <td>2024-09-01</td>\n",
       "    </tr>\n",
       "    <tr>\n",
       "      <th>164</th>\n",
       "      <td>Texas</td>\n",
       "      <td>Texas</td>\n",
       "      <td>Austin, TX</td>\n",
       "      <td>2266.815911</td>\n",
       "      <td>589</td>\n",
       "      <td>216</td>\n",
       "      <td>2024-11-01</td>\n",
       "    </tr>\n",
       "    <tr>\n",
       "      <th>370</th>\n",
       "      <td>Texas</td>\n",
       "      <td>Texas</td>\n",
       "      <td>Austin, TX</td>\n",
       "      <td>1610.100000</td>\n",
       "      <td>793</td>\n",
       "      <td>283</td>\n",
       "      <td>2023-06-01</td>\n",
       "    </tr>\n",
       "    <tr>\n",
       "      <th>496</th>\n",
       "      <td>Texas</td>\n",
       "      <td>Texas</td>\n",
       "      <td>Austin, TX</td>\n",
       "      <td>1890.150000</td>\n",
       "      <td>826</td>\n",
       "      <td>288</td>\n",
       "      <td>2023-11-01</td>\n",
       "    </tr>\n",
       "    <tr>\n",
       "      <th>584</th>\n",
       "      <td>Texas</td>\n",
       "      <td>Texas</td>\n",
       "      <td>Austin, TX</td>\n",
       "      <td>3058.370000</td>\n",
       "      <td>1033</td>\n",
       "      <td>399</td>\n",
       "      <td>2024-01-01</td>\n",
       "    </tr>\n",
       "  </tbody>\n",
       "</table>\n",
       "</div>"
      ],
      "text/plain": [
       "     STATE REGION       METRO        SPEND  IMPRESSIONS  CLICKS MONTH_START\n",
       "0    Texas  Texas  Austin, TX  2863.060000          821     347  2024-09-01\n",
       "164  Texas  Texas  Austin, TX  2266.815911          589     216  2024-11-01\n",
       "370  Texas  Texas  Austin, TX  1610.100000          793     283  2023-06-01\n",
       "496  Texas  Texas  Austin, TX  1890.150000          826     288  2023-11-01\n",
       "584  Texas  Texas  Austin, TX  3058.370000         1033     399  2024-01-01"
      ]
     },
     "execution_count": 27,
     "metadata": {},
     "output_type": "execute_result"
    }
   ],
   "source": [
    "# Import the function from your external script\n",
    "from brand_search_query import run_brand_search_query\n",
    "\n",
    "# Run the query and get the results as a DataFrame\n",
    "print(MSA_MARKET)\n",
    "print(STATE)\n",
    "print(BRAND_MSA)\n",
    "\n",
    "brand_search_df = run_brand_search_query()\n",
    "\n",
    "brand_search_df = brand_search_df[(brand_search_df['METRO'] == BRAND_MSA) & (brand_search_df['REGION'] == STATE)]\n",
    "\n",
    "# Display the DataFrame\n",
    "brand_search_df.head()"
   ]
  },
  {
   "cell_type": "code",
   "execution_count": 28,
   "id": "9086af13",
   "metadata": {
    "execution": {
     "iopub.execute_input": "2024-11-22T00:47:53.384805Z",
     "iopub.status.busy": "2024-11-22T00:47:53.384677Z",
     "iopub.status.idle": "2024-11-22T00:47:53.388184Z",
     "shell.execute_reply": "2024-11-22T00:47:53.387891Z"
    },
    "papermill": {
     "duration": 0.011918,
     "end_time": "2024-11-22T00:47:53.388901",
     "exception": false,
     "start_time": "2024-11-22T00:47:53.376983",
     "status": "completed"
    },
    "tags": []
   },
   "outputs": [
    {
     "data": {
      "text/html": [
       "<div>\n",
       "<style scoped>\n",
       "    .dataframe tbody tr th:only-of-type {\n",
       "        vertical-align: middle;\n",
       "    }\n",
       "\n",
       "    .dataframe tbody tr th {\n",
       "        vertical-align: top;\n",
       "    }\n",
       "\n",
       "    .dataframe thead th {\n",
       "        text-align: right;\n",
       "    }\n",
       "</style>\n",
       "<table border=\"1\" class=\"dataframe\">\n",
       "  <thead>\n",
       "    <tr style=\"text-align: right;\">\n",
       "      <th></th>\n",
       "      <th>io_count</th>\n",
       "      <th>intervention</th>\n",
       "      <th>t</th>\n",
       "      <th>month</th>\n",
       "    </tr>\n",
       "    <tr>\n",
       "      <th>year_month</th>\n",
       "      <th></th>\n",
       "      <th></th>\n",
       "      <th></th>\n",
       "      <th></th>\n",
       "    </tr>\n",
       "  </thead>\n",
       "  <tbody>\n",
       "    <tr>\n",
       "      <th>2021-06-01</th>\n",
       "      <td>11</td>\n",
       "      <td>False</td>\n",
       "      <td>0</td>\n",
       "      <td>6</td>\n",
       "    </tr>\n",
       "    <tr>\n",
       "      <th>2021-07-01</th>\n",
       "      <td>14</td>\n",
       "      <td>False</td>\n",
       "      <td>1</td>\n",
       "      <td>7</td>\n",
       "    </tr>\n",
       "    <tr>\n",
       "      <th>2021-08-01</th>\n",
       "      <td>6</td>\n",
       "      <td>False</td>\n",
       "      <td>2</td>\n",
       "      <td>8</td>\n",
       "    </tr>\n",
       "    <tr>\n",
       "      <th>2021-09-01</th>\n",
       "      <td>12</td>\n",
       "      <td>False</td>\n",
       "      <td>3</td>\n",
       "      <td>9</td>\n",
       "    </tr>\n",
       "    <tr>\n",
       "      <th>2021-10-01</th>\n",
       "      <td>15</td>\n",
       "      <td>False</td>\n",
       "      <td>4</td>\n",
       "      <td>10</td>\n",
       "    </tr>\n",
       "  </tbody>\n",
       "</table>\n",
       "</div>"
      ],
      "text/plain": [
       "            io_count  intervention  t  month\n",
       "year_month                                  \n",
       "2021-06-01        11         False  0      6\n",
       "2021-07-01        14         False  1      7\n",
       "2021-08-01         6         False  2      8\n",
       "2021-09-01        12         False  3      9\n",
       "2021-10-01        15         False  4     10"
      ]
     },
     "execution_count": 28,
     "metadata": {},
     "output_type": "execute_result"
    }
   ],
   "source": [
    "data_final.head()"
   ]
  },
  {
   "cell_type": "code",
   "execution_count": 29,
   "id": "44925ded",
   "metadata": {
    "execution": {
     "iopub.execute_input": "2024-11-22T00:47:53.401368Z",
     "iopub.status.busy": "2024-11-22T00:47:53.401270Z",
     "iopub.status.idle": "2024-11-22T00:47:53.404548Z",
     "shell.execute_reply": "2024-11-22T00:47:53.404346Z"
    },
    "papermill": {
     "duration": 0.00991,
     "end_time": "2024-11-22T00:47:53.405168",
     "exception": false,
     "start_time": "2024-11-22T00:47:53.395258",
     "status": "completed"
    },
    "tags": []
   },
   "outputs": [
    {
     "data": {
      "text/html": [
       "<div>\n",
       "<style scoped>\n",
       "    .dataframe tbody tr th:only-of-type {\n",
       "        vertical-align: middle;\n",
       "    }\n",
       "\n",
       "    .dataframe tbody tr th {\n",
       "        vertical-align: top;\n",
       "    }\n",
       "\n",
       "    .dataframe thead th {\n",
       "        text-align: right;\n",
       "    }\n",
       "</style>\n",
       "<table border=\"1\" class=\"dataframe\">\n",
       "  <thead>\n",
       "    <tr style=\"text-align: right;\">\n",
       "      <th></th>\n",
       "      <th>year_month</th>\n",
       "      <th>io_count</th>\n",
       "      <th>intervention</th>\n",
       "      <th>t</th>\n",
       "      <th>month</th>\n",
       "    </tr>\n",
       "  </thead>\n",
       "  <tbody>\n",
       "    <tr>\n",
       "      <th>0</th>\n",
       "      <td>2021-06-01</td>\n",
       "      <td>11</td>\n",
       "      <td>False</td>\n",
       "      <td>0</td>\n",
       "      <td>6</td>\n",
       "    </tr>\n",
       "    <tr>\n",
       "      <th>1</th>\n",
       "      <td>2021-07-01</td>\n",
       "      <td>14</td>\n",
       "      <td>False</td>\n",
       "      <td>1</td>\n",
       "      <td>7</td>\n",
       "    </tr>\n",
       "    <tr>\n",
       "      <th>2</th>\n",
       "      <td>2021-08-01</td>\n",
       "      <td>6</td>\n",
       "      <td>False</td>\n",
       "      <td>2</td>\n",
       "      <td>8</td>\n",
       "    </tr>\n",
       "    <tr>\n",
       "      <th>3</th>\n",
       "      <td>2021-09-01</td>\n",
       "      <td>12</td>\n",
       "      <td>False</td>\n",
       "      <td>3</td>\n",
       "      <td>9</td>\n",
       "    </tr>\n",
       "    <tr>\n",
       "      <th>4</th>\n",
       "      <td>2021-10-01</td>\n",
       "      <td>15</td>\n",
       "      <td>False</td>\n",
       "      <td>4</td>\n",
       "      <td>10</td>\n",
       "    </tr>\n",
       "  </tbody>\n",
       "</table>\n",
       "</div>"
      ],
      "text/plain": [
       "  year_month  io_count  intervention  t  month\n",
       "0 2021-06-01        11         False  0      6\n",
       "1 2021-07-01        14         False  1      7\n",
       "2 2021-08-01         6         False  2      8\n",
       "3 2021-09-01        12         False  3      9\n",
       "4 2021-10-01        15         False  4     10"
      ]
     },
     "execution_count": 29,
     "metadata": {},
     "output_type": "execute_result"
    }
   ],
   "source": [
    "data_reset = data_final.reset_index()\n",
    "data_reset.head()"
   ]
  },
  {
   "cell_type": "code",
   "execution_count": 30,
   "id": "92f6c11c",
   "metadata": {
    "execution": {
     "iopub.execute_input": "2024-11-22T00:47:53.416782Z",
     "iopub.status.busy": "2024-11-22T00:47:53.416690Z",
     "iopub.status.idle": "2024-11-22T00:47:53.422363Z",
     "shell.execute_reply": "2024-11-22T00:47:53.422160Z"
    },
    "papermill": {
     "duration": 0.01183,
     "end_time": "2024-11-22T00:47:53.422962",
     "exception": false,
     "start_time": "2024-11-22T00:47:53.411132",
     "status": "completed"
    },
    "tags": []
   },
   "outputs": [
    {
     "data": {
      "text/html": [
       "<div>\n",
       "<style scoped>\n",
       "    .dataframe tbody tr th:only-of-type {\n",
       "        vertical-align: middle;\n",
       "    }\n",
       "\n",
       "    .dataframe tbody tr th {\n",
       "        vertical-align: top;\n",
       "    }\n",
       "\n",
       "    .dataframe thead th {\n",
       "        text-align: right;\n",
       "    }\n",
       "</style>\n",
       "<table border=\"1\" class=\"dataframe\">\n",
       "  <thead>\n",
       "    <tr style=\"text-align: right;\">\n",
       "      <th></th>\n",
       "      <th>year_month</th>\n",
       "      <th>io_count</th>\n",
       "      <th>intervention</th>\n",
       "      <th>t</th>\n",
       "      <th>month</th>\n",
       "      <th>CITY</th>\n",
       "      <th>REGION</th>\n",
       "      <th>COUNTRY</th>\n",
       "      <th>direct_month_start</th>\n",
       "      <th>direct_search_sum</th>\n",
       "    </tr>\n",
       "  </thead>\n",
       "  <tbody>\n",
       "    <tr>\n",
       "      <th>0</th>\n",
       "      <td>2022-03-01</td>\n",
       "      <td>11</td>\n",
       "      <td>False</td>\n",
       "      <td>9</td>\n",
       "      <td>3</td>\n",
       "      <td>Austin</td>\n",
       "      <td>Texas</td>\n",
       "      <td>United States</td>\n",
       "      <td>2022-03-01</td>\n",
       "      <td>785</td>\n",
       "    </tr>\n",
       "    <tr>\n",
       "      <th>1</th>\n",
       "      <td>2022-04-01</td>\n",
       "      <td>14</td>\n",
       "      <td>False</td>\n",
       "      <td>10</td>\n",
       "      <td>4</td>\n",
       "      <td>Austin</td>\n",
       "      <td>Texas</td>\n",
       "      <td>United States</td>\n",
       "      <td>2022-04-01</td>\n",
       "      <td>212</td>\n",
       "    </tr>\n",
       "    <tr>\n",
       "      <th>2</th>\n",
       "      <td>2022-05-01</td>\n",
       "      <td>8</td>\n",
       "      <td>False</td>\n",
       "      <td>11</td>\n",
       "      <td>5</td>\n",
       "      <td>Austin</td>\n",
       "      <td>Texas</td>\n",
       "      <td>United States</td>\n",
       "      <td>2022-05-01</td>\n",
       "      <td>208</td>\n",
       "    </tr>\n",
       "    <tr>\n",
       "      <th>3</th>\n",
       "      <td>2022-06-01</td>\n",
       "      <td>11</td>\n",
       "      <td>False</td>\n",
       "      <td>12</td>\n",
       "      <td>6</td>\n",
       "      <td>Austin</td>\n",
       "      <td>Texas</td>\n",
       "      <td>United States</td>\n",
       "      <td>2022-06-01</td>\n",
       "      <td>275</td>\n",
       "    </tr>\n",
       "    <tr>\n",
       "      <th>4</th>\n",
       "      <td>2022-07-01</td>\n",
       "      <td>8</td>\n",
       "      <td>False</td>\n",
       "      <td>13</td>\n",
       "      <td>7</td>\n",
       "      <td>Austin</td>\n",
       "      <td>Texas</td>\n",
       "      <td>United States</td>\n",
       "      <td>2022-07-01</td>\n",
       "      <td>5187</td>\n",
       "    </tr>\n",
       "  </tbody>\n",
       "</table>\n",
       "</div>"
      ],
      "text/plain": [
       "  year_month  io_count  intervention   t  month    CITY REGION        COUNTRY  \\\n",
       "0 2022-03-01        11         False   9      3  Austin  Texas  United States   \n",
       "1 2022-04-01        14         False  10      4  Austin  Texas  United States   \n",
       "2 2022-05-01         8         False  11      5  Austin  Texas  United States   \n",
       "3 2022-06-01        11         False  12      6  Austin  Texas  United States   \n",
       "4 2022-07-01         8         False  13      7  Austin  Texas  United States   \n",
       "\n",
       "  direct_month_start  direct_search_sum  \n",
       "0         2022-03-01                785  \n",
       "1         2022-04-01                212  \n",
       "2         2022-05-01                208  \n",
       "3         2022-06-01                275  \n",
       "4         2022-07-01               5187  "
      ]
     },
     "execution_count": 30,
     "metadata": {},
     "output_type": "execute_result"
    }
   ],
   "source": [
    "# Join DataFrames\n",
    "\n",
    "# Convert column to datetime\n",
    "data_reset['year_month'] = pd.to_datetime(data_reset['year_month'])\n",
    "direct_search_df['MONTH_START'] = pd.to_datetime(direct_search_df['MONTH_START'])\n",
    "\n",
    "df_merge_1 = pd.merge(data_reset, direct_search_df, left_on = 'year_month', \\\n",
    "    right_on = 'MONTH_START', \\\n",
    "    how = 'inner')\n",
    "\n",
    "df_merge_1 = df_merge_1.rename(columns={'MONTH_START': 'direct_month_start', 'MONTHLY_SUM': 'direct_search_sum'})\n",
    "df_merge_1 = df_merge_1.drop(columns = 'MARKETING_CHANNEL')\n",
    "\n",
    "df_merge_1.head()"
   ]
  },
  {
   "cell_type": "code",
   "execution_count": 31,
   "id": "c0e80288",
   "metadata": {
    "execution": {
     "iopub.execute_input": "2024-11-22T00:47:53.435018Z",
     "iopub.status.busy": "2024-11-22T00:47:53.434881Z",
     "iopub.status.idle": "2024-11-22T00:47:53.441059Z",
     "shell.execute_reply": "2024-11-22T00:47:53.440824Z"
    },
    "papermill": {
     "duration": 0.013636,
     "end_time": "2024-11-22T00:47:53.441667",
     "exception": false,
     "start_time": "2024-11-22T00:47:53.428031",
     "status": "completed"
    },
    "tags": []
   },
   "outputs": [
    {
     "data": {
      "text/html": [
       "<div>\n",
       "<style scoped>\n",
       "    .dataframe tbody tr th:only-of-type {\n",
       "        vertical-align: middle;\n",
       "    }\n",
       "\n",
       "    .dataframe tbody tr th {\n",
       "        vertical-align: top;\n",
       "    }\n",
       "\n",
       "    .dataframe thead th {\n",
       "        text-align: right;\n",
       "    }\n",
       "</style>\n",
       "<table border=\"1\" class=\"dataframe\">\n",
       "  <thead>\n",
       "    <tr style=\"text-align: right;\">\n",
       "      <th></th>\n",
       "      <th>year_month</th>\n",
       "      <th>io_count</th>\n",
       "      <th>intervention</th>\n",
       "      <th>t</th>\n",
       "      <th>month</th>\n",
       "      <th>CITY</th>\n",
       "      <th>REGION_x</th>\n",
       "      <th>COUNTRY</th>\n",
       "      <th>direct_month_start</th>\n",
       "      <th>direct_search_sum</th>\n",
       "      <th>STATE</th>\n",
       "      <th>REGION_y</th>\n",
       "      <th>METRO</th>\n",
       "      <th>SPEND</th>\n",
       "      <th>IMPRESSIONS</th>\n",
       "      <th>CLICKS</th>\n",
       "      <th>MONTH_START</th>\n",
       "    </tr>\n",
       "  </thead>\n",
       "  <tbody>\n",
       "    <tr>\n",
       "      <th>0</th>\n",
       "      <td>2022-03-01</td>\n",
       "      <td>11</td>\n",
       "      <td>False</td>\n",
       "      <td>9</td>\n",
       "      <td>3</td>\n",
       "      <td>Austin</td>\n",
       "      <td>Texas</td>\n",
       "      <td>United States</td>\n",
       "      <td>2022-03-01</td>\n",
       "      <td>785</td>\n",
       "      <td>Texas</td>\n",
       "      <td>Texas</td>\n",
       "      <td>Austin, TX</td>\n",
       "      <td>1136.67</td>\n",
       "      <td>1075</td>\n",
       "      <td>260</td>\n",
       "      <td>2022-03-01</td>\n",
       "    </tr>\n",
       "    <tr>\n",
       "      <th>1</th>\n",
       "      <td>2022-04-01</td>\n",
       "      <td>14</td>\n",
       "      <td>False</td>\n",
       "      <td>10</td>\n",
       "      <td>4</td>\n",
       "      <td>Austin</td>\n",
       "      <td>Texas</td>\n",
       "      <td>United States</td>\n",
       "      <td>2022-04-01</td>\n",
       "      <td>212</td>\n",
       "      <td>Texas</td>\n",
       "      <td>Texas</td>\n",
       "      <td>Austin, TX</td>\n",
       "      <td>1042.38</td>\n",
       "      <td>973</td>\n",
       "      <td>243</td>\n",
       "      <td>2022-04-01</td>\n",
       "    </tr>\n",
       "    <tr>\n",
       "      <th>2</th>\n",
       "      <td>2022-05-01</td>\n",
       "      <td>8</td>\n",
       "      <td>False</td>\n",
       "      <td>11</td>\n",
       "      <td>5</td>\n",
       "      <td>Austin</td>\n",
       "      <td>Texas</td>\n",
       "      <td>United States</td>\n",
       "      <td>2022-05-01</td>\n",
       "      <td>208</td>\n",
       "      <td>Texas</td>\n",
       "      <td>Texas</td>\n",
       "      <td>Austin, TX</td>\n",
       "      <td>789.10</td>\n",
       "      <td>975</td>\n",
       "      <td>228</td>\n",
       "      <td>2022-05-01</td>\n",
       "    </tr>\n",
       "    <tr>\n",
       "      <th>3</th>\n",
       "      <td>2022-06-01</td>\n",
       "      <td>11</td>\n",
       "      <td>False</td>\n",
       "      <td>12</td>\n",
       "      <td>6</td>\n",
       "      <td>Austin</td>\n",
       "      <td>Texas</td>\n",
       "      <td>United States</td>\n",
       "      <td>2022-06-01</td>\n",
       "      <td>275</td>\n",
       "      <td>Texas</td>\n",
       "      <td>Texas</td>\n",
       "      <td>Austin, TX</td>\n",
       "      <td>927.65</td>\n",
       "      <td>1006</td>\n",
       "      <td>254</td>\n",
       "      <td>2022-06-01</td>\n",
       "    </tr>\n",
       "    <tr>\n",
       "      <th>4</th>\n",
       "      <td>2022-07-01</td>\n",
       "      <td>8</td>\n",
       "      <td>False</td>\n",
       "      <td>13</td>\n",
       "      <td>7</td>\n",
       "      <td>Austin</td>\n",
       "      <td>Texas</td>\n",
       "      <td>United States</td>\n",
       "      <td>2022-07-01</td>\n",
       "      <td>5187</td>\n",
       "      <td>Texas</td>\n",
       "      <td>Texas</td>\n",
       "      <td>Austin, TX</td>\n",
       "      <td>1223.34</td>\n",
       "      <td>824</td>\n",
       "      <td>227</td>\n",
       "      <td>2022-07-01</td>\n",
       "    </tr>\n",
       "  </tbody>\n",
       "</table>\n",
       "</div>"
      ],
      "text/plain": [
       "  year_month  io_count  intervention   t  month    CITY REGION_x  \\\n",
       "0 2022-03-01        11         False   9      3  Austin    Texas   \n",
       "1 2022-04-01        14         False  10      4  Austin    Texas   \n",
       "2 2022-05-01         8         False  11      5  Austin    Texas   \n",
       "3 2022-06-01        11         False  12      6  Austin    Texas   \n",
       "4 2022-07-01         8         False  13      7  Austin    Texas   \n",
       "\n",
       "         COUNTRY direct_month_start  direct_search_sum  STATE REGION_y  \\\n",
       "0  United States         2022-03-01                785  Texas    Texas   \n",
       "1  United States         2022-04-01                212  Texas    Texas   \n",
       "2  United States         2022-05-01                208  Texas    Texas   \n",
       "3  United States         2022-06-01                275  Texas    Texas   \n",
       "4  United States         2022-07-01               5187  Texas    Texas   \n",
       "\n",
       "        METRO    SPEND  IMPRESSIONS  CLICKS MONTH_START  \n",
       "0  Austin, TX  1136.67         1075     260  2022-03-01  \n",
       "1  Austin, TX  1042.38          973     243  2022-04-01  \n",
       "2  Austin, TX   789.10          975     228  2022-05-01  \n",
       "3  Austin, TX   927.65         1006     254  2022-06-01  \n",
       "4  Austin, TX  1223.34          824     227  2022-07-01  "
      ]
     },
     "execution_count": 31,
     "metadata": {},
     "output_type": "execute_result"
    }
   ],
   "source": [
    "brand_search_df['MONTH_START'] = pd.to_datetime(brand_search_df['MONTH_START'])\n",
    "\n",
    "df_merge_2 = pd.merge(df_merge_1, brand_search_df, left_on = 'direct_month_start', \\\n",
    "    right_on = 'MONTH_START', \\\n",
    "    how = 'inner')\n",
    "\n",
    "df_merge_2.head()\n",
    "\n"
   ]
  },
  {
   "cell_type": "code",
   "execution_count": 32,
   "id": "91b4603e",
   "metadata": {
    "execution": {
     "iopub.execute_input": "2024-11-22T00:47:53.453324Z",
     "iopub.status.busy": "2024-11-22T00:47:53.453205Z",
     "iopub.status.idle": "2024-11-22T00:47:53.457449Z",
     "shell.execute_reply": "2024-11-22T00:47:53.457257Z"
    },
    "papermill": {
     "duration": 0.010764,
     "end_time": "2024-11-22T00:47:53.458036",
     "exception": false,
     "start_time": "2024-11-22T00:47:53.447272",
     "status": "completed"
    },
    "tags": []
   },
   "outputs": [
    {
     "data": {
      "text/html": [
       "<div>\n",
       "<style scoped>\n",
       "    .dataframe tbody tr th:only-of-type {\n",
       "        vertical-align: middle;\n",
       "    }\n",
       "\n",
       "    .dataframe tbody tr th {\n",
       "        vertical-align: top;\n",
       "    }\n",
       "\n",
       "    .dataframe thead th {\n",
       "        text-align: right;\n",
       "    }\n",
       "</style>\n",
       "<table border=\"1\" class=\"dataframe\">\n",
       "  <thead>\n",
       "    <tr style=\"text-align: right;\">\n",
       "      <th></th>\n",
       "      <th>io_count</th>\n",
       "      <th>intervention</th>\n",
       "      <th>t</th>\n",
       "      <th>month</th>\n",
       "      <th>direct_search_sum</th>\n",
       "      <th>SPEND</th>\n",
       "      <th>IMPRESSIONS</th>\n",
       "      <th>CLICKS</th>\n",
       "    </tr>\n",
       "    <tr>\n",
       "      <th>year_month</th>\n",
       "      <th></th>\n",
       "      <th></th>\n",
       "      <th></th>\n",
       "      <th></th>\n",
       "      <th></th>\n",
       "      <th></th>\n",
       "      <th></th>\n",
       "      <th></th>\n",
       "    </tr>\n",
       "  </thead>\n",
       "  <tbody>\n",
       "    <tr>\n",
       "      <th>2022-03-01</th>\n",
       "      <td>11</td>\n",
       "      <td>False</td>\n",
       "      <td>9</td>\n",
       "      <td>3</td>\n",
       "      <td>785</td>\n",
       "      <td>1136.67</td>\n",
       "      <td>1075</td>\n",
       "      <td>260</td>\n",
       "    </tr>\n",
       "    <tr>\n",
       "      <th>2022-04-01</th>\n",
       "      <td>14</td>\n",
       "      <td>False</td>\n",
       "      <td>10</td>\n",
       "      <td>4</td>\n",
       "      <td>212</td>\n",
       "      <td>1042.38</td>\n",
       "      <td>973</td>\n",
       "      <td>243</td>\n",
       "    </tr>\n",
       "    <tr>\n",
       "      <th>2022-05-01</th>\n",
       "      <td>8</td>\n",
       "      <td>False</td>\n",
       "      <td>11</td>\n",
       "      <td>5</td>\n",
       "      <td>208</td>\n",
       "      <td>789.10</td>\n",
       "      <td>975</td>\n",
       "      <td>228</td>\n",
       "    </tr>\n",
       "    <tr>\n",
       "      <th>2022-06-01</th>\n",
       "      <td>11</td>\n",
       "      <td>False</td>\n",
       "      <td>12</td>\n",
       "      <td>6</td>\n",
       "      <td>275</td>\n",
       "      <td>927.65</td>\n",
       "      <td>1006</td>\n",
       "      <td>254</td>\n",
       "    </tr>\n",
       "    <tr>\n",
       "      <th>2022-07-01</th>\n",
       "      <td>8</td>\n",
       "      <td>False</td>\n",
       "      <td>13</td>\n",
       "      <td>7</td>\n",
       "      <td>5187</td>\n",
       "      <td>1223.34</td>\n",
       "      <td>824</td>\n",
       "      <td>227</td>\n",
       "    </tr>\n",
       "  </tbody>\n",
       "</table>\n",
       "</div>"
      ],
      "text/plain": [
       "            io_count  intervention   t  month  direct_search_sum    SPEND  \\\n",
       "year_month                                                                  \n",
       "2022-03-01        11         False   9      3                785  1136.67   \n",
       "2022-04-01        14         False  10      4                212  1042.38   \n",
       "2022-05-01         8         False  11      5                208   789.10   \n",
       "2022-06-01        11         False  12      6                275   927.65   \n",
       "2022-07-01         8         False  13      7               5187  1223.34   \n",
       "\n",
       "            IMPRESSIONS  CLICKS  \n",
       "year_month                       \n",
       "2022-03-01         1075     260  \n",
       "2022-04-01          973     243  \n",
       "2022-05-01          975     228  \n",
       "2022-06-01         1006     254  \n",
       "2022-07-01          824     227  "
      ]
     },
     "execution_count": 32,
     "metadata": {},
     "output_type": "execute_result"
    }
   ],
   "source": [
    "columns_to_drop = ['CITY', 'REGION_x', 'COUNTRY', 'direct_month_start', 'STATE', 'REGION_y', 'METRO', 'MONTH_START']\n",
    "\n",
    "df_final2 = df_merge_2.drop(columns = columns_to_drop)\n",
    "df_final2 = df_final2.set_index('year_month')\n",
    "df_final2.head()"
   ]
  },
  {
   "cell_type": "code",
   "execution_count": 33,
   "id": "c294cf10",
   "metadata": {
    "execution": {
     "iopub.execute_input": "2024-11-22T00:47:53.468622Z",
     "iopub.status.busy": "2024-11-22T00:47:53.468525Z",
     "iopub.status.idle": "2024-11-22T00:47:53.471934Z",
     "shell.execute_reply": "2024-11-22T00:47:53.471689Z"
    },
    "papermill": {
     "duration": 0.009158,
     "end_time": "2024-11-22T00:47:53.472523",
     "exception": false,
     "start_time": "2024-11-22T00:47:53.463365",
     "status": "completed"
    },
    "tags": []
   },
   "outputs": [
    {
     "data": {
      "text/plain": [
       "count       32.000000\n",
       "mean     10377.656250\n",
       "std       4389.458058\n",
       "min        208.000000\n",
       "25%       9774.250000\n",
       "50%      11438.500000\n",
       "75%      12984.250000\n",
       "max      16096.000000\n",
       "Name: direct_search_sum, dtype: float64"
      ]
     },
     "execution_count": 33,
     "metadata": {},
     "output_type": "execute_result"
    }
   ],
   "source": [
    "df_final2['direct_search_sum'].describe()"
   ]
  },
  {
   "cell_type": "code",
   "execution_count": 34,
   "id": "7190f7c3",
   "metadata": {
    "execution": {
     "iopub.execute_input": "2024-11-22T00:47:53.483909Z",
     "iopub.status.busy": "2024-11-22T00:47:53.483809Z",
     "iopub.status.idle": "2024-11-22T00:47:53.485623Z",
     "shell.execute_reply": "2024-11-22T00:47:53.485426Z"
    },
    "papermill": {
     "duration": 0.007854,
     "end_time": "2024-11-22T00:47:53.486234",
     "exception": false,
     "start_time": "2024-11-22T00:47:53.478380",
     "status": "completed"
    },
    "tags": []
   },
   "outputs": [],
   "source": [
    "df_final2 = df_final2[df_final2['direct_search_sum'] > 2]\t"
   ]
  },
  {
   "cell_type": "code",
   "execution_count": 35,
   "id": "d7736f51",
   "metadata": {
    "execution": {
     "iopub.execute_input": "2024-11-22T00:47:53.499294Z",
     "iopub.status.busy": "2024-11-22T00:47:53.499129Z",
     "iopub.status.idle": "2024-11-22T00:47:53.504506Z",
     "shell.execute_reply": "2024-11-22T00:47:53.504175Z"
    },
    "papermill": {
     "duration": 0.01399,
     "end_time": "2024-11-22T00:47:53.505448",
     "exception": false,
     "start_time": "2024-11-22T00:47:53.491458",
     "status": "completed"
    },
    "tags": []
   },
   "outputs": [
    {
     "data": {
      "text/html": [
       "<div>\n",
       "<style scoped>\n",
       "    .dataframe tbody tr th:only-of-type {\n",
       "        vertical-align: middle;\n",
       "    }\n",
       "\n",
       "    .dataframe tbody tr th {\n",
       "        vertical-align: top;\n",
       "    }\n",
       "\n",
       "    .dataframe thead th {\n",
       "        text-align: right;\n",
       "    }\n",
       "</style>\n",
       "<table border=\"1\" class=\"dataframe\">\n",
       "  <thead>\n",
       "    <tr style=\"text-align: right;\">\n",
       "      <th></th>\n",
       "      <th>io_count</th>\n",
       "      <th>intervention</th>\n",
       "      <th>t</th>\n",
       "      <th>month</th>\n",
       "      <th>direct_search_sum</th>\n",
       "      <th>SPEND</th>\n",
       "      <th>IMPRESSIONS</th>\n",
       "      <th>CLICKS</th>\n",
       "    </tr>\n",
       "    <tr>\n",
       "      <th>year_month</th>\n",
       "      <th></th>\n",
       "      <th></th>\n",
       "      <th></th>\n",
       "      <th></th>\n",
       "      <th></th>\n",
       "      <th></th>\n",
       "      <th></th>\n",
       "      <th></th>\n",
       "    </tr>\n",
       "  </thead>\n",
       "  <tbody>\n",
       "    <tr>\n",
       "      <th>2022-03-01</th>\n",
       "      <td>11</td>\n",
       "      <td>False</td>\n",
       "      <td>9</td>\n",
       "      <td>3</td>\n",
       "      <td>785</td>\n",
       "      <td>1136.67</td>\n",
       "      <td>1075</td>\n",
       "      <td>260</td>\n",
       "    </tr>\n",
       "    <tr>\n",
       "      <th>2022-04-01</th>\n",
       "      <td>14</td>\n",
       "      <td>False</td>\n",
       "      <td>10</td>\n",
       "      <td>4</td>\n",
       "      <td>212</td>\n",
       "      <td>1042.38</td>\n",
       "      <td>973</td>\n",
       "      <td>243</td>\n",
       "    </tr>\n",
       "    <tr>\n",
       "      <th>2022-05-01</th>\n",
       "      <td>8</td>\n",
       "      <td>False</td>\n",
       "      <td>11</td>\n",
       "      <td>5</td>\n",
       "      <td>208</td>\n",
       "      <td>789.10</td>\n",
       "      <td>975</td>\n",
       "      <td>228</td>\n",
       "    </tr>\n",
       "    <tr>\n",
       "      <th>2022-06-01</th>\n",
       "      <td>11</td>\n",
       "      <td>False</td>\n",
       "      <td>12</td>\n",
       "      <td>6</td>\n",
       "      <td>275</td>\n",
       "      <td>927.65</td>\n",
       "      <td>1006</td>\n",
       "      <td>254</td>\n",
       "    </tr>\n",
       "    <tr>\n",
       "      <th>2022-07-01</th>\n",
       "      <td>8</td>\n",
       "      <td>False</td>\n",
       "      <td>13</td>\n",
       "      <td>7</td>\n",
       "      <td>5187</td>\n",
       "      <td>1223.34</td>\n",
       "      <td>824</td>\n",
       "      <td>227</td>\n",
       "    </tr>\n",
       "  </tbody>\n",
       "</table>\n",
       "</div>"
      ],
      "text/plain": [
       "            io_count  intervention   t  month  direct_search_sum    SPEND  \\\n",
       "year_month                                                                  \n",
       "2022-03-01        11         False   9      3                785  1136.67   \n",
       "2022-04-01        14         False  10      4                212  1042.38   \n",
       "2022-05-01         8         False  11      5                208   789.10   \n",
       "2022-06-01        11         False  12      6                275   927.65   \n",
       "2022-07-01         8         False  13      7               5187  1223.34   \n",
       "\n",
       "            IMPRESSIONS  CLICKS  \n",
       "year_month                       \n",
       "2022-03-01         1075     260  \n",
       "2022-04-01          973     243  \n",
       "2022-05-01          975     228  \n",
       "2022-06-01         1006     254  \n",
       "2022-07-01          824     227  "
      ]
     },
     "execution_count": 35,
     "metadata": {},
     "output_type": "execute_result"
    }
   ],
   "source": [
    "df_final2.head()"
   ]
  },
  {
   "cell_type": "code",
   "execution_count": 36,
   "id": "258c6d02",
   "metadata": {
    "execution": {
     "iopub.execute_input": "2024-11-22T00:47:53.531044Z",
     "iopub.status.busy": "2024-11-22T00:47:53.530654Z",
     "iopub.status.idle": "2024-11-22T00:47:54.006541Z",
     "shell.execute_reply": "2024-11-22T00:47:54.006221Z"
    },
    "papermill": {
     "duration": 0.495627,
     "end_time": "2024-11-22T00:47:54.007284",
     "exception": false,
     "start_time": "2024-11-22T00:47:53.511657",
     "status": "completed"
    },
    "tags": []
   },
   "outputs": [
    {
     "data": {
      "image/png": "[encoded data removed]",
      "text/plain": [
       "<Figure size 1000x600 with 1 Axes>"
      ]
     },
     "metadata": {},
     "output_type": "display_data"
    }
   ],
   "source": [
    "\n",
    "import matplotlib.pyplot as plt\n",
    "\n",
    "df_series = df_final2.reset_index()\n",
    "\n",
    "# Plot the time series\n",
    "plt.figure(figsize=(10, 6))\n",
    "plt.plot(df_series['year_month'], df_series['SPEND'], marker='o')\n",
    "\n",
    "# Customize the plot\n",
    "plt.title(f'{MSA_MARKET} Paid Search Spend Over Time', fontsize=16)\n",
    "plt.xlabel('Date', fontsize=14)\n",
    "plt.ylabel('Value', fontsize=14)\n",
    "plt.grid(True)\n",
    "plt.tight_layout()\n",
    "plt.savefig(fname = f'{MSA_MARKET} Paid Search Over Time')\n",
    "# Show the plot\n",
    "plt.show()"
   ]
  },
  {
   "cell_type": "code",
   "execution_count": 37,
   "id": "497e0e08",
   "metadata": {
    "execution": {
     "iopub.execute_input": "2024-11-22T00:47:54.019135Z",
     "iopub.status.busy": "2024-11-22T00:47:54.018971Z",
     "iopub.status.idle": "2024-11-22T00:47:54.261859Z",
     "shell.execute_reply": "2024-11-22T00:47:54.261597Z"
    },
    "papermill": {
     "duration": 0.249357,
     "end_time": "2024-11-22T00:47:54.262562",
     "exception": false,
     "start_time": "2024-11-22T00:47:54.013205",
     "status": "completed"
    },
    "tags": []
   },
   "outputs": [
    {
     "data": {
      "image/png": "[encoded data removed]",
      "text/plain": [
       "<Figure size 1600x1200 with 1 Axes>"
      ]
     },
     "metadata": {},
     "output_type": "display_data"
    }
   ],
   "source": [
    "# Plot time series\n",
    "#plt.plot(df_series['io_count'])\n",
    "\n",
    "\n",
    "plt.figure(figsize=(16, 12))\n",
    "plt.plot(df_series['year_month'], df_series['io_count'], marker='o')\n",
    "plt.title('IO Time Series Plot', fontsize = 22)\n",
    "plt.xlabel('Date', fontsize=18)\n",
    "plt.ylabel('IO Count', fontsize=18)\n",
    "plt.grid(True)\n",
    "plt.savefig(fname = f'{MSA_MARKET} IOs Over Time ')\n",
    "plt.show()"
   ]
  },
  {
   "cell_type": "code",
   "execution_count": 38,
   "id": "7bb7451c",
   "metadata": {
    "execution": {
     "iopub.execute_input": "2024-11-22T00:47:54.275825Z",
     "iopub.status.busy": "2024-11-22T00:47:54.275693Z",
     "iopub.status.idle": "2024-11-22T00:47:54.534798Z",
     "shell.execute_reply": "2024-11-22T00:47:54.534499Z"
    },
    "papermill": {
     "duration": 0.266628,
     "end_time": "2024-11-22T00:47:54.535541",
     "exception": false,
     "start_time": "2024-11-22T00:47:54.268913",
     "status": "completed"
    },
    "tags": []
   },
   "outputs": [
    {
     "name": "stdout",
     "output_type": "stream",
     "text": [
      "ADF Statistic: -3.7283408288910995\n",
      "p-value: 0.003731721850266663\n"
     ]
    }
   ],
   "source": [
    "from statsmodels.tsa.stattools import adfuller\n",
    "\n",
    "result = adfuller(df_series['io_count'])\n",
    "print(f'ADF Statistic: {result[0]}')\n",
    "print(f'p-value: {result[1]}')"
   ]
  },
  {
   "cell_type": "code",
   "execution_count": 39,
   "id": "73dd8a8e",
   "metadata": {
    "execution": {
     "iopub.execute_input": "2024-11-22T00:47:54.549930Z",
     "iopub.status.busy": "2024-11-22T00:47:54.549761Z",
     "iopub.status.idle": "2024-11-22T00:47:54.609185Z",
     "shell.execute_reply": "2024-11-22T00:47:54.608961Z"
    },
    "papermill": {
     "duration": 0.066658,
     "end_time": "2024-11-22T00:47:54.609977",
     "exception": false,
     "start_time": "2024-11-22T00:47:54.543319",
     "status": "completed"
    },
    "tags": []
   },
   "outputs": [
    {
     "data": {
      "text/plain": [
       "<Figure size 1000x600 with 0 Axes>"
      ]
     },
     "metadata": {},
     "output_type": "display_data"
    },
    {
     "data": {
      "image/png": "[encoded data removed]",
      "text/plain": [
       "<Figure size 640x480 with 1 Axes>"
      ]
     },
     "metadata": {},
     "output_type": "display_data"
    }
   ],
   "source": [
    "from statsmodels.graphics.tsaplots import plot_acf\n",
    "# Plot autocorrelation\n",
    "plt.figure(figsize=(10, 6))\n",
    "plot_acf(df_series['io_count'], lags=20)  # Specify number of lags\n",
    "plt.title('io_count Autocorrelation Plot', fontsize=16)\n",
    "plt.xlabel('Lag', fontsize=14)\n",
    "plt.ylabel('Autocorrelation', fontsize=14)\n",
    "plt.grid(True)\n",
    "plt.tight_layout()\n",
    "plt.show()"
   ]
  },
  {
   "cell_type": "code",
   "execution_count": 40,
   "id": "229d9f34",
   "metadata": {
    "execution": {
     "iopub.execute_input": "2024-11-22T00:47:54.623437Z",
     "iopub.status.busy": "2024-11-22T00:47:54.623324Z",
     "iopub.status.idle": "2024-11-22T00:47:54.694479Z",
     "shell.execute_reply": "2024-11-22T00:47:54.694148Z"
    },
    "papermill": {
     "duration": 0.079065,
     "end_time": "2024-11-22T00:47:54.695580",
     "exception": false,
     "start_time": "2024-11-22T00:47:54.616515",
     "status": "completed"
    },
    "tags": []
   },
   "outputs": [
    {
     "data": {
      "image/png": "[encoded data removed]",
      "text/plain": [
       "<Figure size 1000x600 with 1 Axes>"
      ]
     },
     "metadata": {},
     "output_type": "display_data"
    }
   ],
   "source": [
    "from statsmodels.tsa.stattools import ccf\n",
    "\n",
    "# Compute cross-correlation between two features\n",
    "cross_corr = ccf(df_series['io_count'], df_series['SPEND'])\n",
    "\n",
    "# Plot the cross-correlation\n",
    "import matplotlib.pyplot as plt\n",
    "plt.figure(figsize=(10, 6))\n",
    "plt.bar(range(len(cross_corr)), cross_corr)\n",
    "plt.title('Cross-Correlation Between io count and spend')\n",
    "plt.xlabel('Lag')\n",
    "plt.ylabel('Cross-Correlation')\n",
    "plt.grid()\n",
    "plt.show()"
   ]
  },
  {
   "cell_type": "code",
   "execution_count": 41,
   "id": "03f5e29c",
   "metadata": {
    "execution": {
     "iopub.execute_input": "2024-11-22T00:47:54.709710Z",
     "iopub.status.busy": "2024-11-22T00:47:54.709584Z",
     "iopub.status.idle": "2024-11-22T00:47:54.713252Z",
     "shell.execute_reply": "2024-11-22T00:47:54.713012Z"
    },
    "papermill": {
     "duration": 0.011059,
     "end_time": "2024-11-22T00:47:54.713878",
     "exception": false,
     "start_time": "2024-11-22T00:47:54.702819",
     "status": "completed"
    },
    "tags": []
   },
   "outputs": [
    {
     "data": {
      "text/html": [
       "<div>\n",
       "<style scoped>\n",
       "    .dataframe tbody tr th:only-of-type {\n",
       "        vertical-align: middle;\n",
       "    }\n",
       "\n",
       "    .dataframe tbody tr th {\n",
       "        vertical-align: top;\n",
       "    }\n",
       "\n",
       "    .dataframe thead th {\n",
       "        text-align: right;\n",
       "    }\n",
       "</style>\n",
       "<table border=\"1\" class=\"dataframe\">\n",
       "  <thead>\n",
       "    <tr style=\"text-align: right;\">\n",
       "      <th></th>\n",
       "      <th>io_count</th>\n",
       "      <th>intervention</th>\n",
       "      <th>t</th>\n",
       "      <th>month</th>\n",
       "      <th>direct_search_sum</th>\n",
       "      <th>SPEND</th>\n",
       "      <th>IMPRESSIONS</th>\n",
       "      <th>CLICKS</th>\n",
       "    </tr>\n",
       "    <tr>\n",
       "      <th>year_month</th>\n",
       "      <th></th>\n",
       "      <th></th>\n",
       "      <th></th>\n",
       "      <th></th>\n",
       "      <th></th>\n",
       "      <th></th>\n",
       "      <th></th>\n",
       "      <th></th>\n",
       "    </tr>\n",
       "  </thead>\n",
       "  <tbody>\n",
       "    <tr>\n",
       "      <th>2022-03-01</th>\n",
       "      <td>11</td>\n",
       "      <td>False</td>\n",
       "      <td>9</td>\n",
       "      <td>3</td>\n",
       "      <td>785</td>\n",
       "      <td>1136.67</td>\n",
       "      <td>1075</td>\n",
       "      <td>260</td>\n",
       "    </tr>\n",
       "    <tr>\n",
       "      <th>2022-04-01</th>\n",
       "      <td>14</td>\n",
       "      <td>False</td>\n",
       "      <td>10</td>\n",
       "      <td>4</td>\n",
       "      <td>212</td>\n",
       "      <td>1042.38</td>\n",
       "      <td>973</td>\n",
       "      <td>243</td>\n",
       "    </tr>\n",
       "    <tr>\n",
       "      <th>2022-05-01</th>\n",
       "      <td>8</td>\n",
       "      <td>False</td>\n",
       "      <td>11</td>\n",
       "      <td>5</td>\n",
       "      <td>208</td>\n",
       "      <td>789.10</td>\n",
       "      <td>975</td>\n",
       "      <td>228</td>\n",
       "    </tr>\n",
       "    <tr>\n",
       "      <th>2022-06-01</th>\n",
       "      <td>11</td>\n",
       "      <td>False</td>\n",
       "      <td>12</td>\n",
       "      <td>6</td>\n",
       "      <td>275</td>\n",
       "      <td>927.65</td>\n",
       "      <td>1006</td>\n",
       "      <td>254</td>\n",
       "    </tr>\n",
       "    <tr>\n",
       "      <th>2022-07-01</th>\n",
       "      <td>8</td>\n",
       "      <td>False</td>\n",
       "      <td>13</td>\n",
       "      <td>7</td>\n",
       "      <td>5187</td>\n",
       "      <td>1223.34</td>\n",
       "      <td>824</td>\n",
       "      <td>227</td>\n",
       "    </tr>\n",
       "  </tbody>\n",
       "</table>\n",
       "</div>"
      ],
      "text/plain": [
       "            io_count  intervention   t  month  direct_search_sum    SPEND  \\\n",
       "year_month                                                                  \n",
       "2022-03-01        11         False   9      3                785  1136.67   \n",
       "2022-04-01        14         False  10      4                212  1042.38   \n",
       "2022-05-01         8         False  11      5                208   789.10   \n",
       "2022-06-01        11         False  12      6                275   927.65   \n",
       "2022-07-01         8         False  13      7               5187  1223.34   \n",
       "\n",
       "            IMPRESSIONS  CLICKS  \n",
       "year_month                       \n",
       "2022-03-01         1075     260  \n",
       "2022-04-01          973     243  \n",
       "2022-05-01          975     228  \n",
       "2022-06-01         1006     254  \n",
       "2022-07-01          824     227  "
      ]
     },
     "execution_count": 41,
     "metadata": {},
     "output_type": "execute_result"
    }
   ],
   "source": [
    "#adding lags\n",
    "df_final2.head()"
   ]
  },
  {
   "cell_type": "code",
   "execution_count": 42,
   "id": "4549ecd8",
   "metadata": {
    "execution": {
     "iopub.execute_input": "2024-11-22T00:47:54.727523Z",
     "iopub.status.busy": "2024-11-22T00:47:54.727430Z",
     "iopub.status.idle": "2024-11-22T00:47:54.733128Z",
     "shell.execute_reply": "2024-11-22T00:47:54.732915Z"
    },
    "papermill": {
     "duration": 0.01303,
     "end_time": "2024-11-22T00:47:54.733727",
     "exception": false,
     "start_time": "2024-11-22T00:47:54.720697",
     "status": "completed"
    },
    "tags": []
   },
   "outputs": [
    {
     "data": {
      "text/html": [
       "<div>\n",
       "<style scoped>\n",
       "    .dataframe tbody tr th:only-of-type {\n",
       "        vertical-align: middle;\n",
       "    }\n",
       "\n",
       "    .dataframe tbody tr th {\n",
       "        vertical-align: top;\n",
       "    }\n",
       "\n",
       "    .dataframe thead th {\n",
       "        text-align: right;\n",
       "    }\n",
       "</style>\n",
       "<table border=\"1\" class=\"dataframe\">\n",
       "  <thead>\n",
       "    <tr style=\"text-align: right;\">\n",
       "      <th></th>\n",
       "      <th>io_count</th>\n",
       "      <th>intervention</th>\n",
       "      <th>t</th>\n",
       "      <th>month</th>\n",
       "      <th>direct_search_sum</th>\n",
       "      <th>SPEND</th>\n",
       "      <th>IMPRESSIONS</th>\n",
       "      <th>CLICKS</th>\n",
       "      <th>lag_SPEND</th>\n",
       "      <th>lag_direct_search_sum</th>\n",
       "      <th>lag_IMPRESSIONS</th>\n",
       "      <th>lag_io_count</th>\n",
       "    </tr>\n",
       "    <tr>\n",
       "      <th>year_month</th>\n",
       "      <th></th>\n",
       "      <th></th>\n",
       "      <th></th>\n",
       "      <th></th>\n",
       "      <th></th>\n",
       "      <th></th>\n",
       "      <th></th>\n",
       "      <th></th>\n",
       "      <th></th>\n",
       "      <th></th>\n",
       "      <th></th>\n",
       "      <th></th>\n",
       "    </tr>\n",
       "  </thead>\n",
       "  <tbody>\n",
       "    <tr>\n",
       "      <th>2022-04-01</th>\n",
       "      <td>14</td>\n",
       "      <td>False</td>\n",
       "      <td>10</td>\n",
       "      <td>4</td>\n",
       "      <td>212</td>\n",
       "      <td>1042.38</td>\n",
       "      <td>973</td>\n",
       "      <td>243</td>\n",
       "      <td>1136.67</td>\n",
       "      <td>785.0</td>\n",
       "      <td>1075.0</td>\n",
       "      <td>11.0</td>\n",
       "    </tr>\n",
       "    <tr>\n",
       "      <th>2022-05-01</th>\n",
       "      <td>8</td>\n",
       "      <td>False</td>\n",
       "      <td>11</td>\n",
       "      <td>5</td>\n",
       "      <td>208</td>\n",
       "      <td>789.10</td>\n",
       "      <td>975</td>\n",
       "      <td>228</td>\n",
       "      <td>1042.38</td>\n",
       "      <td>212.0</td>\n",
       "      <td>973.0</td>\n",
       "      <td>14.0</td>\n",
       "    </tr>\n",
       "    <tr>\n",
       "      <th>2022-06-01</th>\n",
       "      <td>11</td>\n",
       "      <td>False</td>\n",
       "      <td>12</td>\n",
       "      <td>6</td>\n",
       "      <td>275</td>\n",
       "      <td>927.65</td>\n",
       "      <td>1006</td>\n",
       "      <td>254</td>\n",
       "      <td>789.10</td>\n",
       "      <td>208.0</td>\n",
       "      <td>975.0</td>\n",
       "      <td>8.0</td>\n",
       "    </tr>\n",
       "    <tr>\n",
       "      <th>2022-07-01</th>\n",
       "      <td>8</td>\n",
       "      <td>False</td>\n",
       "      <td>13</td>\n",
       "      <td>7</td>\n",
       "      <td>5187</td>\n",
       "      <td>1223.34</td>\n",
       "      <td>824</td>\n",
       "      <td>227</td>\n",
       "      <td>927.65</td>\n",
       "      <td>275.0</td>\n",
       "      <td>1006.0</td>\n",
       "      <td>11.0</td>\n",
       "    </tr>\n",
       "    <tr>\n",
       "      <th>2022-08-01</th>\n",
       "      <td>6</td>\n",
       "      <td>False</td>\n",
       "      <td>14</td>\n",
       "      <td>8</td>\n",
       "      <td>9360</td>\n",
       "      <td>1272.46</td>\n",
       "      <td>911</td>\n",
       "      <td>234</td>\n",
       "      <td>1223.34</td>\n",
       "      <td>5187.0</td>\n",
       "      <td>824.0</td>\n",
       "      <td>8.0</td>\n",
       "    </tr>\n",
       "  </tbody>\n",
       "</table>\n",
       "</div>"
      ],
      "text/plain": [
       "            io_count  intervention   t  month  direct_search_sum    SPEND  \\\n",
       "year_month                                                                  \n",
       "2022-04-01        14         False  10      4                212  1042.38   \n",
       "2022-05-01         8         False  11      5                208   789.10   \n",
       "2022-06-01        11         False  12      6                275   927.65   \n",
       "2022-07-01         8         False  13      7               5187  1223.34   \n",
       "2022-08-01         6         False  14      8               9360  1272.46   \n",
       "\n",
       "            IMPRESSIONS  CLICKS  lag_SPEND  lag_direct_search_sum  \\\n",
       "year_month                                                          \n",
       "2022-04-01          973     243    1136.67                  785.0   \n",
       "2022-05-01          975     228    1042.38                  212.0   \n",
       "2022-06-01         1006     254     789.10                  208.0   \n",
       "2022-07-01          824     227     927.65                  275.0   \n",
       "2022-08-01          911     234    1223.34                 5187.0   \n",
       "\n",
       "            lag_IMPRESSIONS  lag_io_count  \n",
       "year_month                                 \n",
       "2022-04-01           1075.0          11.0  \n",
       "2022-05-01            973.0          14.0  \n",
       "2022-06-01            975.0           8.0  \n",
       "2022-07-01           1006.0          11.0  \n",
       "2022-08-01            824.0           8.0  "
      ]
     },
     "execution_count": 42,
     "metadata": {},
     "output_type": "execute_result"
    }
   ],
   "source": [
    "k = 1\n",
    "df_final3 = df_final2.copy()\n",
    "df_final3['lag_SPEND'] = df_final3['SPEND'].shift(k)\n",
    "df_final3['lag_direct_search_sum'] = df_final3['direct_search_sum'].shift(k)\n",
    "df_final3['lag_IMPRESSIONS'] = df_final3['IMPRESSIONS'].shift(k)\n",
    "df_final3['lag_io_count'] = df_final3['io_count'].shift(k)\n",
    "df_final3 = df_final3.dropna()\n",
    "df_final3.head()"
   ]
  },
  {
   "cell_type": "code",
   "execution_count": 43,
   "id": "1c4fdc49",
   "metadata": {
    "execution": {
     "iopub.execute_input": "2024-11-22T00:47:54.748263Z",
     "iopub.status.busy": "2024-11-22T00:47:54.748149Z",
     "iopub.status.idle": "2024-11-22T00:47:54.752436Z",
     "shell.execute_reply": "2024-11-22T00:47:54.752228Z"
    },
    "papermill": {
     "duration": 0.012563,
     "end_time": "2024-11-22T00:47:54.753048",
     "exception": false,
     "start_time": "2024-11-22T00:47:54.740485",
     "status": "completed"
    },
    "tags": []
   },
   "outputs": [
    {
     "data": {
      "text/html": [
       "<div>\n",
       "<style scoped>\n",
       "    .dataframe tbody tr th:only-of-type {\n",
       "        vertical-align: middle;\n",
       "    }\n",
       "\n",
       "    .dataframe tbody tr th {\n",
       "        vertical-align: top;\n",
       "    }\n",
       "\n",
       "    .dataframe thead th {\n",
       "        text-align: right;\n",
       "    }\n",
       "</style>\n",
       "<table border=\"1\" class=\"dataframe\">\n",
       "  <thead>\n",
       "    <tr style=\"text-align: right;\">\n",
       "      <th></th>\n",
       "      <th>io_count</th>\n",
       "      <th>intervention</th>\n",
       "      <th>t</th>\n",
       "      <th>month</th>\n",
       "      <th>direct_search_sum</th>\n",
       "      <th>SPEND</th>\n",
       "      <th>IMPRESSIONS</th>\n",
       "      <th>CLICKS</th>\n",
       "      <th>lag_SPEND</th>\n",
       "      <th>lag_direct_search_sum</th>\n",
       "      <th>lag_IMPRESSIONS</th>\n",
       "      <th>lag_io_count</th>\n",
       "    </tr>\n",
       "    <tr>\n",
       "      <th>year_month</th>\n",
       "      <th></th>\n",
       "      <th></th>\n",
       "      <th></th>\n",
       "      <th></th>\n",
       "      <th></th>\n",
       "      <th></th>\n",
       "      <th></th>\n",
       "      <th></th>\n",
       "      <th></th>\n",
       "      <th></th>\n",
       "      <th></th>\n",
       "      <th></th>\n",
       "    </tr>\n",
       "  </thead>\n",
       "  <tbody>\n",
       "    <tr>\n",
       "      <th>2024-06-01</th>\n",
       "      <td>11</td>\n",
       "      <td>False</td>\n",
       "      <td>36</td>\n",
       "      <td>6</td>\n",
       "      <td>11663</td>\n",
       "      <td>2187.32</td>\n",
       "      <td>703</td>\n",
       "      <td>234</td>\n",
       "      <td>3122.28</td>\n",
       "      <td>12988.0</td>\n",
       "      <td>748.0</td>\n",
       "      <td>17.0</td>\n",
       "    </tr>\n",
       "    <tr>\n",
       "      <th>2024-07-01</th>\n",
       "      <td>18</td>\n",
       "      <td>False</td>\n",
       "      <td>37</td>\n",
       "      <td>7</td>\n",
       "      <td>12294</td>\n",
       "      <td>1855.29</td>\n",
       "      <td>646</td>\n",
       "      <td>236</td>\n",
       "      <td>2187.32</td>\n",
       "      <td>11663.0</td>\n",
       "      <td>703.0</td>\n",
       "      <td>11.0</td>\n",
       "    </tr>\n",
       "    <tr>\n",
       "      <th>2024-08-01</th>\n",
       "      <td>20</td>\n",
       "      <td>False</td>\n",
       "      <td>38</td>\n",
       "      <td>8</td>\n",
       "      <td>13847</td>\n",
       "      <td>2297.06</td>\n",
       "      <td>661</td>\n",
       "      <td>251</td>\n",
       "      <td>1855.29</td>\n",
       "      <td>12294.0</td>\n",
       "      <td>646.0</td>\n",
       "      <td>18.0</td>\n",
       "    </tr>\n",
       "    <tr>\n",
       "      <th>2024-09-01</th>\n",
       "      <td>21</td>\n",
       "      <td>True</td>\n",
       "      <td>39</td>\n",
       "      <td>9</td>\n",
       "      <td>16096</td>\n",
       "      <td>2863.06</td>\n",
       "      <td>821</td>\n",
       "      <td>347</td>\n",
       "      <td>2297.06</td>\n",
       "      <td>13847.0</td>\n",
       "      <td>661.0</td>\n",
       "      <td>20.0</td>\n",
       "    </tr>\n",
       "    <tr>\n",
       "      <th>2024-10-01</th>\n",
       "      <td>13</td>\n",
       "      <td>True</td>\n",
       "      <td>40</td>\n",
       "      <td>10</td>\n",
       "      <td>15602</td>\n",
       "      <td>3602.98</td>\n",
       "      <td>765</td>\n",
       "      <td>326</td>\n",
       "      <td>2863.06</td>\n",
       "      <td>16096.0</td>\n",
       "      <td>821.0</td>\n",
       "      <td>21.0</td>\n",
       "    </tr>\n",
       "  </tbody>\n",
       "</table>\n",
       "</div>"
      ],
      "text/plain": [
       "            io_count  intervention   t  month  direct_search_sum    SPEND  \\\n",
       "year_month                                                                  \n",
       "2024-06-01        11         False  36      6              11663  2187.32   \n",
       "2024-07-01        18         False  37      7              12294  1855.29   \n",
       "2024-08-01        20         False  38      8              13847  2297.06   \n",
       "2024-09-01        21          True  39      9              16096  2863.06   \n",
       "2024-10-01        13          True  40     10              15602  3602.98   \n",
       "\n",
       "            IMPRESSIONS  CLICKS  lag_SPEND  lag_direct_search_sum  \\\n",
       "year_month                                                          \n",
       "2024-06-01          703     234    3122.28                12988.0   \n",
       "2024-07-01          646     236    2187.32                11663.0   \n",
       "2024-08-01          661     251    1855.29                12294.0   \n",
       "2024-09-01          821     347    2297.06                13847.0   \n",
       "2024-10-01          765     326    2863.06                16096.0   \n",
       "\n",
       "            lag_IMPRESSIONS  lag_io_count  \n",
       "year_month                                 \n",
       "2024-06-01            748.0          17.0  \n",
       "2024-07-01            703.0          11.0  \n",
       "2024-08-01            646.0          18.0  \n",
       "2024-09-01            661.0          20.0  \n",
       "2024-10-01            821.0          21.0  "
      ]
     },
     "execution_count": 43,
     "metadata": {},
     "output_type": "execute_result"
    }
   ],
   "source": [
    "df_final3.tail()"
   ]
  },
  {
   "cell_type": "code",
   "execution_count": 44,
   "id": "59349a34",
   "metadata": {
    "execution": {
     "iopub.execute_input": "2024-11-22T00:47:54.766745Z",
     "iopub.status.busy": "2024-11-22T00:47:54.766651Z",
     "iopub.status.idle": "2024-11-22T00:48:01.520546Z",
     "shell.execute_reply": "2024-11-22T00:48:01.520253Z"
    },
    "papermill": {
     "duration": 6.76152,
     "end_time": "2024-11-22T00:48:01.521221",
     "exception": false,
     "start_time": "2024-11-22T00:47:54.759701",
     "status": "completed"
    },
    "tags": []
   },
   "outputs": [
    {
     "name": "stderr",
     "output_type": "stream",
     "text": [
      "Auto-assigning NUTS sampler...\n"
     ]
    },
    {
     "name": "stderr",
     "output_type": "stream",
     "text": [
      "Initializing NUTS using jitter+adapt_diag...\n"
     ]
    },
    {
     "name": "stderr",
     "output_type": "stream",
     "text": [
      "Multiprocess sampling (4 chains in 4 jobs)\n"
     ]
    },
    {
     "name": "stderr",
     "output_type": "stream",
     "text": [
      "NUTS: [beta, sigma]\n"
     ]
    },
    {
     "data": {
      "text/html": [
       "<pre style=\"white-space:pre;overflow-x:auto;line-height:normal;font-family:Menlo,'DejaVu Sans Mono',consolas,'Courier New',monospace\">/Users/lmola/.pyenv/versions/3.11.7/lib/python3.11/site-packages/rich/live.py:231: UserWarning: install \n",
       "\"ipywidgets\" for Jupyter support\n",
       "  warnings.warn('install \"ipywidgets\" for Jupyter support')\n",
       "</pre>\n"
      ],
      "text/plain": [
       "/Users/lmola/.pyenv/versions/3.11.7/lib/python3.11/site-packages/rich/live.py:231: UserWarning: install \n",
       "\"ipywidgets\" for Jupyter support\n",
       "  warnings.warn('install \"ipywidgets\" for Jupyter support')\n"
      ]
     },
     "metadata": {},
     "output_type": "display_data"
    },
    {
     "data": {
      "text/html": [
       "<pre style=\"white-space:pre;overflow-x:auto;line-height:normal;font-family:Menlo,'DejaVu Sans Mono',consolas,'Courier New',monospace\"></pre>\n"
      ],
      "text/plain": []
     },
     "metadata": {},
     "output_type": "display_data"
    },
    {
     "name": "stderr",
     "output_type": "stream",
     "text": [
      "Sampling 4 chains for 1_000 tune and 1_000 draw iterations (4_000 + 4_000 draws total) took 3 seconds.\n"
     ]
    },
    {
     "name": "stderr",
     "output_type": "stream",
     "text": [
      "Sampling: [beta, sigma, y_hat]\n"
     ]
    },
    {
     "name": "stderr",
     "output_type": "stream",
     "text": [
      "Sampling: [y_hat]\n"
     ]
    },
    {
     "name": "stderr",
     "output_type": "stream",
     "text": [
      "Sampling: [y_hat]\n"
     ]
    },
    {
     "name": "stderr",
     "output_type": "stream",
     "text": [
      "Sampling: [y_hat]\n"
     ]
    },
    {
     "name": "stderr",
     "output_type": "stream",
     "text": [
      "Sampling: [y_hat]\n"
     ]
    }
   ],
   "source": [
    "import causalpy as cp\n",
    "\n",
    "seed=42\n",
    "result4 = cp.InterruptedTimeSeries(\n",
    "    data=df_final3,\n",
    "    treatment_time=pd.Timestamp(intervention_date),\n",
    "    formula=\"io_count ~ 1 + t + C(month) + SPEND +  \\\n",
    "         + lag_io_count\",\n",
    "    model=cp.pymc_models.LinearRegression(sample_kwargs={\"random_seed\": seed}),\n",
    ")"
   ]
  },
  {
   "cell_type": "code",
   "execution_count": 45,
   "id": "37e80600",
   "metadata": {
    "execution": {
     "iopub.execute_input": "2024-11-22T00:48:01.534366Z",
     "iopub.status.busy": "2024-11-22T00:48:01.534173Z",
     "iopub.status.idle": "2024-11-22T00:48:02.201468Z",
     "shell.execute_reply": "2024-11-22T00:48:02.201202Z"
    },
    "papermill": {
     "duration": 0.674511,
     "end_time": "2024-11-22T00:48:02.202164",
     "exception": false,
     "start_time": "2024-11-22T00:48:01.527653",
     "status": "completed"
    },
    "tags": []
   },
   "outputs": [
    {
     "data": {
      "image/png": "[encoded data removed]",
      "text/plain": [
       "<Figure size 1200x800 with 3 Axes>"
      ]
     },
     "metadata": {},
     "output_type": "display_data"
    }
   ],
   "source": [
    "fig4, ax = result4.plot()\n",
    "\n",
    "# Adjust the figure size\n",
    "fig4.set_size_inches(12, 8)  # Example: Width = 12 inches, Height = 8 inches"
   ]
  },
  {
   "cell_type": "code",
   "execution_count": 46,
   "id": "639400d2",
   "metadata": {
    "execution": {
     "iopub.execute_input": "2024-11-22T00:48:02.216498Z",
     "iopub.status.busy": "2024-11-22T00:48:02.216401Z",
     "iopub.status.idle": "2024-11-22T00:48:02.515286Z",
     "shell.execute_reply": "2024-11-22T00:48:02.515064Z"
    },
    "papermill": {
     "duration": 0.306562,
     "end_time": "2024-11-22T00:48:02.515968",
     "exception": false,
     "start_time": "2024-11-22T00:48:02.209406",
     "status": "completed"
    },
    "tags": []
   },
   "outputs": [
    {
     "name": "stdout",
     "output_type": "stream",
     "text": [
      "Causal Graph for Austin saved as Austin_plot.png\n"
     ]
    },
    {
     "data": {
      "text/plain": [
       "(0.0, 1.0, 0.0, 1.0)"
      ]
     },
     "execution_count": 46,
     "metadata": {},
     "output_type": "execute_result"
    },
    {
     "data": {
      "image/png": "[encoded data removed]",
      "text/plain": [
       "<Figure size 720x480 with 1 Axes>"
      ]
     },
     "metadata": {},
     "output_type": "display_data"
    }
   ],
   "source": [
    "import matplotlib.image as mpimg\n",
    "\n",
    "\n",
    "\n",
    "fig4.savefig(f\"{MSA_MARKET}_causal_impact_plot.png\")\n",
    "plt.close()  # Close the figure to avoid overwriting\n",
    "print(f\"Causal Graph for {MSA_MARKET} saved as {MSA_MARKET}_plot.png\")\n",
    "plt.axis('off')  # Turn off axes for better visualization\n",
    "# img = mpimg.imread(f\"{MSA_MARKET}_plot.png\")#\n",
    "# plt.imshow(img)"
   ]
  },
  {
   "cell_type": "code",
   "execution_count": 47,
   "id": "21f12aee",
   "metadata": {
    "execution": {
     "iopub.execute_input": "2024-11-22T00:48:02.531769Z",
     "iopub.status.busy": "2024-11-22T00:48:02.531658Z",
     "iopub.status.idle": "2024-11-22T00:48:02.533326Z",
     "shell.execute_reply": "2024-11-22T00:48:02.533111Z"
    },
    "papermill": {
     "duration": 0.010315,
     "end_time": "2024-11-22T00:48:02.534030",
     "exception": false,
     "start_time": "2024-11-22T00:48:02.523715",
     "status": "completed"
    },
    "tags": []
   },
   "outputs": [
    {
     "name": "stdout",
     "output_type": "stream",
     "text": [
      "['__annotations__', '__class__', '__delattr__', '__dict__', '__dir__', '__doc__', '__eq__', '__format__', '__ge__', '__getattribute__', '__getstate__', '__gt__', '__hash__', '__init__', '__init_subclass__', '__le__', '__lt__', '__module__', '__ne__', '__new__', '__reduce__', '__reduce_ex__', '__repr__', '__setattr__', '__sizeof__', '__str__', '__subclasshook__', '__weakref__', '_x_design_info', '_y_design_info', 'bayesian_plot', 'datapost', 'datapre', 'expt_type', 'formula', 'idata', 'input_validation', 'labels', 'model', 'ols_plot', 'outcome_variable_name', 'plot', 'post_X', 'post_impact', 'post_impact_cumulative', 'post_pred', 'post_y', 'pre_X', 'pre_impact', 'pre_pred', 'pre_y', 'print_coefficients', 'score', 'summary', 'supports_bayes', 'supports_ols', 'treatment_time']\n"
     ]
    }
   ],
   "source": [
    "# List all attributes and methods of the model object\n",
    "print(dir(result4))"
   ]
  },
  {
   "cell_type": "code",
   "execution_count": 48,
   "id": "00326651",
   "metadata": {
    "execution": {
     "iopub.execute_input": "2024-11-22T00:48:02.550191Z",
     "iopub.status.busy": "2024-11-22T00:48:02.550076Z",
     "iopub.status.idle": "2024-11-22T00:48:02.553364Z",
     "shell.execute_reply": "2024-11-22T00:48:02.553128Z"
    },
    "papermill": {
     "duration": 0.012102,
     "end_time": "2024-11-22T00:48:02.553980",
     "exception": false,
     "start_time": "2024-11-22T00:48:02.541878",
     "status": "completed"
    },
    "tags": []
   },
   "outputs": [
    {
     "name": "stdout",
     "output_type": "stream",
     "text": [
      "<xarray.DataArray 'y_hat' (chain: 4, draw: 1000, obs_ind: 29)> Size: 928kB\n",
      "array([[[10.35562209, 13.62613743,  4.32717487, ..., 20.99893919,\n",
      "         19.6257655 , 21.04944897],\n",
      "        [10.97318938,  9.94476982, 12.56004561, ..., 14.62720268,\n",
      "         17.68295679, 27.44302729],\n",
      "        [ 9.66811677,  7.36902946, 10.91602134, ..., 17.67325385,\n",
      "         13.7942019 , 16.33219967],\n",
      "        ...,\n",
      "        [15.08956034,  6.81824219,  4.39602555, ..., 17.16396439,\n",
      "          9.98875392, 10.60130298],\n",
      "        [ 2.96674319, 14.81131021,  8.84789623, ..., 16.79408619,\n",
      "         12.21497559, 25.02176553],\n",
      "        [14.85179913,  8.70372337, 12.48983573, ..., 16.63992788,\n",
      "         19.74437347, 16.82888858]],\n",
      "\n",
      "       [[13.18730683,  8.01618934,  7.52362861, ..., 15.71162095,\n",
      "         14.16638258, 22.46119508],\n",
      "        [14.08145963,  8.02748164,  8.0497359 , ..., 11.66247645,\n",
      "         14.95723715, 17.64772454],\n",
      "        [ 9.98663812,  8.87654529, -2.3570804 , ..., 16.84897311,\n",
      "         12.87611162, 21.7544478 ],\n",
      "...\n",
      "        [ 7.89630117,  7.42014287,  2.41496554, ..., 19.18678052,\n",
      "         20.11297841, 16.1705729 ],\n",
      "        [ 4.75364432,  9.92018765,  7.40732351, ..., 12.73009849,\n",
      "         21.57527903, 24.25692912],\n",
      "        [ 8.04305947, 13.62348819,  5.34486584, ..., 14.97768457,\n",
      "         10.06008842, 23.77879341]],\n",
      "\n",
      "       [[15.16256547,  9.60346057,  9.88917104, ..., 15.96789691,\n",
      "         17.6603577 , 19.49202236],\n",
      "        [11.91809584,  9.70108785, -0.61680766, ..., 17.46955192,\n",
      "         11.89085005, 17.15718339],\n",
      "        [ 5.85742996,  7.03892338,  5.27057883, ..., 16.88128201,\n",
      "         18.05990211, 16.48110196],\n",
      "        ...,\n",
      "        [ 8.37297502, 10.45016082,  8.56041144, ..., 11.22976921,\n",
      "         24.29695899, 22.37452769],\n",
      "        [12.66810213, 16.59230206, 12.86448333, ..., 20.39328814,\n",
      "         13.42620065, 18.13420318],\n",
      "        [22.6672107 ,  9.17639369, 15.8915093 , ..., 10.56262297,\n",
      "         16.74224656, 16.79874122]]])\n",
      "Coordinates:\n",
      "  * chain    (chain) int64 32B 0 1 2 3\n",
      "  * draw     (draw) int64 8kB 0 1 2 3 4 5 6 7 ... 993 994 995 996 997 998 999\n",
      "  * obs_ind  (obs_ind) int64 232B 0 1 2 3 4 5 6 7 8 ... 21 22 23 24 25 26 27 28\n"
     ]
    }
   ],
   "source": [
    "pre_pred_samples = result4.pre_pred.posterior_predictive[\"y_hat\"]\n",
    "print(pre_pred_samples)  # Check the structure"
   ]
  },
  {
   "cell_type": "code",
   "execution_count": 49,
   "id": "0ee154ec",
   "metadata": {
    "execution": {
     "iopub.execute_input": "2024-11-22T00:48:02.570133Z",
     "iopub.status.busy": "2024-11-22T00:48:02.570025Z",
     "iopub.status.idle": "2024-11-22T00:48:02.576339Z",
     "shell.execute_reply": "2024-11-22T00:48:02.576120Z"
    },
    "papermill": {
     "duration": 0.015093,
     "end_time": "2024-11-22T00:48:02.576968",
     "exception": false,
     "start_time": "2024-11-22T00:48:02.561875",
     "status": "completed"
    },
    "tags": []
   },
   "outputs": [
    {
     "data": {
      "text/html": [
       "<div><svg style=\"position: absolute; width: 0; height: 0; overflow: hidden\">\n",
       "<defs>\n",
       "<symbol id=\"icon-database\" viewBox=\"0 0 32 32\">\n",
       "<path d=\"M16 0c-8.837 0-16 2.239-16 5v4c0 2.761 7.163 5 16 5s16-2.239 16-5v-4c0-2.761-7.163-5-16-5z\"></path>\n",
       "<path d=\"M16 17c-8.837 0-16-2.239-16-5v6c0 2.761 7.163 5 16 5s16-2.239 16-5v-6c0 2.761-7.163 5-16 5z\"></path>\n",
       "<path d=\"M16 26c-8.837 0-16-2.239-16-5v6c0 2.761 7.163 5 16 5s16-2.239 16-5v-6c0 2.761-7.163 5-16 5z\"></path>\n",
       "</symbol>\n",
       "<symbol id=\"icon-file-text2\" viewBox=\"0 0 32 32\">\n",
       "<path d=\"M28.681 7.159c-0.694-0.947-1.662-2.053-2.724-3.116s-2.169-2.030-3.116-2.724c-1.612-1.182-2.393-1.319-2.841-1.319h-15.5c-1.378 0-2.5 1.121-2.5 2.5v27c0 1.378 1.122 2.5 2.5 2.5h23c1.378 0 2.5-1.122 2.5-2.5v-19.5c0-0.448-0.137-1.23-1.319-2.841zM24.543 5.457c0.959 0.959 1.712 1.825 2.268 2.543h-4.811v-4.811c0.718 0.556 1.584 1.309 2.543 2.268zM28 29.5c0 0.271-0.229 0.5-0.5 0.5h-23c-0.271 0-0.5-0.229-0.5-0.5v-27c0-0.271 0.229-0.5 0.5-0.5 0 0 15.499-0 15.5 0v7c0 0.552 0.448 1 1 1h7v19.5z\"></path>\n",
       "<path d=\"M23 26h-14c-0.552 0-1-0.448-1-1s0.448-1 1-1h14c0.552 0 1 0.448 1 1s-0.448 1-1 1z\"></path>\n",
       "<path d=\"M23 22h-14c-0.552 0-1-0.448-1-1s0.448-1 1-1h14c0.552 0 1 0.448 1 1s-0.448 1-1 1z\"></path>\n",
       "<path d=\"M23 18h-14c-0.552 0-1-0.448-1-1s0.448-1 1-1h14c0.552 0 1 0.448 1 1s-0.448 1-1 1z\"></path>\n",
       "</symbol>\n",
       "</defs>\n",
       "</svg>\n",
       "<style>/* CSS stylesheet for displaying xarray objects in jupyterlab.\n",
       " *\n",
       " */\n",
       "\n",
       ":root {\n",
       "  --xr-font-color0: var(--jp-content-font-color0, rgba(0, 0, 0, 1));\n",
       "  --xr-font-color2: var(--jp-content-font-color2, rgba(0, 0, 0, 0.54));\n",
       "  --xr-font-color3: var(--jp-content-font-color3, rgba(0, 0, 0, 0.38));\n",
       "  --xr-border-color: var(--jp-border-color2, #e0e0e0);\n",
       "  --xr-disabled-color: var(--jp-layout-color3, #bdbdbd);\n",
       "  --xr-background-color: var(--jp-layout-color0, white);\n",
       "  --xr-background-color-row-even: var(--jp-layout-color1, white);\n",
       "  --xr-background-color-row-odd: var(--jp-layout-color2, #eeeeee);\n",
       "}\n",
       "\n",
       "html[theme=dark],\n",
       "html[data-theme=dark],\n",
       "body[data-theme=dark],\n",
       "body.vscode-dark {\n",
       "  --xr-font-color0: rgba(255, 255, 255, 1);\n",
       "  --xr-font-color2: rgba(255, 255, 255, 0.54);\n",
       "  --xr-font-color3: rgba(255, 255, 255, 0.38);\n",
       "  --xr-border-color: #1F1F1F;\n",
       "  --xr-disabled-color: #515151;\n",
       "  --xr-background-color: #111111;\n",
       "  --xr-background-color-row-even: #111111;\n",
       "  --xr-background-color-row-odd: #313131;\n",
       "}\n",
       "\n",
       ".xr-wrap {\n",
       "  display: block !important;\n",
       "  min-width: 300px;\n",
       "  max-width: 700px;\n",
       "}\n",
       "\n",
       ".xr-text-repr-fallback {\n",
       "  /* fallback to plain text repr when CSS is not injected (untrusted notebook) */\n",
       "  display: none;\n",
       "}\n",
       "\n",
       ".xr-header {\n",
       "  padding-top: 6px;\n",
       "  padding-bottom: 6px;\n",
       "  margin-bottom: 4px;\n",
       "  border-bottom: solid 1px var(--xr-border-color);\n",
       "}\n",
       "\n",
       ".xr-header > div,\n",
       ".xr-header > ul {\n",
       "  display: inline;\n",
       "  margin-top: 0;\n",
       "  margin-bottom: 0;\n",
       "}\n",
       "\n",
       ".xr-obj-type,\n",
       ".xr-array-name {\n",
       "  margin-left: 2px;\n",
       "  margin-right: 10px;\n",
       "}\n",
       "\n",
       ".xr-obj-type {\n",
       "  color: var(--xr-font-color2);\n",
       "}\n",
       "\n",
       ".xr-sections {\n",
       "  padding-left: 0 !important;\n",
       "  display: grid;\n",
       "  grid-template-columns: 150px auto auto 1fr 0 20px 0 20px;\n",
       "}\n",
       "\n",
       ".xr-section-item {\n",
       "  display: contents;\n",
       "}\n",
       "\n",
       ".xr-section-item input {\n",
       "  display: inline-block;\n",
       "  opacity: 0;\n",
       "}\n",
       "\n",
       ".xr-section-item input + label {\n",
       "  color: var(--xr-disabled-color);\n",
       "}\n",
       "\n",
       ".xr-section-item input:enabled + label {\n",
       "  cursor: pointer;\n",
       "  color: var(--xr-font-color2);\n",
       "}\n",
       "\n",
       ".xr-section-item input:focus + label {\n",
       "  border: 2px solid var(--xr-font-color0);\n",
       "}\n",
       "\n",
       ".xr-section-item input:enabled + label:hover {\n",
       "  color: var(--xr-font-color0);\n",
       "}\n",
       "\n",
       ".xr-section-summary {\n",
       "  grid-column: 1;\n",
       "  color: var(--xr-font-color2);\n",
       "  font-weight: 500;\n",
       "}\n",
       "\n",
       ".xr-section-summary > span {\n",
       "  display: inline-block;\n",
       "  padding-left: 0.5em;\n",
       "}\n",
       "\n",
       ".xr-section-summary-in:disabled + label {\n",
       "  color: var(--xr-font-color2);\n",
       "}\n",
       "\n",
       ".xr-section-summary-in + label:before {\n",
       "  display: inline-block;\n",
       "  content: '►';\n",
       "  font-size: 11px;\n",
       "  width: 15px;\n",
       "  text-align: center;\n",
       "}\n",
       "\n",
       ".xr-section-summary-in:disabled + label:before {\n",
       "  color: var(--xr-disabled-color);\n",
       "}\n",
       "\n",
       ".xr-section-summary-in:checked + label:before {\n",
       "  content: '▼';\n",
       "}\n",
       "\n",
       ".xr-section-summary-in:checked + label > span {\n",
       "  display: none;\n",
       "}\n",
       "\n",
       ".xr-section-summary,\n",
       ".xr-section-inline-details {\n",
       "  padding-top: 4px;\n",
       "  padding-bottom: 4px;\n",
       "}\n",
       "\n",
       ".xr-section-inline-details {\n",
       "  grid-column: 2 / -1;\n",
       "}\n",
       "\n",
       ".xr-section-details {\n",
       "  display: none;\n",
       "  grid-column: 1 / -1;\n",
       "  margin-bottom: 5px;\n",
       "}\n",
       "\n",
       ".xr-section-summary-in:checked ~ .xr-section-details {\n",
       "  display: contents;\n",
       "}\n",
       "\n",
       ".xr-array-wrap {\n",
       "  grid-column: 1 / -1;\n",
       "  display: grid;\n",
       "  grid-template-columns: 20px auto;\n",
       "}\n",
       "\n",
       ".xr-array-wrap > label {\n",
       "  grid-column: 1;\n",
       "  vertical-align: top;\n",
       "}\n",
       "\n",
       ".xr-preview {\n",
       "  color: var(--xr-font-color3);\n",
       "}\n",
       "\n",
       ".xr-array-preview,\n",
       ".xr-array-data {\n",
       "  padding: 0 5px !important;\n",
       "  grid-column: 2;\n",
       "}\n",
       "\n",
       ".xr-array-data,\n",
       ".xr-array-in:checked ~ .xr-array-preview {\n",
       "  display: none;\n",
       "}\n",
       "\n",
       ".xr-array-in:checked ~ .xr-array-data,\n",
       ".xr-array-preview {\n",
       "  display: inline-block;\n",
       "}\n",
       "\n",
       ".xr-dim-list {\n",
       "  display: inline-block !important;\n",
       "  list-style: none;\n",
       "  padding: 0 !important;\n",
       "  margin: 0;\n",
       "}\n",
       "\n",
       ".xr-dim-list li {\n",
       "  display: inline-block;\n",
       "  padding: 0;\n",
       "  margin: 0;\n",
       "}\n",
       "\n",
       ".xr-dim-list:before {\n",
       "  content: '(';\n",
       "}\n",
       "\n",
       ".xr-dim-list:after {\n",
       "  content: ')';\n",
       "}\n",
       "\n",
       ".xr-dim-list li:not(:last-child):after {\n",
       "  content: ',';\n",
       "  padding-right: 5px;\n",
       "}\n",
       "\n",
       ".xr-has-index {\n",
       "  font-weight: bold;\n",
       "}\n",
       "\n",
       ".xr-var-list,\n",
       ".xr-var-item {\n",
       "  display: contents;\n",
       "}\n",
       "\n",
       ".xr-var-item > div,\n",
       ".xr-var-item label,\n",
       ".xr-var-item > .xr-var-name span {\n",
       "  background-color: var(--xr-background-color-row-even);\n",
       "  margin-bottom: 0;\n",
       "}\n",
       "\n",
       ".xr-var-item > .xr-var-name:hover span {\n",
       "  padding-right: 5px;\n",
       "}\n",
       "\n",
       ".xr-var-list > li:nth-child(odd) > div,\n",
       ".xr-var-list > li:nth-child(odd) > label,\n",
       ".xr-var-list > li:nth-child(odd) > .xr-var-name span {\n",
       "  background-color: var(--xr-background-color-row-odd);\n",
       "}\n",
       "\n",
       ".xr-var-name {\n",
       "  grid-column: 1;\n",
       "}\n",
       "\n",
       ".xr-var-dims {\n",
       "  grid-column: 2;\n",
       "}\n",
       "\n",
       ".xr-var-dtype {\n",
       "  grid-column: 3;\n",
       "  text-align: right;\n",
       "  color: var(--xr-font-color2);\n",
       "}\n",
       "\n",
       ".xr-var-preview {\n",
       "  grid-column: 4;\n",
       "}\n",
       "\n",
       ".xr-index-preview {\n",
       "  grid-column: 2 / 5;\n",
       "  color: var(--xr-font-color2);\n",
       "}\n",
       "\n",
       ".xr-var-name,\n",
       ".xr-var-dims,\n",
       ".xr-var-dtype,\n",
       ".xr-preview,\n",
       ".xr-attrs dt {\n",
       "  white-space: nowrap;\n",
       "  overflow: hidden;\n",
       "  text-overflow: ellipsis;\n",
       "  padding-right: 10px;\n",
       "}\n",
       "\n",
       ".xr-var-name:hover,\n",
       ".xr-var-dims:hover,\n",
       ".xr-var-dtype:hover,\n",
       ".xr-attrs dt:hover {\n",
       "  overflow: visible;\n",
       "  width: auto;\n",
       "  z-index: 1;\n",
       "}\n",
       "\n",
       ".xr-var-attrs,\n",
       ".xr-var-data,\n",
       ".xr-index-data {\n",
       "  display: none;\n",
       "  background-color: var(--xr-background-color) !important;\n",
       "  padding-bottom: 5px !important;\n",
       "}\n",
       "\n",
       ".xr-var-attrs-in:checked ~ .xr-var-attrs,\n",
       ".xr-var-data-in:checked ~ .xr-var-data,\n",
       ".xr-index-data-in:checked ~ .xr-index-data {\n",
       "  display: block;\n",
       "}\n",
       "\n",
       ".xr-var-data > table {\n",
       "  float: right;\n",
       "}\n",
       "\n",
       ".xr-var-name span,\n",
       ".xr-var-data,\n",
       ".xr-index-name div,\n",
       ".xr-index-data,\n",
       ".xr-attrs {\n",
       "  padding-left: 25px !important;\n",
       "}\n",
       "\n",
       ".xr-attrs,\n",
       ".xr-var-attrs,\n",
       ".xr-var-data,\n",
       ".xr-index-data {\n",
       "  grid-column: 1 / -1;\n",
       "}\n",
       "\n",
       "dl.xr-attrs {\n",
       "  padding: 0;\n",
       "  margin: 0;\n",
       "  display: grid;\n",
       "  grid-template-columns: 125px auto;\n",
       "}\n",
       "\n",
       ".xr-attrs dt,\n",
       ".xr-attrs dd {\n",
       "  padding: 0;\n",
       "  margin: 0;\n",
       "  float: left;\n",
       "  padding-right: 10px;\n",
       "  width: auto;\n",
       "}\n",
       "\n",
       ".xr-attrs dt {\n",
       "  font-weight: normal;\n",
       "  grid-column: 1;\n",
       "}\n",
       "\n",
       ".xr-attrs dt:hover span {\n",
       "  display: inline-block;\n",
       "  background: var(--xr-background-color);\n",
       "  padding-right: 10px;\n",
       "}\n",
       "\n",
       ".xr-attrs dd {\n",
       "  grid-column: 2;\n",
       "  white-space: pre-wrap;\n",
       "  word-break: break-all;\n",
       "}\n",
       "\n",
       ".xr-icon-database,\n",
       ".xr-icon-file-text2,\n",
       ".xr-no-icon {\n",
       "  display: inline-block;\n",
       "  vertical-align: middle;\n",
       "  width: 1em;\n",
       "  height: 1.5em !important;\n",
       "  stroke-width: 0;\n",
       "  stroke: currentColor;\n",
       "  fill: currentColor;\n",
       "}\n",
       "</style><pre class='xr-text-repr-fallback'>&lt;xarray.DataArray &#x27;y_hat&#x27; (chain: 4, obs_ind: 29)&gt; Size: 928B\n",
       "array([[ 9.92200636, 10.27744351,  7.77367175,  8.39252608, 11.07932848,\n",
       "         9.77096546, 12.26386439,  9.25363693, 11.26269628, 15.02529172,\n",
       "        10.47476952, 12.30333234, 12.87146131, 12.89377713, 11.2992496 ,\n",
       "        11.30675994, 14.29615708, 15.37712778, 16.54440031, 12.77681985,\n",
       "        13.6484844 , 17.27773466, 13.65885315, 16.84266791, 16.85357022,\n",
       "        15.73429633, 14.7998207 , 15.2936383 , 18.47470773],\n",
       "       [10.10420735, 10.2356836 ,  7.67491326,  8.33395987, 11.02156426,\n",
       "         9.5874555 , 12.30831909,  9.1250934 , 11.28409859, 15.66581044,\n",
       "        10.64749242, 12.09181733, 12.84824353, 13.13838686, 11.48865368,\n",
       "        11.29958902, 14.28770731, 15.53692114, 16.91790681, 12.88184923,\n",
       "        13.81171383, 17.52172966, 13.7950007 , 16.90104112, 17.02479827,\n",
       "        15.66586891, 14.8727297 , 15.15564096, 18.70286337],\n",
       "       [10.07045232, 10.19111246,  7.65015193,  8.5056307 , 11.0501979 ,\n",
       "         9.59129228, 12.43481799,  9.06941518, 11.34533936, 15.70212075,\n",
       "        10.42733723, 12.18807336, 12.85292253, 12.83882736, 11.56163575,\n",
       "        11.45349644, 14.12399561, 15.12841686, 16.93600699, 12.60794729,\n",
       "        13.65774205, 17.57677059, 13.56589364, 16.81490002, 17.07664832,\n",
       "        15.78332924, 14.97965043, 15.22782897, 18.52741991],\n",
       "       [ 9.94378143, 10.19885217,  7.69727392,  8.40121247, 10.99319793,\n",
       "         9.4136896 , 12.47752571,  9.01946095, 11.23843028, 15.31636734,\n",
       "        10.39724468, 12.30913347, 12.8796084 , 13.1293105 , 11.47730124,\n",
       "        11.42057342, 14.25970481, 15.5106845 , 16.68228112, 12.70827717,\n",
       "        13.54542714, 17.28800343, 13.5365483 , 16.85683765, 16.85650099,\n",
       "        16.13063026, 15.04422262, 15.26428881, 18.62307415]])\n",
       "Coordinates:\n",
       "  * chain    (chain) int64 32B 0 1 2 3\n",
       "  * obs_ind  (obs_ind) int64 232B 0 1 2 3 4 5 6 7 8 ... 21 22 23 24 25 26 27 28</pre><div class='xr-wrap' style='display:none'><div class='xr-header'><div class='xr-obj-type'>xarray.DataArray</div><div class='xr-array-name'>'y_hat'</div><ul class='xr-dim-list'><li><span class='xr-has-index'>chain</span>: 4</li><li><span class='xr-has-index'>obs_ind</span>: 29</li></ul></div><ul class='xr-sections'><li class='xr-section-item'><div class='xr-array-wrap'><input id='section-a396a3da-0e97-4dc0-bbe3-5de3cbd808af' class='xr-array-in' type='checkbox' checked><label for='section-a396a3da-0e97-4dc0-bbe3-5de3cbd808af' title='Show/hide data repr'><svg class='icon xr-icon-database'><use xlink:href='#icon-database'></use></svg></label><div class='xr-array-preview xr-preview'><span>9.922 10.28 7.774 8.393 11.08 9.771 ... 16.86 16.13 15.04 15.26 18.62</span></div><div class='xr-array-data'><pre>array([[ 9.92200636, 10.27744351,  7.77367175,  8.39252608, 11.07932848,\n",
       "         9.77096546, 12.26386439,  9.25363693, 11.26269628, 15.02529172,\n",
       "        10.47476952, 12.30333234, 12.87146131, 12.89377713, 11.2992496 ,\n",
       "        11.30675994, 14.29615708, 15.37712778, 16.54440031, 12.77681985,\n",
       "        13.6484844 , 17.27773466, 13.65885315, 16.84266791, 16.85357022,\n",
       "        15.73429633, 14.7998207 , 15.2936383 , 18.47470773],\n",
       "       [10.10420735, 10.2356836 ,  7.67491326,  8.33395987, 11.02156426,\n",
       "         9.5874555 , 12.30831909,  9.1250934 , 11.28409859, 15.66581044,\n",
       "        10.64749242, 12.09181733, 12.84824353, 13.13838686, 11.48865368,\n",
       "        11.29958902, 14.28770731, 15.53692114, 16.91790681, 12.88184923,\n",
       "        13.81171383, 17.52172966, 13.7950007 , 16.90104112, 17.02479827,\n",
       "        15.66586891, 14.8727297 , 15.15564096, 18.70286337],\n",
       "       [10.07045232, 10.19111246,  7.65015193,  8.5056307 , 11.0501979 ,\n",
       "         9.59129228, 12.43481799,  9.06941518, 11.34533936, 15.70212075,\n",
       "        10.42733723, 12.18807336, 12.85292253, 12.83882736, 11.56163575,\n",
       "        11.45349644, 14.12399561, 15.12841686, 16.93600699, 12.60794729,\n",
       "        13.65774205, 17.57677059, 13.56589364, 16.81490002, 17.07664832,\n",
       "        15.78332924, 14.97965043, 15.22782897, 18.52741991],\n",
       "       [ 9.94378143, 10.19885217,  7.69727392,  8.40121247, 10.99319793,\n",
       "         9.4136896 , 12.47752571,  9.01946095, 11.23843028, 15.31636734,\n",
       "        10.39724468, 12.30913347, 12.8796084 , 13.1293105 , 11.47730124,\n",
       "        11.42057342, 14.25970481, 15.5106845 , 16.68228112, 12.70827717,\n",
       "        13.54542714, 17.28800343, 13.5365483 , 16.85683765, 16.85650099,\n",
       "        16.13063026, 15.04422262, 15.26428881, 18.62307415]])</pre></div></div></li><li class='xr-section-item'><input id='section-34a76830-6a46-4102-9dc7-4c8ddd1643af' class='xr-section-summary-in' type='checkbox'  checked><label for='section-34a76830-6a46-4102-9dc7-4c8ddd1643af' class='xr-section-summary' >Coordinates: <span>(2)</span></label><div class='xr-section-inline-details'></div><div class='xr-section-details'><ul class='xr-var-list'><li class='xr-var-item'><div class='xr-var-name'><span class='xr-has-index'>chain</span></div><div class='xr-var-dims'>(chain)</div><div class='xr-var-dtype'>int64</div><div class='xr-var-preview xr-preview'>0 1 2 3</div><input id='attrs-07badb8b-4415-49a6-886e-4647b2f255de' class='xr-var-attrs-in' type='checkbox' disabled><label for='attrs-07badb8b-4415-49a6-886e-4647b2f255de' title='Show/Hide attributes'><svg class='icon xr-icon-file-text2'><use xlink:href='#icon-file-text2'></use></svg></label><input id='data-9cbcfec7-a8f4-4f6f-a69a-a9984630e91f' class='xr-var-data-in' type='checkbox'><label for='data-9cbcfec7-a8f4-4f6f-a69a-a9984630e91f' title='Show/Hide data repr'><svg class='icon xr-icon-database'><use xlink:href='#icon-database'></use></svg></label><div class='xr-var-attrs'><dl class='xr-attrs'></dl></div><div class='xr-var-data'><pre>array([0, 1, 2, 3])</pre></div></li><li class='xr-var-item'><div class='xr-var-name'><span class='xr-has-index'>obs_ind</span></div><div class='xr-var-dims'>(obs_ind)</div><div class='xr-var-dtype'>int64</div><div class='xr-var-preview xr-preview'>0 1 2 3 4 5 6 ... 23 24 25 26 27 28</div><input id='attrs-9d944494-4529-4a63-8eca-2a00e62e2db8' class='xr-var-attrs-in' type='checkbox' disabled><label for='attrs-9d944494-4529-4a63-8eca-2a00e62e2db8' title='Show/Hide attributes'><svg class='icon xr-icon-file-text2'><use xlink:href='#icon-file-text2'></use></svg></label><input id='data-da7248d5-ef0d-48b6-a407-6170903fa4b4' class='xr-var-data-in' type='checkbox'><label for='data-da7248d5-ef0d-48b6-a407-6170903fa4b4' title='Show/Hide data repr'><svg class='icon xr-icon-database'><use xlink:href='#icon-database'></use></svg></label><div class='xr-var-attrs'><dl class='xr-attrs'></dl></div><div class='xr-var-data'><pre>array([ 0,  1,  2,  3,  4,  5,  6,  7,  8,  9, 10, 11, 12, 13, 14, 15, 16, 17,\n",
       "       18, 19, 20, 21, 22, 23, 24, 25, 26, 27, 28])</pre></div></li></ul></div></li><li class='xr-section-item'><input id='section-021255ff-b2d9-451e-90a6-86c439255f19' class='xr-section-summary-in' type='checkbox'  ><label for='section-021255ff-b2d9-451e-90a6-86c439255f19' class='xr-section-summary' >Indexes: <span>(2)</span></label><div class='xr-section-inline-details'></div><div class='xr-section-details'><ul class='xr-var-list'><li class='xr-var-item'><div class='xr-index-name'><div>chain</div></div><div class='xr-index-preview'>PandasIndex</div><div></div><input id='index-64df85e8-3b5e-46bd-a299-9ea95e2dcf4f' class='xr-index-data-in' type='checkbox'/><label for='index-64df85e8-3b5e-46bd-a299-9ea95e2dcf4f' title='Show/Hide index repr'><svg class='icon xr-icon-database'><use xlink:href='#icon-database'></use></svg></label><div class='xr-index-data'><pre>PandasIndex(Index([0, 1, 2, 3], dtype=&#x27;int64&#x27;, name=&#x27;chain&#x27;))</pre></div></li><li class='xr-var-item'><div class='xr-index-name'><div>obs_ind</div></div><div class='xr-index-preview'>PandasIndex</div><div></div><input id='index-1ca87d0a-3f17-45ef-8fce-0c42965fee00' class='xr-index-data-in' type='checkbox'/><label for='index-1ca87d0a-3f17-45ef-8fce-0c42965fee00' title='Show/Hide index repr'><svg class='icon xr-icon-database'><use xlink:href='#icon-database'></use></svg></label><div class='xr-index-data'><pre>PandasIndex(Index([ 0,  1,  2,  3,  4,  5,  6,  7,  8,  9, 10, 11, 12, 13, 14, 15, 16, 17,\n",
       "       18, 19, 20, 21, 22, 23, 24, 25, 26, 27, 28],\n",
       "      dtype=&#x27;int64&#x27;, name=&#x27;obs_ind&#x27;))</pre></div></li></ul></div></li><li class='xr-section-item'><input id='section-dce8e93d-208a-4ace-b66c-73a7074bf8de' class='xr-section-summary-in' type='checkbox' disabled ><label for='section-dce8e93d-208a-4ace-b66c-73a7074bf8de' class='xr-section-summary'  title='Expand/collapse section'>Attributes: <span>(0)</span></label><div class='xr-section-inline-details'></div><div class='xr-section-details'><dl class='xr-attrs'></dl></div></li></ul></div></div>"
      ],
      "text/plain": [
       "<xarray.DataArray 'y_hat' (chain: 4, obs_ind: 29)> Size: 928B\n",
       "array([[ 9.92200636, 10.27744351,  7.77367175,  8.39252608, 11.07932848,\n",
       "         9.77096546, 12.26386439,  9.25363693, 11.26269628, 15.02529172,\n",
       "        10.47476952, 12.30333234, 12.87146131, 12.89377713, 11.2992496 ,\n",
       "        11.30675994, 14.29615708, 15.37712778, 16.54440031, 12.77681985,\n",
       "        13.6484844 , 17.27773466, 13.65885315, 16.84266791, 16.85357022,\n",
       "        15.73429633, 14.7998207 , 15.2936383 , 18.47470773],\n",
       "       [10.10420735, 10.2356836 ,  7.67491326,  8.33395987, 11.02156426,\n",
       "         9.5874555 , 12.30831909,  9.1250934 , 11.28409859, 15.66581044,\n",
       "        10.64749242, 12.09181733, 12.84824353, 13.13838686, 11.48865368,\n",
       "        11.29958902, 14.28770731, 15.53692114, 16.91790681, 12.88184923,\n",
       "        13.81171383, 17.52172966, 13.7950007 , 16.90104112, 17.02479827,\n",
       "        15.66586891, 14.8727297 , 15.15564096, 18.70286337],\n",
       "       [10.07045232, 10.19111246,  7.65015193,  8.5056307 , 11.0501979 ,\n",
       "         9.59129228, 12.43481799,  9.06941518, 11.34533936, 15.70212075,\n",
       "        10.42733723, 12.18807336, 12.85292253, 12.83882736, 11.56163575,\n",
       "        11.45349644, 14.12399561, 15.12841686, 16.93600699, 12.60794729,\n",
       "        13.65774205, 17.57677059, 13.56589364, 16.81490002, 17.07664832,\n",
       "        15.78332924, 14.97965043, 15.22782897, 18.52741991],\n",
       "       [ 9.94378143, 10.19885217,  7.69727392,  8.40121247, 10.99319793,\n",
       "         9.4136896 , 12.47752571,  9.01946095, 11.23843028, 15.31636734,\n",
       "        10.39724468, 12.30913347, 12.8796084 , 13.1293105 , 11.47730124,\n",
       "        11.42057342, 14.25970481, 15.5106845 , 16.68228112, 12.70827717,\n",
       "        13.54542714, 17.28800343, 13.5365483 , 16.85683765, 16.85650099,\n",
       "        16.13063026, 15.04422262, 15.26428881, 18.62307415]])\n",
       "Coordinates:\n",
       "  * chain    (chain) int64 32B 0 1 2 3\n",
       "  * obs_ind  (obs_ind) int64 232B 0 1 2 3 4 5 6 7 8 ... 21 22 23 24 25 26 27 28"
      ]
     },
     "execution_count": 49,
     "metadata": {},
     "output_type": "execute_result"
    }
   ],
   "source": [
    "# Compute the mean prediction across posterior samples\n",
    "pre_pred_mean = pre_pred_samples.mean(dim=\"draw\")\n",
    "pre_pred_mean\n"
   ]
  },
  {
   "cell_type": "code",
   "execution_count": 50,
   "id": "8f85ce30",
   "metadata": {
    "execution": {
     "iopub.execute_input": "2024-11-22T00:48:02.593965Z",
     "iopub.status.busy": "2024-11-22T00:48:02.593843Z",
     "iopub.status.idle": "2024-11-22T00:48:02.607802Z",
     "shell.execute_reply": "2024-11-22T00:48:02.607533Z"
    },
    "papermill": {
     "duration": 0.022902,
     "end_time": "2024-11-22T00:48:02.608504",
     "exception": false,
     "start_time": "2024-11-22T00:48:02.585602",
     "status": "completed"
    },
    "tags": []
   },
   "outputs": [
    {
     "data": {
      "text/html": [
       "<div>\n",
       "<style scoped>\n",
       "    .dataframe tbody tr th:only-of-type {\n",
       "        vertical-align: middle;\n",
       "    }\n",
       "\n",
       "    .dataframe tbody tr th {\n",
       "        vertical-align: top;\n",
       "    }\n",
       "\n",
       "    .dataframe thead th {\n",
       "        text-align: right;\n",
       "    }\n",
       "</style>\n",
       "<table border=\"1\" class=\"dataframe\">\n",
       "  <thead>\n",
       "    <tr style=\"text-align: right;\">\n",
       "      <th></th>\n",
       "      <th>mean</th>\n",
       "      <th>sd</th>\n",
       "      <th>hdi_3%</th>\n",
       "      <th>hdi_97%</th>\n",
       "      <th>mcse_mean</th>\n",
       "      <th>mcse_sd</th>\n",
       "      <th>ess_bulk</th>\n",
       "      <th>ess_tail</th>\n",
       "      <th>r_hat</th>\n",
       "    </tr>\n",
       "  </thead>\n",
       "  <tbody>\n",
       "    <tr>\n",
       "      <th>y_hat</th>\n",
       "      <td>13.062</td>\n",
       "      <td>0.902</td>\n",
       "      <td>11.26</td>\n",
       "      <td>14.659</td>\n",
       "      <td>0.014</td>\n",
       "      <td>0.01</td>\n",
       "      <td>4038.0</td>\n",
       "      <td>3035.0</td>\n",
       "      <td>1.0</td>\n",
       "    </tr>\n",
       "  </tbody>\n",
       "</table>\n",
       "</div>"
      ],
      "text/plain": [
       "         mean     sd  hdi_3%  hdi_97%  mcse_mean  mcse_sd  ess_bulk  ess_tail  \\\n",
       "y_hat  13.062  0.902   11.26   14.659      0.014     0.01    4038.0    3035.0   \n",
       "\n",
       "       r_hat  \n",
       "y_hat    1.0  "
      ]
     },
     "execution_count": 50,
     "metadata": {},
     "output_type": "execute_result"
    }
   ],
   "source": [
    "import arviz as az\n",
    "\n",
    "az.summary(result4.post_impact.max(\"obs_ind\"))\n",
    "az.summary(result4.pre_pred.posterior_predictive[\"y_hat\"].mean(\"obs_ind\"))"
   ]
  },
  {
   "cell_type": "code",
   "execution_count": 51,
   "id": "fbba182d",
   "metadata": {
    "execution": {
     "iopub.execute_input": "2024-11-22T00:48:02.625722Z",
     "iopub.status.busy": "2024-11-22T00:48:02.625609Z",
     "iopub.status.idle": "2024-11-22T00:48:02.634171Z",
     "shell.execute_reply": "2024-11-22T00:48:02.633961Z"
    },
    "papermill": {
     "duration": 0.018168,
     "end_time": "2024-11-22T00:48:02.634885",
     "exception": false,
     "start_time": "2024-11-22T00:48:02.616717",
     "status": "completed"
    },
    "tags": []
   },
   "outputs": [
    {
     "data": {
      "text/html": [
       "<div>\n",
       "<style scoped>\n",
       "    .dataframe tbody tr th:only-of-type {\n",
       "        vertical-align: middle;\n",
       "    }\n",
       "\n",
       "    .dataframe tbody tr th {\n",
       "        vertical-align: top;\n",
       "    }\n",
       "\n",
       "    .dataframe thead th {\n",
       "        text-align: right;\n",
       "    }\n",
       "</style>\n",
       "<table border=\"1\" class=\"dataframe\">\n",
       "  <thead>\n",
       "    <tr style=\"text-align: right;\">\n",
       "      <th></th>\n",
       "      <th>mean</th>\n",
       "      <th>sd</th>\n",
       "      <th>hdi_3%</th>\n",
       "      <th>hdi_97%</th>\n",
       "      <th>mcse_mean</th>\n",
       "      <th>mcse_sd</th>\n",
       "      <th>ess_bulk</th>\n",
       "      <th>ess_tail</th>\n",
       "      <th>r_hat</th>\n",
       "    </tr>\n",
       "  </thead>\n",
       "  <tbody>\n",
       "    <tr>\n",
       "      <th>x</th>\n",
       "      <td>3.281</td>\n",
       "      <td>4.254</td>\n",
       "      <td>-4.657</td>\n",
       "      <td>11.232</td>\n",
       "      <td>0.068</td>\n",
       "      <td>0.048</td>\n",
       "      <td>3988.0</td>\n",
       "      <td>3552.0</td>\n",
       "      <td>1.0</td>\n",
       "    </tr>\n",
       "  </tbody>\n",
       "</table>\n",
       "</div>"
      ],
      "text/plain": [
       "    mean     sd  hdi_3%  hdi_97%  mcse_mean  mcse_sd  ess_bulk  ess_tail  \\\n",
       "x  3.281  4.254  -4.657   11.232      0.068    0.048    3988.0    3552.0   \n",
       "\n",
       "   r_hat  \n",
       "x    1.0  "
      ]
     },
     "execution_count": 51,
     "metadata": {},
     "output_type": "execute_result"
    }
   ],
   "source": [
    "az.summary(result4.post_impact.max(\"obs_ind\"))"
   ]
  },
  {
   "cell_type": "code",
   "execution_count": 52,
   "id": "291a9020",
   "metadata": {
    "execution": {
     "iopub.execute_input": "2024-11-22T00:48:02.652380Z",
     "iopub.status.busy": "2024-11-22T00:48:02.652262Z",
     "iopub.status.idle": "2024-11-22T00:48:02.661291Z",
     "shell.execute_reply": "2024-11-22T00:48:02.661065Z"
    },
    "papermill": {
     "duration": 0.018198,
     "end_time": "2024-11-22T00:48:02.661938",
     "exception": false,
     "start_time": "2024-11-22T00:48:02.643740",
     "status": "completed"
    },
    "tags": []
   },
   "outputs": [
    {
     "data": {
      "text/html": [
       "<div>\n",
       "<style scoped>\n",
       "    .dataframe tbody tr th:only-of-type {\n",
       "        vertical-align: middle;\n",
       "    }\n",
       "\n",
       "    .dataframe tbody tr th {\n",
       "        vertical-align: top;\n",
       "    }\n",
       "\n",
       "    .dataframe thead th {\n",
       "        text-align: right;\n",
       "    }\n",
       "</style>\n",
       "<table border=\"1\" class=\"dataframe\">\n",
       "  <thead>\n",
       "    <tr style=\"text-align: right;\">\n",
       "      <th></th>\n",
       "      <th>mean</th>\n",
       "      <th>sd</th>\n",
       "      <th>hdi_5%</th>\n",
       "      <th>hdi_95%</th>\n",
       "      <th>mcse_mean</th>\n",
       "      <th>mcse_sd</th>\n",
       "      <th>ess_bulk</th>\n",
       "      <th>ess_tail</th>\n",
       "      <th>r_hat</th>\n",
       "    </tr>\n",
       "  </thead>\n",
       "  <tbody>\n",
       "    <tr>\n",
       "      <th>x</th>\n",
       "      <td>-3.058</td>\n",
       "      <td>6.806</td>\n",
       "      <td>-14.128</td>\n",
       "      <td>7.974</td>\n",
       "      <td>0.111</td>\n",
       "      <td>0.081</td>\n",
       "      <td>3778.0</td>\n",
       "      <td>3385.0</td>\n",
       "      <td>1.0</td>\n",
       "    </tr>\n",
       "  </tbody>\n",
       "</table>\n",
       "</div>"
      ],
      "text/plain": [
       "    mean     sd  hdi_5%  hdi_95%  mcse_mean  mcse_sd  ess_bulk  ess_tail  \\\n",
       "x -3.058  6.806 -14.128    7.974      0.111    0.081    3778.0    3385.0   \n",
       "\n",
       "   r_hat  \n",
       "x    1.0  "
      ]
     },
     "execution_count": 52,
     "metadata": {},
     "output_type": "execute_result"
    }
   ],
   "source": [
    "# get index of the final time point\n",
    "index_4 = result4.post_impact_cumulative.obs_ind.max()\n",
    "# grab the posterior distribution of the cumulative impact at this final time point\n",
    "last_cumulative_estimate_4 = result4.post_impact_cumulative.sel({\"obs_ind\": index_4})\n",
    "# get summary stats\n",
    "az.summary(last_cumulative_estimate_4, hdi_prob=0.9)"
   ]
  },
  {
   "cell_type": "code",
   "execution_count": 53,
   "id": "ee6cb30a",
   "metadata": {
    "execution": {
     "iopub.execute_input": "2024-11-22T00:48:02.679532Z",
     "iopub.status.busy": "2024-11-22T00:48:02.679412Z",
     "iopub.status.idle": "2024-11-22T00:48:02.681990Z",
     "shell.execute_reply": "2024-11-22T00:48:02.681618Z"
    },
    "papermill": {
     "duration": 0.012169,
     "end_time": "2024-11-22T00:48:02.682670",
     "exception": false,
     "start_time": "2024-11-22T00:48:02.670501",
     "status": "completed"
    },
    "tags": []
   },
   "outputs": [
    {
     "name": "stdout",
     "output_type": "stream",
     "text": [
      "p-value: 0.0123\n"
     ]
    }
   ],
   "source": [
    "from scipy.stats import norm\n",
    "\n",
    "# Inputs\n",
    "estimate = 56.046\n",
    "lower_ci = 19.697\n",
    "upper_ci = 93.348\n",
    "z_critical = 1.645  # For a 90% confidence interval\n",
    "\n",
    "# Calculate standard error\n",
    "se = (upper_ci - lower_ci) / (2 * z_critical)\n",
    "\n",
    "# Calculate z-score\n",
    "z_score = estimate / se\n",
    "\n",
    "# Calculate p-value\n",
    "p_value = 2 * norm.sf(abs(z_score))\n",
    "print(f\"p-value: {p_value:.4f}\")"
   ]
  },
  {
   "cell_type": "code",
   "execution_count": 54,
   "id": "bc3bf9bb",
   "metadata": {
    "execution": {
     "iopub.execute_input": "2024-11-22T00:48:02.700638Z",
     "iopub.status.busy": "2024-11-22T00:48:02.700517Z",
     "iopub.status.idle": "2024-11-22T00:48:02.702044Z",
     "shell.execute_reply": "2024-11-22T00:48:02.701833Z"
    },
    "papermill": {
     "duration": 0.011716,
     "end_time": "2024-11-22T00:48:02.702620",
     "exception": false,
     "start_time": "2024-11-22T00:48:02.690904",
     "status": "completed"
    },
    "tags": []
   },
   "outputs": [],
   "source": [
    "# # get index of the final time point\n",
    "# index_4 = result4.post_impact_cumulative.obs_ind.max()\n",
    "# # grab the posterior distribution of the cumulative impact at this final time point\n",
    "# last_cumulative_estimate_4 = result4.post_impact_cumulative.sel({\"obs_ind\": index_4})\n",
    "# # get summary stats\n",
    "# az.summary(last_cumulative_estimate_4, hdi_prob=0.9)"
   ]
  },
  {
   "cell_type": "code",
   "execution_count": 55,
   "id": "8eb2f6fc",
   "metadata": {
    "execution": {
     "iopub.execute_input": "2024-11-22T00:48:02.720072Z",
     "iopub.status.busy": "2024-11-22T00:48:02.719963Z",
     "iopub.status.idle": "2024-11-22T00:48:02.723891Z",
     "shell.execute_reply": "2024-11-22T00:48:02.723652Z"
    },
    "papermill": {
     "duration": 0.013291,
     "end_time": "2024-11-22T00:48:02.724503",
     "exception": false,
     "start_time": "2024-11-22T00:48:02.711212",
     "status": "completed"
    },
    "tags": []
   },
   "outputs": [
    {
     "data": {
      "text/html": [
       "<div>\n",
       "<style scoped>\n",
       "    .dataframe tbody tr th:only-of-type {\n",
       "        vertical-align: middle;\n",
       "    }\n",
       "\n",
       "    .dataframe tbody tr th {\n",
       "        vertical-align: top;\n",
       "    }\n",
       "\n",
       "    .dataframe thead th {\n",
       "        text-align: right;\n",
       "    }\n",
       "</style>\n",
       "<table border=\"1\" class=\"dataframe\">\n",
       "  <thead>\n",
       "    <tr style=\"text-align: right;\">\n",
       "      <th></th>\n",
       "      <th>year_month</th>\n",
       "      <th>io_count</th>\n",
       "      <th>intervention</th>\n",
       "      <th>t</th>\n",
       "      <th>month</th>\n",
       "      <th>direct_search_sum</th>\n",
       "      <th>SPEND</th>\n",
       "      <th>IMPRESSIONS</th>\n",
       "      <th>CLICKS</th>\n",
       "    </tr>\n",
       "  </thead>\n",
       "  <tbody>\n",
       "    <tr>\n",
       "      <th>27</th>\n",
       "      <td>2024-06-01</td>\n",
       "      <td>11</td>\n",
       "      <td>False</td>\n",
       "      <td>36</td>\n",
       "      <td>6</td>\n",
       "      <td>11663</td>\n",
       "      <td>2187.32</td>\n",
       "      <td>703</td>\n",
       "      <td>234</td>\n",
       "    </tr>\n",
       "    <tr>\n",
       "      <th>28</th>\n",
       "      <td>2024-07-01</td>\n",
       "      <td>18</td>\n",
       "      <td>False</td>\n",
       "      <td>37</td>\n",
       "      <td>7</td>\n",
       "      <td>12294</td>\n",
       "      <td>1855.29</td>\n",
       "      <td>646</td>\n",
       "      <td>236</td>\n",
       "    </tr>\n",
       "    <tr>\n",
       "      <th>29</th>\n",
       "      <td>2024-08-01</td>\n",
       "      <td>20</td>\n",
       "      <td>False</td>\n",
       "      <td>38</td>\n",
       "      <td>8</td>\n",
       "      <td>13847</td>\n",
       "      <td>2297.06</td>\n",
       "      <td>661</td>\n",
       "      <td>251</td>\n",
       "    </tr>\n",
       "    <tr>\n",
       "      <th>30</th>\n",
       "      <td>2024-09-01</td>\n",
       "      <td>21</td>\n",
       "      <td>True</td>\n",
       "      <td>39</td>\n",
       "      <td>9</td>\n",
       "      <td>16096</td>\n",
       "      <td>2863.06</td>\n",
       "      <td>821</td>\n",
       "      <td>347</td>\n",
       "    </tr>\n",
       "    <tr>\n",
       "      <th>31</th>\n",
       "      <td>2024-10-01</td>\n",
       "      <td>13</td>\n",
       "      <td>True</td>\n",
       "      <td>40</td>\n",
       "      <td>10</td>\n",
       "      <td>15602</td>\n",
       "      <td>3602.98</td>\n",
       "      <td>765</td>\n",
       "      <td>326</td>\n",
       "    </tr>\n",
       "  </tbody>\n",
       "</table>\n",
       "</div>"
      ],
      "text/plain": [
       "   year_month  io_count  intervention   t  month  direct_search_sum    SPEND  \\\n",
       "27 2024-06-01        11         False  36      6              11663  2187.32   \n",
       "28 2024-07-01        18         False  37      7              12294  1855.29   \n",
       "29 2024-08-01        20         False  38      8              13847  2297.06   \n",
       "30 2024-09-01        21          True  39      9              16096  2863.06   \n",
       "31 2024-10-01        13          True  40     10              15602  3602.98   \n",
       "\n",
       "    IMPRESSIONS  CLICKS  \n",
       "27          703     234  \n",
       "28          646     236  \n",
       "29          661     251  \n",
       "30          821     347  \n",
       "31          765     326  "
      ]
     },
     "execution_count": 55,
     "metadata": {},
     "output_type": "execute_result"
    }
   ],
   "source": [
    "df_series.tail()"
   ]
  },
  {
   "cell_type": "code",
   "execution_count": 56,
   "id": "0b59dda2",
   "metadata": {
    "execution": {
     "iopub.execute_input": "2024-11-22T00:48:02.742112Z",
     "iopub.status.busy": "2024-11-22T00:48:02.742012Z",
     "iopub.status.idle": "2024-11-22T00:48:02.745762Z",
     "shell.execute_reply": "2024-11-22T00:48:02.745535Z"
    },
    "papermill": {
     "duration": 0.013269,
     "end_time": "2024-11-22T00:48:02.746388",
     "exception": false,
     "start_time": "2024-11-22T00:48:02.733119",
     "status": "completed"
    },
    "tags": []
   },
   "outputs": [
    {
     "data": {
      "text/html": [
       "<div>\n",
       "<style scoped>\n",
       "    .dataframe tbody tr th:only-of-type {\n",
       "        vertical-align: middle;\n",
       "    }\n",
       "\n",
       "    .dataframe tbody tr th {\n",
       "        vertical-align: top;\n",
       "    }\n",
       "\n",
       "    .dataframe thead th {\n",
       "        text-align: right;\n",
       "    }\n",
       "</style>\n",
       "<table border=\"1\" class=\"dataframe\">\n",
       "  <thead>\n",
       "    <tr style=\"text-align: right;\">\n",
       "      <th></th>\n",
       "      <th>year_month</th>\n",
       "      <th>io_count</th>\n",
       "      <th>treatment_region</th>\n",
       "      <th>Index_Number</th>\n",
       "    </tr>\n",
       "  </thead>\n",
       "  <tbody>\n",
       "    <tr>\n",
       "      <th>0</th>\n",
       "      <td>2024-09-01</td>\n",
       "      <td>21</td>\n",
       "      <td>Austin</td>\n",
       "      <td>0</td>\n",
       "    </tr>\n",
       "    <tr>\n",
       "      <th>1</th>\n",
       "      <td>2024-10-01</td>\n",
       "      <td>13</td>\n",
       "      <td>Austin</td>\n",
       "      <td>1</td>\n",
       "    </tr>\n",
       "  </tbody>\n",
       "</table>\n",
       "</div>"
      ],
      "text/plain": [
       "  year_month  io_count treatment_region  Index_Number\n",
       "0 2024-09-01        21           Austin             0\n",
       "1 2024-10-01        13           Austin             1"
      ]
     },
     "execution_count": 56,
     "metadata": {},
     "output_type": "execute_result"
    }
   ],
   "source": [
    "#number of intervention periods\n",
    "int_periods = df_series['intervention'].sum()\n",
    "\n",
    "#rows with intervention\n",
    "intervention_df = df_series.tail(int_periods)\n",
    "\n",
    "int_dates = intervention_df[['year_month', 'io_count']].reset_index(drop=True)\n",
    "int_dates['treatment_region'] = MSA_MARKET\n",
    "# Add a column with the index number\n",
    "int_dates['Index_Number'] = int_dates.index\n",
    "\n",
    "int_dates.head()"
   ]
  },
  {
   "cell_type": "code",
   "execution_count": 57,
   "id": "05def4d2",
   "metadata": {
    "execution": {
     "iopub.execute_input": "2024-11-22T00:48:02.764055Z",
     "iopub.status.busy": "2024-11-22T00:48:02.763933Z",
     "iopub.status.idle": "2024-11-22T00:48:02.766399Z",
     "shell.execute_reply": "2024-11-22T00:48:02.766139Z"
    },
    "papermill": {
     "duration": 0.012264,
     "end_time": "2024-11-22T00:48:02.767081",
     "exception": false,
     "start_time": "2024-11-22T00:48:02.754817",
     "status": "completed"
    },
    "tags": []
   },
   "outputs": [
    {
     "name": "stderr",
     "output_type": "stream",
     "text": [
      "/var/folders/sb/n8yqrs6n7y9ghs7jf_2n7h280000gp/T/ipykernel_4874/3285902388.py:1: FutureWarning: Series.__getitem__ treating keys as positions is deprecated. In a future version, integer keys will always be treated as labels (consistent with DataFrame behavior). To access a value by position, use `ser.iloc[pos]`\n",
      "  int_dates.iloc[0][0]\n"
     ]
    },
    {
     "data": {
      "text/plain": [
       "Timestamp('2024-09-01 00:00:00')"
      ]
     },
     "execution_count": 57,
     "metadata": {},
     "output_type": "execute_result"
    }
   ],
   "source": [
    "int_dates.iloc[0][0]"
   ]
  },
  {
   "cell_type": "code",
   "execution_count": 58,
   "id": "d7178421",
   "metadata": {
    "execution": {
     "iopub.execute_input": "2024-11-22T00:48:02.784079Z",
     "iopub.status.busy": "2024-11-22T00:48:02.783973Z",
     "iopub.status.idle": "2024-11-22T00:48:02.799345Z",
     "shell.execute_reply": "2024-11-22T00:48:02.799065Z"
    },
    "papermill": {
     "duration": 0.024371,
     "end_time": "2024-11-22T00:48:02.800082",
     "exception": false,
     "start_time": "2024-11-22T00:48:02.775711",
     "status": "completed"
    },
    "tags": []
   },
   "outputs": [
    {
     "data": {
      "text/html": [
       "<div>\n",
       "<style scoped>\n",
       "    .dataframe tbody tr th:only-of-type {\n",
       "        vertical-align: middle;\n",
       "    }\n",
       "\n",
       "    .dataframe tbody tr th {\n",
       "        vertical-align: top;\n",
       "    }\n",
       "\n",
       "    .dataframe thead th {\n",
       "        text-align: right;\n",
       "    }\n",
       "</style>\n",
       "<table border=\"1\" class=\"dataframe\">\n",
       "  <thead>\n",
       "    <tr style=\"text-align: right;\">\n",
       "      <th></th>\n",
       "      <th>Index_Number</th>\n",
       "      <th>year_month</th>\n",
       "      <th>treatment_region</th>\n",
       "      <th>io_count</th>\n",
       "      <th>counter_io_count</th>\n",
       "      <th>bayes_uplift</th>\n",
       "      <th>sd</th>\n",
       "      <th>perc_lift</th>\n",
       "      <th>bayes_Stat_Sig</th>\n",
       "      <th>hdi_5%</th>\n",
       "      <th>hdi_95%</th>\n",
       "      <th>mcse_mean</th>\n",
       "      <th>mcse_sd</th>\n",
       "    </tr>\n",
       "  </thead>\n",
       "  <tbody>\n",
       "    <tr>\n",
       "      <th>0</th>\n",
       "      <td>0</td>\n",
       "      <td>2024-09-01</td>\n",
       "      <td>Austin</td>\n",
       "      <td>21</td>\n",
       "      <td>17.861</td>\n",
       "      <td>3.139</td>\n",
       "      <td>4.384</td>\n",
       "      <td>0.1757</td>\n",
       "      <td>False</td>\n",
       "      <td>-4.320</td>\n",
       "      <td>9.930</td>\n",
       "      <td>0.070</td>\n",
       "      <td>0.050</td>\n",
       "    </tr>\n",
       "    <tr>\n",
       "      <th>1</th>\n",
       "      <td>1</td>\n",
       "      <td>2024-10-01</td>\n",
       "      <td>Austin</td>\n",
       "      <td>13</td>\n",
       "      <td>19.197</td>\n",
       "      <td>-6.197</td>\n",
       "      <td>4.635</td>\n",
       "      <td>-0.3228</td>\n",
       "      <td>False</td>\n",
       "      <td>-13.538</td>\n",
       "      <td>1.588</td>\n",
       "      <td>0.075</td>\n",
       "      <td>0.053</td>\n",
       "    </tr>\n",
       "  </tbody>\n",
       "</table>\n",
       "</div>"
      ],
      "text/plain": [
       "   Index_Number year_month treatment_region  io_count  counter_io_count  \\\n",
       "0             0 2024-09-01           Austin        21            17.861   \n",
       "1             1 2024-10-01           Austin        13            19.197   \n",
       "\n",
       "   bayes_uplift     sd  perc_lift  bayes_Stat_Sig  hdi_5%  hdi_95%  mcse_mean  \\\n",
       "0         3.139  4.384     0.1757           False  -4.320    9.930      0.070   \n",
       "1        -6.197  4.635    -0.3228           False -13.538    1.588      0.075   \n",
       "\n",
       "   mcse_sd  \n",
       "0    0.050  \n",
       "1    0.053  "
      ]
     },
     "execution_count": 58,
     "metadata": {},
     "output_type": "execute_result"
    }
   ],
   "source": [
    "for i in range(int_periods):\n",
    "    if i ==0:\n",
    "        az_df = pd.DataFrame(az.summary(result4.post_impact.sel({\"obs_ind\": i}), hdi_prob=0.9))\n",
    "    else:\n",
    "\n",
    "        # Concatenate the row to the DataFrame\n",
    "        #df = pd.concat([df, new_row], ignore_index=True)\n",
    "        new_row = pd.DataFrame(az.summary(result4.post_impact.sel({\"obs_ind\": i}), hdi_prob = 0.9))\n",
    "        az_df = pd.concat([az_df, new_row], ignore_index=True)\n",
    "        #az_df.concat(pd.DataFrame(az.summary(result4.post_impact.sel({\"obs_ind\": i}))))\n",
    "\n",
    "az_df['Index_Number'] = az_df.index\n",
    "az_df['bayes_Stat_Sig'] = (~((az_df['hdi_5%'] < 0 )| (az_df['hdi_95%'] < 0)))\n",
    "az_df.head()\n",
    "\n",
    "az_join = pd.merge(int_dates, az_df, on = 'Index_Number', how = 'inner')\n",
    "az_join['counter_io_count'] = az_join['io_count'] - az_join['mean']\n",
    "az_join['perc_lift'] = round((az_join['io_count'] - az_join['counter_io_count'])/az_join['counter_io_count'], 4)\n",
    "\n",
    "az_final = az_join[['Index_Number', 'year_month', 'treatment_region', 'io_count', \\\n",
    "    'counter_io_count', 'mean', 'sd','perc_lift', 'bayes_Stat_Sig', 'hdi_5%', 'hdi_95%','mcse_mean', 'mcse_sd' ]]\n",
    "\n",
    "az_final =az_final.rename(columns = {'mean': 'bayes_uplift'})\n",
    "az_final.head()\n"
   ]
  },
  {
   "cell_type": "code",
   "execution_count": 59,
   "id": "c428046b",
   "metadata": {
    "execution": {
     "iopub.execute_input": "2024-11-22T00:48:02.817904Z",
     "iopub.status.busy": "2024-11-22T00:48:02.817779Z",
     "iopub.status.idle": "2024-11-22T00:48:02.820664Z",
     "shell.execute_reply": "2024-11-22T00:48:02.820478Z"
    },
    "papermill": {
     "duration": 0.012456,
     "end_time": "2024-11-22T00:48:02.821309",
     "exception": false,
     "start_time": "2024-11-22T00:48:02.808853",
     "status": "completed"
    },
    "tags": []
   },
   "outputs": [],
   "source": [
    "# Save with the index column\n",
    "az_final.to_csv(f\"{MSA_MARKET}_monthly_uplift.csv\", index=True)"
   ]
  },
  {
   "cell_type": "code",
   "execution_count": 60,
   "id": "19d0e076",
   "metadata": {
    "execution": {
     "iopub.execute_input": "2024-11-22T00:48:02.838139Z",
     "iopub.status.busy": "2024-11-22T00:48:02.838015Z",
     "iopub.status.idle": "2024-11-22T00:48:02.848709Z",
     "shell.execute_reply": "2024-11-22T00:48:02.848393Z"
    },
    "papermill": {
     "duration": 0.020393,
     "end_time": "2024-11-22T00:48:02.849650",
     "exception": false,
     "start_time": "2024-11-22T00:48:02.829257",
     "status": "completed"
    },
    "tags": []
   },
   "outputs": [],
   "source": [
    "# get index of the final time point\n",
    "index_4 = result4.post_impact_cumulative.obs_ind.max()\n",
    "# grab the posterior distribution of the cumulative impact at this final time point\n",
    "last_cumulative_estimate_4 = result4.post_impact_cumulative.sel({\"obs_ind\": index_4})\n",
    "# get summary stats\n",
    "az.summary(last_cumulative_estimate_4, hdi_prob=0.9)\n",
    "\n",
    "az_cumulative = az.summary(last_cumulative_estimate_4, hdi_prob=0.9)"
   ]
  },
  {
   "cell_type": "code",
   "execution_count": 61,
   "id": "09be24fa",
   "metadata": {
    "execution": {
     "iopub.execute_input": "2024-11-22T00:48:02.866060Z",
     "iopub.status.busy": "2024-11-22T00:48:02.865941Z",
     "iopub.status.idle": "2024-11-22T00:48:02.868807Z",
     "shell.execute_reply": "2024-11-22T00:48:02.868594Z"
    },
    "papermill": {
     "duration": 0.011875,
     "end_time": "2024-11-22T00:48:02.869377",
     "exception": false,
     "start_time": "2024-11-22T00:48:02.857502",
     "status": "completed"
    },
    "tags": []
   },
   "outputs": [
    {
     "data": {
      "text/html": [
       "<div>\n",
       "<style scoped>\n",
       "    .dataframe tbody tr th:only-of-type {\n",
       "        vertical-align: middle;\n",
       "    }\n",
       "\n",
       "    .dataframe tbody tr th {\n",
       "        vertical-align: top;\n",
       "    }\n",
       "\n",
       "    .dataframe thead th {\n",
       "        text-align: right;\n",
       "    }\n",
       "</style>\n",
       "<table border=\"1\" class=\"dataframe\">\n",
       "  <thead>\n",
       "    <tr style=\"text-align: right;\">\n",
       "      <th></th>\n",
       "      <th>year_month</th>\n",
       "      <th>io_count</th>\n",
       "      <th>treatment_region</th>\n",
       "      <th>Index_Number</th>\n",
       "    </tr>\n",
       "  </thead>\n",
       "  <tbody>\n",
       "    <tr>\n",
       "      <th>0</th>\n",
       "      <td>2024-09-01</td>\n",
       "      <td>21</td>\n",
       "      <td>Austin</td>\n",
       "      <td>0</td>\n",
       "    </tr>\n",
       "    <tr>\n",
       "      <th>1</th>\n",
       "      <td>2024-10-01</td>\n",
       "      <td>13</td>\n",
       "      <td>Austin</td>\n",
       "      <td>1</td>\n",
       "    </tr>\n",
       "  </tbody>\n",
       "</table>\n",
       "</div>"
      ],
      "text/plain": [
       "  year_month  io_count treatment_region  Index_Number\n",
       "0 2024-09-01        21           Austin             0\n",
       "1 2024-10-01        13           Austin             1"
      ]
     },
     "execution_count": 61,
     "metadata": {},
     "output_type": "execute_result"
    }
   ],
   "source": [
    "int_dates"
   ]
  },
  {
   "cell_type": "code",
   "execution_count": 62,
   "id": "31f67be6",
   "metadata": {
    "execution": {
     "iopub.execute_input": "2024-11-22T00:48:02.886451Z",
     "iopub.status.busy": "2024-11-22T00:48:02.886171Z",
     "iopub.status.idle": "2024-11-22T00:48:02.890775Z",
     "shell.execute_reply": "2024-11-22T00:48:02.890567Z"
    },
    "papermill": {
     "duration": 0.01365,
     "end_time": "2024-11-22T00:48:02.891385",
     "exception": false,
     "start_time": "2024-11-22T00:48:02.877735",
     "status": "completed"
    },
    "tags": []
   },
   "outputs": [],
   "source": [
    "result = int_dates.agg(\n",
    "    treatment_start = (\"year_month\", \"min\"),\n",
    "    treatment_end = (\"year_month\", \"max\"),\n",
    "    io_sum = (\"io_count\", \"sum\")\n",
    ").reset_index()"
   ]
  },
  {
   "cell_type": "code",
   "execution_count": 63,
   "id": "4c237c8c",
   "metadata": {
    "execution": {
     "iopub.execute_input": "2024-11-22T00:48:02.909278Z",
     "iopub.status.busy": "2024-11-22T00:48:02.909064Z",
     "iopub.status.idle": "2024-11-22T00:48:02.912328Z",
     "shell.execute_reply": "2024-11-22T00:48:02.912076Z"
    },
    "papermill": {
     "duration": 0.013317,
     "end_time": "2024-11-22T00:48:02.912968",
     "exception": false,
     "start_time": "2024-11-22T00:48:02.899651",
     "status": "completed"
    },
    "tags": []
   },
   "outputs": [
    {
     "data": {
      "text/html": [
       "<div>\n",
       "<style scoped>\n",
       "    .dataframe tbody tr th:only-of-type {\n",
       "        vertical-align: middle;\n",
       "    }\n",
       "\n",
       "    .dataframe tbody tr th {\n",
       "        vertical-align: top;\n",
       "    }\n",
       "\n",
       "    .dataframe thead th {\n",
       "        text-align: right;\n",
       "    }\n",
       "</style>\n",
       "<table border=\"1\" class=\"dataframe\">\n",
       "  <thead>\n",
       "    <tr style=\"text-align: right;\">\n",
       "      <th></th>\n",
       "      <th>index</th>\n",
       "      <th>year_month</th>\n",
       "      <th>io_count</th>\n",
       "    </tr>\n",
       "  </thead>\n",
       "  <tbody>\n",
       "    <tr>\n",
       "      <th>0</th>\n",
       "      <td>treatment_start</td>\n",
       "      <td>2024-09-01</td>\n",
       "      <td>NaN</td>\n",
       "    </tr>\n",
       "    <tr>\n",
       "      <th>1</th>\n",
       "      <td>treatment_end</td>\n",
       "      <td>2024-10-01</td>\n",
       "      <td>NaN</td>\n",
       "    </tr>\n",
       "    <tr>\n",
       "      <th>2</th>\n",
       "      <td>io_sum</td>\n",
       "      <td>NaT</td>\n",
       "      <td>34.0</td>\n",
       "    </tr>\n",
       "  </tbody>\n",
       "</table>\n",
       "</div>"
      ],
      "text/plain": [
       "             index year_month  io_count\n",
       "0  treatment_start 2024-09-01       NaN\n",
       "1    treatment_end 2024-10-01       NaN\n",
       "2           io_sum        NaT      34.0"
      ]
     },
     "execution_count": 63,
     "metadata": {},
     "output_type": "execute_result"
    }
   ],
   "source": [
    "result"
   ]
  },
  {
   "cell_type": "code",
   "execution_count": 64,
   "id": "9e6ad5f4",
   "metadata": {
    "execution": {
     "iopub.execute_input": "2024-11-22T00:48:02.930409Z",
     "iopub.status.busy": "2024-11-22T00:48:02.930260Z",
     "iopub.status.idle": "2024-11-22T00:48:02.932370Z",
     "shell.execute_reply": "2024-11-22T00:48:02.932172Z"
    },
    "papermill": {
     "duration": 0.011406,
     "end_time": "2024-11-22T00:48:02.932998",
     "exception": false,
     "start_time": "2024-11-22T00:48:02.921592",
     "status": "completed"
    },
    "tags": []
   },
   "outputs": [
    {
     "data": {
      "text/plain": [
       "34"
      ]
     },
     "execution_count": 64,
     "metadata": {},
     "output_type": "execute_result"
    }
   ],
   "source": [
    "int_dates['io_count'].sum()"
   ]
  },
  {
   "cell_type": "code",
   "execution_count": 65,
   "id": "5888583f",
   "metadata": {
    "execution": {
     "iopub.execute_input": "2024-11-22T00:48:02.950279Z",
     "iopub.status.busy": "2024-11-22T00:48:02.950142Z",
     "iopub.status.idle": "2024-11-22T00:48:02.954103Z",
     "shell.execute_reply": "2024-11-22T00:48:02.953830Z"
    },
    "papermill": {
     "duration": 0.013356,
     "end_time": "2024-11-22T00:48:02.954885",
     "exception": false,
     "start_time": "2024-11-22T00:48:02.941529",
     "status": "completed"
    },
    "tags": []
   },
   "outputs": [
    {
     "data": {
      "text/html": [
       "<div>\n",
       "<style scoped>\n",
       "    .dataframe tbody tr th:only-of-type {\n",
       "        vertical-align: middle;\n",
       "    }\n",
       "\n",
       "    .dataframe tbody tr th {\n",
       "        vertical-align: top;\n",
       "    }\n",
       "\n",
       "    .dataframe thead th {\n",
       "        text-align: right;\n",
       "    }\n",
       "</style>\n",
       "<table border=\"1\" class=\"dataframe\">\n",
       "  <thead>\n",
       "    <tr style=\"text-align: right;\">\n",
       "      <th></th>\n",
       "      <th>mean</th>\n",
       "      <th>sd</th>\n",
       "      <th>hdi_5%</th>\n",
       "      <th>hdi_95%</th>\n",
       "      <th>mcse_mean</th>\n",
       "      <th>mcse_sd</th>\n",
       "      <th>ess_bulk</th>\n",
       "      <th>ess_tail</th>\n",
       "      <th>r_hat</th>\n",
       "    </tr>\n",
       "  </thead>\n",
       "  <tbody>\n",
       "    <tr>\n",
       "      <th>x</th>\n",
       "      <td>-3.058</td>\n",
       "      <td>6.806</td>\n",
       "      <td>-14.128</td>\n",
       "      <td>7.974</td>\n",
       "      <td>0.111</td>\n",
       "      <td>0.081</td>\n",
       "      <td>3778.0</td>\n",
       "      <td>3385.0</td>\n",
       "      <td>1.0</td>\n",
       "    </tr>\n",
       "  </tbody>\n",
       "</table>\n",
       "</div>"
      ],
      "text/plain": [
       "    mean     sd  hdi_5%  hdi_95%  mcse_mean  mcse_sd  ess_bulk  ess_tail  \\\n",
       "x -3.058  6.806 -14.128    7.974      0.111    0.081    3778.0    3385.0   \n",
       "\n",
       "   r_hat  \n",
       "x    1.0  "
      ]
     },
     "execution_count": 65,
     "metadata": {},
     "output_type": "execute_result"
    }
   ],
   "source": [
    "az_cumulative.head()"
   ]
  },
  {
   "cell_type": "code",
   "execution_count": 66,
   "id": "cae6e120",
   "metadata": {
    "execution": {
     "iopub.execute_input": "2024-11-22T00:48:02.972319Z",
     "iopub.status.busy": "2024-11-22T00:48:02.972199Z",
     "iopub.status.idle": "2024-11-22T00:48:02.979340Z",
     "shell.execute_reply": "2024-11-22T00:48:02.979102Z"
    },
    "papermill": {
     "duration": 0.016637,
     "end_time": "2024-11-22T00:48:02.979964",
     "exception": false,
     "start_time": "2024-11-22T00:48:02.963327",
     "status": "completed"
    },
    "tags": []
   },
   "outputs": [
    {
     "data": {
      "text/html": [
       "<div>\n",
       "<style scoped>\n",
       "    .dataframe tbody tr th:only-of-type {\n",
       "        vertical-align: middle;\n",
       "    }\n",
       "\n",
       "    .dataframe tbody tr th {\n",
       "        vertical-align: top;\n",
       "    }\n",
       "\n",
       "    .dataframe thead th {\n",
       "        text-align: right;\n",
       "    }\n",
       "</style>\n",
       "<table border=\"1\" class=\"dataframe\">\n",
       "  <thead>\n",
       "    <tr style=\"text-align: right;\">\n",
       "      <th></th>\n",
       "      <th>treatment_region</th>\n",
       "      <th>treatment_start</th>\n",
       "      <th>treatment_end</th>\n",
       "      <th>io_sum</th>\n",
       "      <th>counter_io_sum</th>\n",
       "      <th>bayes_uplift</th>\n",
       "      <th>sd</th>\n",
       "      <th>perc_lift</th>\n",
       "      <th>bayes_Stat_Sig</th>\n",
       "      <th>hdi_5%</th>\n",
       "      <th>hdi_95%</th>\n",
       "      <th>mcse_mean</th>\n",
       "      <th>mcse_sd</th>\n",
       "    </tr>\n",
       "  </thead>\n",
       "  <tbody>\n",
       "    <tr>\n",
       "      <th>x</th>\n",
       "      <td>Austin</td>\n",
       "      <td>2024-09-01</td>\n",
       "      <td>2024-10-01</td>\n",
       "      <td>34</td>\n",
       "      <td>37.058</td>\n",
       "      <td>-3.058</td>\n",
       "      <td>6.806</td>\n",
       "      <td>-0.0825</td>\n",
       "      <td>False</td>\n",
       "      <td>-14.128</td>\n",
       "      <td>7.974</td>\n",
       "      <td>0.111</td>\n",
       "      <td>0.081</td>\n",
       "    </tr>\n",
       "  </tbody>\n",
       "</table>\n",
       "</div>"
      ],
      "text/plain": [
       "  treatment_region treatment_start treatment_end  io_sum  counter_io_sum  \\\n",
       "x           Austin      2024-09-01    2024-10-01      34          37.058   \n",
       "\n",
       "   bayes_uplift     sd  perc_lift  bayes_Stat_Sig  hdi_5%  hdi_95%  mcse_mean  \\\n",
       "x        -3.058  6.806    -0.0825           False -14.128    7.974      0.111   \n",
       "\n",
       "   mcse_sd  \n",
       "x    0.081  "
      ]
     },
     "execution_count": 66,
     "metadata": {},
     "output_type": "execute_result"
    }
   ],
   "source": [
    "#adjust the cumulative table\n",
    "\n",
    "#az_cumulative['Index_Number'] = az_df.index\n",
    "az_cumulative['bayes_Stat_Sig'] = (~((az_cumulative['hdi_5%'] < 0 )| (az_cumulative['hdi_95%'] < 0)))\n",
    "#az_cumulative.head()\n",
    "az_cumulative['io_sum'] = int_dates['io_count'].sum()\n",
    "az_cumulative['counter_io_sum'] = az_final['counter_io_count'].sum()\n",
    "az_cumulative['treatment_region'] = MSA_MARKET\n",
    "az_cumulative['treatment_start'] = int_dates['year_month'].min()\n",
    "az_cumulative['treatment_end'] = int_dates['year_month'].max()\n",
    "#az_cumulative_join = pd.merge(az_cumulative_final, az_cumulative, on = 'Index_Number', how = 'inner')\n",
    "\n",
    "#az_cumulative['counter_io_count'] = az_cumulative_join['io_count'] - az_join['mean']\n",
    "az_cumulative['perc_lift'] = round((az_cumulative['io_sum'] - \\\n",
    "    az_cumulative['counter_io_sum'])/az_cumulative['counter_io_sum'], 4)\n",
    "\n",
    "az_cumulative_final = az_cumulative[['treatment_region', 'treatment_start', 'treatment_end', \\\n",
    "    'io_sum', 'counter_io_sum', 'mean', 'sd','perc_lift', 'bayes_Stat_Sig', 'hdi_5%', 'hdi_95%','mcse_mean', 'mcse_sd' ]]\n",
    "\n",
    "az_cumulative_final =az_cumulative_final.rename(columns = {'mean': 'bayes_uplift'})\n",
    "az_cumulative_final.head()"
   ]
  },
  {
   "cell_type": "code",
   "execution_count": 67,
   "id": "aab309e8",
   "metadata": {
    "execution": {
     "iopub.execute_input": "2024-11-22T00:48:02.997391Z",
     "iopub.status.busy": "2024-11-22T00:48:02.997275Z",
     "iopub.status.idle": "2024-11-22T00:48:02.999494Z",
     "shell.execute_reply": "2024-11-22T00:48:02.999290Z"
    },
    "papermill": {
     "duration": 0.011392,
     "end_time": "2024-11-22T00:48:03.000085",
     "exception": false,
     "start_time": "2024-11-22T00:48:02.988693",
     "status": "completed"
    },
    "tags": []
   },
   "outputs": [],
   "source": [
    "# Save with the index column\n",
    "az_cumulative_final.to_csv(f\"{MSA_MARKET}_cumulative_uplift.csv\", index=True)"
   ]
  },
  {
   "cell_type": "markdown",
   "id": "7aff062b",
   "metadata": {
    "papermill": {
     "duration": 0.008569,
     "end_time": "2024-11-22T00:48:03.016728",
     "exception": false,
     "start_time": "2024-11-22T00:48:03.008159",
     "status": "completed"
    },
    "tags": []
   },
   "source": []
  }
 ],
 "metadata": {
  "kernelspec": {
   "display_name": "Python 3",
   "language": "python",
   "name": "python3"
  },
  "language_info": {
   "codemirror_mode": {
    "name": "ipython",
    "version": 3
   },
   "file_extension": ".py",
   "mimetype": "text/x-python",
   "name": "python",
   "nbconvert_exporter": "python",
   "pygments_lexer": "ipython3",
   "version": "3.11.7"
  },
  "papermill": {
   "default_parameters": {},
   "duration": 77.969886,
   "end_time": "2024-11-22T00:48:03.645770",
   "environment_variables": {},
   "exception": null,
   "input_path": "clean_auto_Causal_Impact_IO.ipynb",
   "output_path": "Austin_executed_analysis.ipynb",
   "parameters": {
    "BRAND_MSA": "Austin, TX",
    "MSA_MARKET": "Austin"
   },
   "start_time": "2024-11-22T00:46:45.675884",
   "version": "2.6.0"
  }
 },
 "nbformat": 4,
 "nbformat_minor": 5
}