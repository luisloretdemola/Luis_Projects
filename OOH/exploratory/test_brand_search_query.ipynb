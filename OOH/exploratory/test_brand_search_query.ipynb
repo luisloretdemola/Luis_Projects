{
 "cells": [
  {
   "cell_type": "code",
   "execution_count": 2,
   "metadata": {},
   "outputs": [],
   "source": [
    "import pandas as pd\n",
    "import datetime as dt\n",
    "import numpy as np\n",
    "from snowflake.connector.pandas_tools import write_pandas\n",
    "import snowflake.connector\n",
    "import os\n",
    "\n",
    "\n",
    "def run_brand_search_query(treatment_metro, treatment_region):\n",
    "    # Establish connection to Snowflake\n",
    "    conn = snowflake.connector.connect(account ='justworks-main',\n",
    "                                            user= 'lmola@justworks.com',\n",
    "                                            authenticator=\"externalbrowser\")\n",
    "    cur = conn.cursor()\n",
    "\n",
    "    cur.execute(\"USE DATABASE prod_ent_db;\")\n",
    "    \n",
    "    # Define the query\n",
    "    brand_query = \"\"\" \n",
    "    with campaign_spend as (select state, region, metro, sum(m.cost_usd) as spend,\n",
    "    sum(m.impression_count) as impressions,sum(m.click_count) as clicks,\n",
    "    DATE_TRUNC('MONTH', to_date(m.metric_date)) AS month_start\n",
    "\n",
    "\n",
    "    from  prod_analytics_db.marketing.fact_marketing_performance_daily_ad_metrics m \n",
    "\n",
    "    join prod_analytics_db.marketing.dim_marketing_performance_campaigns c\n",
    "\n",
    "    on m.campaign_id = c.campaign_id\n",
    "\n",
    "    join prod_analytics_db.marketing.dim_marketing_performance_ad_groups ad\n",
    "    on m.ad_group_id = ad.ad_group_id\n",
    "\n",
    "    left join (Select fiscal_year_quarter\n",
    "    , r.month_name\n",
    "    , r.date,day_of_week_name\n",
    "    ,fiscal_week_num\n",
    "    ,day_of_fiscal_quarter_num\n",
    "    ,fiscal_quarter\n",
    "    ,fiscal_year\n",
    "    ,first_value(r.date) over(partition by iso_running_week order by r.date asc) AS week_of_qtr\n",
    "\n",
    "    from community_db.ent_static.reference_dates r)ro\n",
    "\n",
    "    on ro.date= m.metric_date\n",
    "\n",
    "\n",
    "    where metric_date >= '2022-06-01'\n",
    "\n",
    "    and ad.type in ('SEARCH_STANDARD')\n",
    "\n",
    "    and (campaign_name like '%Brand%'\n",
    "    or campaign_name like '%BRAND%'\n",
    "    or campaign_name like '%BRD%' \n",
    "    or campaign_name like '%branded%'\n",
    "    or campaign_name like '%justworks%'\n",
    "    or campaign_name like '%just%')\n",
    "    \n",
    "\n",
    "    group by state, region, metro, month_start)\n",
    "    --spend_month, spend_year)\n",
    "    --7, 8, 9, 10, 11, 12, 13, 14, 15, 16)\n",
    "    --4,5,6,7,8,9,10,11,12,13)\n",
    "\n",
    "    select * from campaign_spend ;\n",
    "\n",
    "    \"\"\"\n",
    "    \n",
    "    # Execute the query and load results into a DataFrame\n",
    "    df = pd.read_sql(brand_query, conn)\n",
    "\n",
    "    # Close the connection\n",
    "    conn.close()\n",
    "    \n",
    "    final_df = df[(df['METRO'] == treatment_metro) & (df['REGION'] == treatment_region)]\n",
    "\n",
    "    return final_df\n"
   ]
  },
  {
   "cell_type": "code",
   "execution_count": 3,
   "metadata": {},
   "outputs": [
    {
     "name": "stdout",
     "output_type": "stream",
     "text": [
      "Initiating login request with your identity provider. A browser window should have opened for you to complete the login. If you can't see it, check existing browser windows, or your OS settings. Press CTRL+C to abort and try again...\n",
      "Going to open: https://justworks.cloudflareaccess.com/cdn-cgi/access/sso/saml/d74bc06bca5abf66677a16a11e6235e70f0ac75f0e462ccdea97b5bcb5cab993?SAMLRequest=lZNfb9owFMW%2FSuQ9J3YCSYgFVKyMLVW7okIrxpvjOODh2KntkPLtZ%2F5JnaZW2lt0c65%2F595jD2%2FeauHtmTZcyREIAwQ8JqkqudyMwPNy5g%2BAZyyRJRFKshE4MANuxkNDatHgSWu38om9tsxYzx0kDT7%2BGIFWS6yI4QZLUjODLcWLycM9jgKEiTFMW4cDl5bScMfaWttgCLuuC7peoPQGRgghiDLoVEfJF%2FAO0XzOaLSyiipxbXlzM32ACCHqHxFO4QjzS%2BNXLs8r%2BIxSnEUG%2F1gu5%2F78cbEE3uQ63a2Spq2ZXjC955Q9P92fDRjn4HdrbKf0zvg14TIwUnWVIDtGVd201h0ZuC9YsRIKteFuUfl0BJodL1fz%2FC5V9DVdoXRL9Ow76VWLqN2Jw7flr9l6jh4H67uXfbKKcwq8l2us0THW3JiW5fIYpnUlFPX9MPTDbBkmOM5wNAjCJFsDb%2BrC5JLYU%2Bc%2FjgMqVFs6t5oRSpkxJ6u0lD7dcHguQWMUPKYEy7RfUJQUlMSkqJIkSVMSJiQMWRL1YpaiChGaxhVi%2FSSitGQkS4u4oEVMSZFlPXC%2BafjkXY%2F%2Fa39D%2BL71cmN%2FuhDz6VwJTg%2FeTOma2I8zDoPwVOGlX52kmDmemJSldlO6rIVQ3a1bhHUPw%2BqWATg%2BU%2F9%2BGuM%2F&RelayState=ver%3A1-hint%3A5006656328985510-ETMsDgAAAZNFXWIpABRBRVMvQ0JDL1BLQ1M1UGFkZGluZwEAABAAENx27WspRIesDeDlMXYtvFgAAACAfZw8eh3royuJXgJepm0DwQRCCr%2FH%2FZGk47omWdIkzPFIdaZjvg4g1HG%2BTee0%2FGwXT1oVLf5ej9uOLyN1tRAgYheDCt6g02gBnbndahXkJRa3CJ18NeXHV8UnpIAvOoKo3hVjaVHkJb%2F9MrfzKmD64bc3KWQgqsm69mV9PUyBmbYAFJd9ZkaurGb7iCclaNha29OrvoNO to authenticate...\n"
     ]
    },
    {
     "name": "stderr",
     "output_type": "stream",
     "text": [
      "/var/folders/sb/n8yqrs6n7y9ghs7jf_2n7h280000gp/T/ipykernel_51280/2830233375.py:70: UserWarning: pandas only supports SQLAlchemy connectable (engine/connection) or database string URI or sqlite3 DBAPI2 connection. Other DBAPI2 objects are not tested. Please consider using SQLAlchemy.\n",
      "  df = pd.read_sql(brand_query, conn)\n"
     ]
    },
    {
     "name": "stdout",
     "output_type": "stream",
     "text": [
      "         STATE    REGION         METRO     SPEND  IMPRESSIONS  CLICKS  \\\n",
      "48    New York  New York  New York, NY   5247.86         9006    2602   \n",
      "163   New York  New York  New York, NY  15427.24         5246    2025   \n",
      "216   New York  New York  New York, NY   8888.67         7372    2094   \n",
      "887   New York  New York  New York, NY   6109.01         6947    1882   \n",
      "1391  New York  New York  New York, NY   5338.73         5877    2005   \n",
      "\n",
      "     MONTH_START  \n",
      "48    2023-01-01  \n",
      "163   2024-07-01  \n",
      "216   2023-08-01  \n",
      "887   2022-10-01  \n",
      "1391  2023-05-01  \n"
     ]
    }
   ],
   "source": [
    "brand_search_df = run_brand_search_query('New York, NY', 'New York')\n",
    "#direct_search_df = run_direct_search_query('New York', 'New York')\n",
    "brand_search_df.head()"
   ]
  }
 ],
 "metadata": {
  "kernelspec": {
   "display_name": "Python 3",
   "language": "python",
   "name": "python3"
  },
  "language_info": {
   "codemirror_mode": {
    "name": "ipython",
    "version": 3
   },
   "file_extension": ".py",
   "mimetype": "text/x-python",
   "name": "python",
   "nbconvert_exporter": "python",
   "pygments_lexer": "ipython3",
   "version": "3.11.7"
  }
 },
 "nbformat": 4,
 "nbformat_minor": 2
}
